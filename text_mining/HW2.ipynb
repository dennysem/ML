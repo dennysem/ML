{
 "cells": [
  {
   "cell_type": "code",
   "execution_count": 2,
   "metadata": {
    "collapsed": false
   },
   "outputs": [],
   "source": [
    "import numpy as np\n",
    "import pandas as pd\n",
    "import nltk\n",
    "from nltk.collocations import *\n",
    "from sklearn.feature_extraction.text import CountVectorizer, TfidfVectorizer\n",
    "from sklearn.cluster import KMeans\n",
    "from sklearn.decomposition import PCA\n",
    "from sklearn.manifold import TSNE\n",
    "from sklearn.metrics.pairwise import euclidean_distances\n",
    "\n",
    "import matplotlib.pyplot as plt\n",
    "%matplotlib inline"
   ]
  },
  {
   "cell_type": "code",
   "execution_count": 4,
   "metadata": {
    "collapsed": false
   },
   "outputs": [
    {
     "data": {
      "text/html": [
       "<div>\n",
       "<table border=\"1\" class=\"dataframe\">\n",
       "  <thead>\n",
       "    <tr style=\"text-align: right;\">\n",
       "      <th></th>\n",
       "      <th>Id</th>\n",
       "      <th>DocNumber</th>\n",
       "      <th>MetadataSubject</th>\n",
       "      <th>MetadataTo</th>\n",
       "      <th>MetadataFrom</th>\n",
       "      <th>SenderPersonId</th>\n",
       "      <th>MetadataDateSent</th>\n",
       "      <th>MetadataDateReleased</th>\n",
       "      <th>MetadataPdfLink</th>\n",
       "      <th>MetadataCaseNumber</th>\n",
       "      <th>...</th>\n",
       "      <th>ExtractedTo</th>\n",
       "      <th>ExtractedFrom</th>\n",
       "      <th>ExtractedCc</th>\n",
       "      <th>ExtractedDateSent</th>\n",
       "      <th>ExtractedCaseNumber</th>\n",
       "      <th>ExtractedDocNumber</th>\n",
       "      <th>ExtractedDateReleased</th>\n",
       "      <th>ExtractedReleaseInPartOrFull</th>\n",
       "      <th>ExtractedBodyText</th>\n",
       "      <th>RawText</th>\n",
       "    </tr>\n",
       "  </thead>\n",
       "  <tbody>\n",
       "    <tr>\n",
       "      <th>0</th>\n",
       "      <td>1</td>\n",
       "      <td>C05739545</td>\n",
       "      <td>WOW</td>\n",
       "      <td>H</td>\n",
       "      <td>Sullivan, Jacob J</td>\n",
       "      <td>87.0</td>\n",
       "      <td>2012-09-12T04:00:00+00:00</td>\n",
       "      <td>2015-05-22T04:00:00+00:00</td>\n",
       "      <td>DOCUMENTS/HRC_Email_1_296/HRCH2/DOC_0C05739545...</td>\n",
       "      <td>F-2015-04841</td>\n",
       "      <td>...</td>\n",
       "      <td>NaN</td>\n",
       "      <td>Sullivan, Jacob J &lt;Sullivan11@state.gov&gt;</td>\n",
       "      <td>NaN</td>\n",
       "      <td>Wednesday, September 12, 2012 10:16 AM</td>\n",
       "      <td>F-2015-04841</td>\n",
       "      <td>C05739545</td>\n",
       "      <td>05/13/2015</td>\n",
       "      <td>RELEASE IN FULL</td>\n",
       "      <td>NaN</td>\n",
       "      <td>UNCLASSIFIED\\nU.S. Department of State\\nCase N...</td>\n",
       "    </tr>\n",
       "    <tr>\n",
       "      <th>1</th>\n",
       "      <td>2</td>\n",
       "      <td>C05739546</td>\n",
       "      <td>H: LATEST: HOW SYRIA IS AIDING QADDAFI AND MOR...</td>\n",
       "      <td>H</td>\n",
       "      <td>NaN</td>\n",
       "      <td>NaN</td>\n",
       "      <td>2011-03-03T05:00:00+00:00</td>\n",
       "      <td>2015-05-22T04:00:00+00:00</td>\n",
       "      <td>DOCUMENTS/HRC_Email_1_296/HRCH1/DOC_0C05739546...</td>\n",
       "      <td>F-2015-04841</td>\n",
       "      <td>...</td>\n",
       "      <td>NaN</td>\n",
       "      <td>NaN</td>\n",
       "      <td>NaN</td>\n",
       "      <td>NaN</td>\n",
       "      <td>F-2015-04841</td>\n",
       "      <td>C05739546</td>\n",
       "      <td>05/13/2015</td>\n",
       "      <td>RELEASE IN PART</td>\n",
       "      <td>B6\\nThursday, March 3, 2011 9:45 PM\\nH: Latest...</td>\n",
       "      <td>UNCLASSIFIED\\nU.S. Department of State\\nCase N...</td>\n",
       "    </tr>\n",
       "    <tr>\n",
       "      <th>2</th>\n",
       "      <td>3</td>\n",
       "      <td>C05739547</td>\n",
       "      <td>CHRIS STEVENS</td>\n",
       "      <td>;H</td>\n",
       "      <td>Mills, Cheryl D</td>\n",
       "      <td>32.0</td>\n",
       "      <td>2012-09-12T04:00:00+00:00</td>\n",
       "      <td>2015-05-22T04:00:00+00:00</td>\n",
       "      <td>DOCUMENTS/HRC_Email_1_296/HRCH2/DOC_0C05739547...</td>\n",
       "      <td>F-2015-04841</td>\n",
       "      <td>...</td>\n",
       "      <td>B6</td>\n",
       "      <td>Mills, Cheryl D &lt;MillsCD@state.gov&gt;</td>\n",
       "      <td>Abedin, Huma</td>\n",
       "      <td>Wednesday, September 12, 2012 11:52 AM</td>\n",
       "      <td>F-2015-04841</td>\n",
       "      <td>C05739547</td>\n",
       "      <td>05/14/2015</td>\n",
       "      <td>RELEASE IN PART</td>\n",
       "      <td>Thx</td>\n",
       "      <td>UNCLASSIFIED\\nU.S. Department of State\\nCase N...</td>\n",
       "    </tr>\n",
       "    <tr>\n",
       "      <th>3</th>\n",
       "      <td>4</td>\n",
       "      <td>C05739550</td>\n",
       "      <td>CAIRO CONDEMNATION - FINAL</td>\n",
       "      <td>H</td>\n",
       "      <td>Mills, Cheryl D</td>\n",
       "      <td>32.0</td>\n",
       "      <td>2012-09-12T04:00:00+00:00</td>\n",
       "      <td>2015-05-22T04:00:00+00:00</td>\n",
       "      <td>DOCUMENTS/HRC_Email_1_296/HRCH2/DOC_0C05739550...</td>\n",
       "      <td>F-2015-04841</td>\n",
       "      <td>...</td>\n",
       "      <td>NaN</td>\n",
       "      <td>Mills, Cheryl D &lt;MillsCD@state.gov&gt;</td>\n",
       "      <td>Mitchell, Andrew B</td>\n",
       "      <td>Wednesday, September 12,2012 12:44 PM</td>\n",
       "      <td>F-2015-04841</td>\n",
       "      <td>C05739550</td>\n",
       "      <td>05/13/2015</td>\n",
       "      <td>RELEASE IN PART</td>\n",
       "      <td>NaN</td>\n",
       "      <td>UNCLASSIFIED\\nU.S. Department of State\\nCase N...</td>\n",
       "    </tr>\n",
       "    <tr>\n",
       "      <th>4</th>\n",
       "      <td>5</td>\n",
       "      <td>C05739554</td>\n",
       "      <td>H: LATEST: HOW SYRIA IS AIDING QADDAFI AND MOR...</td>\n",
       "      <td>Abedin, Huma</td>\n",
       "      <td>H</td>\n",
       "      <td>80.0</td>\n",
       "      <td>2011-03-11T05:00:00+00:00</td>\n",
       "      <td>2015-05-22T04:00:00+00:00</td>\n",
       "      <td>DOCUMENTS/HRC_Email_1_296/HRCH1/DOC_0C05739554...</td>\n",
       "      <td>F-2015-04841</td>\n",
       "      <td>...</td>\n",
       "      <td>NaN</td>\n",
       "      <td>NaN</td>\n",
       "      <td>NaN</td>\n",
       "      <td>NaN</td>\n",
       "      <td>F-2015-04841</td>\n",
       "      <td>C05739554</td>\n",
       "      <td>05/13/2015</td>\n",
       "      <td>RELEASE IN PART</td>\n",
       "      <td>H &lt;hrod17@clintonemail.com&gt;\\nFriday, March 11,...</td>\n",
       "      <td>B6\\nUNCLASSIFIED\\nU.S. Department of State\\nCa...</td>\n",
       "    </tr>\n",
       "  </tbody>\n",
       "</table>\n",
       "<p>5 rows × 22 columns</p>\n",
       "</div>"
      ],
      "text/plain": [
       "   Id  DocNumber                                    MetadataSubject  \\\n",
       "0   1  C05739545                                                WOW   \n",
       "1   2  C05739546  H: LATEST: HOW SYRIA IS AIDING QADDAFI AND MOR...   \n",
       "2   3  C05739547                                      CHRIS STEVENS   \n",
       "3   4  C05739550                         CAIRO CONDEMNATION - FINAL   \n",
       "4   5  C05739554  H: LATEST: HOW SYRIA IS AIDING QADDAFI AND MOR...   \n",
       "\n",
       "     MetadataTo       MetadataFrom  SenderPersonId           MetadataDateSent  \\\n",
       "0             H  Sullivan, Jacob J            87.0  2012-09-12T04:00:00+00:00   \n",
       "1             H                NaN             NaN  2011-03-03T05:00:00+00:00   \n",
       "2            ;H    Mills, Cheryl D            32.0  2012-09-12T04:00:00+00:00   \n",
       "3             H    Mills, Cheryl D            32.0  2012-09-12T04:00:00+00:00   \n",
       "4  Abedin, Huma                  H            80.0  2011-03-11T05:00:00+00:00   \n",
       "\n",
       "        MetadataDateReleased  \\\n",
       "0  2015-05-22T04:00:00+00:00   \n",
       "1  2015-05-22T04:00:00+00:00   \n",
       "2  2015-05-22T04:00:00+00:00   \n",
       "3  2015-05-22T04:00:00+00:00   \n",
       "4  2015-05-22T04:00:00+00:00   \n",
       "\n",
       "                                     MetadataPdfLink MetadataCaseNumber  \\\n",
       "0  DOCUMENTS/HRC_Email_1_296/HRCH2/DOC_0C05739545...       F-2015-04841   \n",
       "1  DOCUMENTS/HRC_Email_1_296/HRCH1/DOC_0C05739546...       F-2015-04841   \n",
       "2  DOCUMENTS/HRC_Email_1_296/HRCH2/DOC_0C05739547...       F-2015-04841   \n",
       "3  DOCUMENTS/HRC_Email_1_296/HRCH2/DOC_0C05739550...       F-2015-04841   \n",
       "4  DOCUMENTS/HRC_Email_1_296/HRCH1/DOC_0C05739554...       F-2015-04841   \n",
       "\n",
       "                         ...                         ExtractedTo  \\\n",
       "0                        ...                                 NaN   \n",
       "1                        ...                                 NaN   \n",
       "2                        ...                                  B6   \n",
       "3                        ...                                 NaN   \n",
       "4                        ...                                 NaN   \n",
       "\n",
       "                              ExtractedFrom         ExtractedCc  \\\n",
       "0  Sullivan, Jacob J <Sullivan11@state.gov>                 NaN   \n",
       "1                                       NaN                 NaN   \n",
       "2       Mills, Cheryl D <MillsCD@state.gov>        Abedin, Huma   \n",
       "3       Mills, Cheryl D <MillsCD@state.gov>  Mitchell, Andrew B   \n",
       "4                                       NaN                 NaN   \n",
       "\n",
       "                        ExtractedDateSent ExtractedCaseNumber  \\\n",
       "0  Wednesday, September 12, 2012 10:16 AM        F-2015-04841   \n",
       "1                                     NaN        F-2015-04841   \n",
       "2  Wednesday, September 12, 2012 11:52 AM        F-2015-04841   \n",
       "3   Wednesday, September 12,2012 12:44 PM        F-2015-04841   \n",
       "4                                     NaN        F-2015-04841   \n",
       "\n",
       "  ExtractedDocNumber ExtractedDateReleased ExtractedReleaseInPartOrFull  \\\n",
       "0          C05739545            05/13/2015              RELEASE IN FULL   \n",
       "1          C05739546            05/13/2015              RELEASE IN PART   \n",
       "2          C05739547            05/14/2015              RELEASE IN PART   \n",
       "3          C05739550            05/13/2015              RELEASE IN PART   \n",
       "4          C05739554            05/13/2015              RELEASE IN PART   \n",
       "\n",
       "                                   ExtractedBodyText  \\\n",
       "0                                                NaN   \n",
       "1  B6\\nThursday, March 3, 2011 9:45 PM\\nH: Latest...   \n",
       "2                                                Thx   \n",
       "3                                                NaN   \n",
       "4  H <hrod17@clintonemail.com>\\nFriday, March 11,...   \n",
       "\n",
       "                                             RawText  \n",
       "0  UNCLASSIFIED\\nU.S. Department of State\\nCase N...  \n",
       "1  UNCLASSIFIED\\nU.S. Department of State\\nCase N...  \n",
       "2  UNCLASSIFIED\\nU.S. Department of State\\nCase N...  \n",
       "3  UNCLASSIFIED\\nU.S. Department of State\\nCase N...  \n",
       "4  B6\\nUNCLASSIFIED\\nU.S. Department of State\\nCa...  \n",
       "\n",
       "[5 rows x 22 columns]"
      ]
     },
     "execution_count": 4,
     "metadata": {},
     "output_type": "execute_result"
    }
   ],
   "source": [
    "data = pd.read_csv('./Emails.csv')\n",
    "data.head()"
   ]
  },
  {
   "cell_type": "code",
   "execution_count": 5,
   "metadata": {
    "collapsed": false
   },
   "outputs": [
    {
     "data": {
      "text/plain": [
       "(6742,)"
      ]
     },
     "execution_count": 5,
     "metadata": {},
     "output_type": "execute_result"
    }
   ],
   "source": [
    "data = data.ExtractedBodyText.dropna().values\n",
    "data.shape"
   ]
  },
  {
   "cell_type": "code",
   "execution_count": 6,
   "metadata": {
    "collapsed": false
   },
   "outputs": [
    {
     "name": "stdout",
     "output_type": "stream",
     "text": [
      "--------------------------------------------------\n",
      "B6\n",
      "Thursday, March 3, 2011 9:45 PM\n",
      "H: Latest How Syria is aiding Qaddafi and more... Sid\n",
      "hrc memo syria aiding libya 030311.docx; hrc memo syria aiding libya 030311.docx\n",
      "March 3, 2011\n",
      "For: Hillary\n",
      "--------------------------------------------------\n",
      "Thx\n",
      "--------------------------------------------------\n",
      "H <hrod17@clintonemail.com>\n",
      "Friday, March 11, 2011 1:36 PM\n",
      "Huma Abedin\n",
      "Fw: H: Latest: How Syria is aiding Qaddafi and more... Sid\n",
      "hrc memo syria aiding libya 030311.docx\n",
      "Pis print.\n",
      "--------------------------------------------------\n",
      "Pis print.\n",
      "-•-...-^\n",
      "H < hrod17@clintonernailcom>\n",
      "Wednesday, September 12, 2012 2:11 PM\n",
      "°Russorv@state.gov'\n",
      "Fw: Meet The Right-Wing Extremist Behind Anti-fvluslim Film That Sparked Deadly Riots\n",
      "From [meat)\n",
      "Sent: Wednesday, September 12, 2012 01:00 PM\n",
      "To: 11\n",
      "Subject: Meet The Right Wing Extremist Behind Anti-Muslim Film That Sparked Deadly Riots\n",
      "htte/maxbiumenthal.com12012/09/meet-the-right-wing-extremist-behind-anti-musiim-tihn-that-sparked-\n",
      "deadly-riots/\n",
      "Sent from my Verizon Wireless 4G LTE DROID\n",
      "U.S. Department of State\n",
      "Case No. F-2015-04841\n",
      "Doc No. C05739559\n",
      "Date: 05/13/2015\n",
      "STATE DEPT. - PRODUCED TO HOUSE SELECT BENGHAZI COMM.\n",
      "SUBJECT TO AGREEMENT ON SENSITIVE INFORMATION & REDACTIONS. NO FOIA WAIVER. STATE-5CB0045251\n",
      "--------------------------------------------------\n",
      "H <hrod17@clintonemail.corn>\n",
      "Friday, March 11, 2011 1:36 PM\n",
      "Huma Abedin\n",
      "Fw: H: Latest: How Syria is aiding Qaddafi and more... Sid\n",
      "hrc memo Syria aiding libya 030311.docx\n",
      "Pis print.\n",
      "--------------------------------------------------\n",
      "FYI\n",
      "--------------------------------------------------\n",
      "B6\n",
      "Wednesday, September 12, 2012 6:16 PM\n",
      "Fwd: more on libya\n",
      "Libya 37 sept 12 12.docx\n",
      "Sending direct. Just in.\n",
      "Sent from my Verizon Wireless 4G LTE DRUID\n",
      "--------------------------------------------------\n",
      "Fyi\n",
      "B6\n",
      "— —\n",
      "--------------------------------------------------\n",
      "B6\n",
      "Wednesday, September 12, 2012 6:16 PM\n",
      "Fwd: more on libya\n",
      "Libya 37 sept 12 12.docx\n",
      "Sending direct. Just in.\n",
      "Sent from my Verizon Wireless 4G LTE DRUID\n",
      "--------------------------------------------------\n",
      "Fyi\n"
     ]
    }
   ],
   "source": [
    "for i in range(10):\n",
    "    print('-'*50)\n",
    "    print(data[i])"
   ]
  },
  {
   "cell_type": "code",
   "execution_count": 6,
   "metadata": {
    "collapsed": true
   },
   "outputs": [],
   "source": [
    "data = [' '.join(x.split('\\n')) for x in data]"
   ]
  },
  {
   "cell_type": "code",
   "execution_count": 9,
   "metadata": {
    "collapsed": false
   },
   "outputs": [
    {
     "data": {
      "text/plain": [
       "CountVectorizer(analyzer=u'word', binary=False, decode_error=u'strict',\n",
       "        dtype=<type 'numpy.int64'>, encoding=u'utf-8', input=u'content',\n",
       "        lowercase=True, max_df=1.0, max_features=None, min_df=0,\n",
       "        ngram_range=(1, 1), preprocessor=None, stop_words=None,\n",
       "        strip_accents=None, token_pattern=u'(?u)\\\\b\\\\w\\\\w+\\\\b',\n",
       "        tokenizer=None, vocabulary=None)"
      ]
     },
     "execution_count": 9,
     "metadata": {},
     "output_type": "execute_result"
    }
   ],
   "source": [
    "vectorizer = CountVectorizer(min_df=0, max_df=1.0, lowercase=True)\n",
    "vectorizer.fit(data)"
   ]
  },
  {
   "cell_type": "markdown",
   "metadata": {},
   "source": [
    "**Размер сырого словаря**"
   ]
  },
  {
   "cell_type": "code",
   "execution_count": 10,
   "metadata": {
    "collapsed": false
   },
   "outputs": [
    {
     "data": {
      "text/plain": [
       "28786"
      ]
     },
     "execution_count": 10,
     "metadata": {},
     "output_type": "execute_result"
    }
   ],
   "source": [
    "len(vectorizer.vocabulary_)"
   ]
  },
  {
   "cell_type": "markdown",
   "metadata": {},
   "source": [
    "** Выкинем высокочастотные и низкочастотные слова**"
   ]
  },
  {
   "cell_type": "code",
   "execution_count": 53,
   "metadata": {
    "collapsed": false
   },
   "outputs": [
    {
     "data": {
      "text/plain": [
       "8637"
      ]
     },
     "execution_count": 53,
     "metadata": {},
     "output_type": "execute_result"
    }
   ],
   "source": [
    "vectorizer = CountVectorizer(min_df=0.0005, max_df=.3, lowercase=True)\n",
    "vectorizer.fit(data)\n",
    "len(vectorizer.vocabulary_)"
   ]
  },
  {
   "cell_type": "code",
   "execution_count": 54,
   "metadata": {
    "collapsed": true
   },
   "outputs": [],
   "source": [
    "vocab = set(vectorizer.get_feature_names())"
   ]
  },
  {
   "cell_type": "code",
   "execution_count": 55,
   "metadata": {
    "collapsed": false
   },
   "outputs": [],
   "source": [
    "def clean_doc(doc):\n",
    "    return ' '.join(filter(lambda x: x in vocab, doc.split()))\n",
    "cleaned_data = list(filter(lambda x: len(x)>0, [clean_doc(doc) for doc in data]))"
   ]
  },
  {
   "cell_type": "code",
   "execution_count": 56,
   "metadata": {
    "collapsed": false
   },
   "outputs": [
    {
     "data": {
      "text/plain": [
       "5671"
      ]
     },
     "execution_count": 56,
     "metadata": {},
     "output_type": "execute_result"
    }
   ],
   "source": [
    "len(cleaned_data)"
   ]
  },
  {
   "cell_type": "markdown",
   "metadata": {},
   "source": [
    "## Коллокации"
   ]
  },
  {
   "cell_type": "code",
   "execution_count": 57,
   "metadata": {
    "collapsed": true
   },
   "outputs": [],
   "source": [
    "docs = [x.split() for x in cleaned_data]"
   ]
  },
  {
   "cell_type": "code",
   "execution_count": 58,
   "metadata": {
    "collapsed": false
   },
   "outputs": [
    {
     "data": {
      "text/plain": [
       "[('aung', 'san'),\n",
       " ('harold', 'koh'),\n",
       " ('harry', 'jesse'),\n",
       " ('honduras', 'copenhagen'),\n",
       " ('jen', 'hanley'),\n",
       " ('jesse', 'karen'),\n",
       " ('kim', 'harry'),\n",
       " ('michael', 'turner'),\n",
       " ('pam', 'mills'),\n",
       " ('quetta', 'shura')]"
      ]
     },
     "execution_count": 58,
     "metadata": {},
     "output_type": "execute_result"
    }
   ],
   "source": [
    "bigram_measures = nltk.collocations.BigramAssocMeasures()\n",
    "finder = BigramCollocationFinder.from_documents(docs)\n",
    "finder.nbest(bigram_measures.pmi, 10)"
   ]
  },
  {
   "cell_type": "markdown",
   "metadata": {},
   "source": [
    "## Кластеризуем"
   ]
  },
  {
   "cell_type": "code",
   "execution_count": 59,
   "metadata": {
    "collapsed": false
   },
   "outputs": [
    {
     "name": "stdout",
     "output_type": "stream",
     "text": [
      "CPU times: user 566 ms, sys: 273 ms, total: 839 ms\n",
      "Wall time: 947 ms\n"
     ]
    }
   ],
   "source": [
    "%%time\n",
    "vectorizer = TfidfVectorizer()\n",
    "X_vectorized = np.array(vectorizer.fit_transform(cleaned_data).todense())"
   ]
  },
  {
   "cell_type": "code",
   "execution_count": 60,
   "metadata": {
    "collapsed": false
   },
   "outputs": [
    {
     "data": {
      "text/plain": [
       "(5671, 7412)"
      ]
     },
     "execution_count": 60,
     "metadata": {},
     "output_type": "execute_result"
    }
   ],
   "source": [
    "X_vectorized.shape"
   ]
  },
  {
   "cell_type": "code",
   "execution_count": 61,
   "metadata": {
    "collapsed": false
   },
   "outputs": [
    {
     "name": "stdout",
     "output_type": "stream",
     "text": [
      "CPU times: user 1min 9s, sys: 570 ms, total: 1min 10s\n",
      "Wall time: 36.4 s\n"
     ]
    }
   ],
   "source": [
    "%%time\n",
    "kmeans = KMeans(n_clusters=10)\n",
    "y = kmeans.fit_predict(X_vectorized)"
   ]
  },
  {
   "cell_type": "code",
   "execution_count": 62,
   "metadata": {
    "collapsed": false
   },
   "outputs": [
    {
     "data": {
      "text/plain": [
       "9    0.403104\n",
       "6    0.275436\n",
       "1    0.083583\n",
       "0    0.060483\n",
       "8    0.058896\n",
       "4    0.031388\n",
       "7    0.028743\n",
       "2    0.028390\n",
       "3    0.015165\n",
       "5    0.014812\n",
       "dtype: float64"
      ]
     },
     "execution_count": 62,
     "metadata": {},
     "output_type": "execute_result"
    }
   ],
   "source": [
    "pd.Series(y).value_counts(normalize=True)"
   ]
  },
  {
   "cell_type": "markdown",
   "metadata": {},
   "source": [
    "Воспользуемся PCA для визуализации"
   ]
  },
  {
   "cell_type": "code",
   "execution_count": 63,
   "metadata": {
    "collapsed": false
   },
   "outputs": [
    {
     "name": "stdout",
     "output_type": "stream",
     "text": [
      "CPU times: user 2min 50s, sys: 1.89 s, total: 2min 52s\n",
      "Wall time: 1min 28s\n"
     ]
    }
   ],
   "source": [
    "%time X_pca = PCA(n_components=2).fit_transform(X_vectorized)"
   ]
  },
  {
   "cell_type": "code",
   "execution_count": 64,
   "metadata": {
    "collapsed": false
   },
   "outputs": [
    {
     "data": {
      "image/png": "[encoded data removed]",
      "text/plain": [
       "<matplotlib.figure.Figure at 0x11afbe650>"
      ]
     },
     "metadata": {},
     "output_type": "display_data"
    }
   ],
   "source": [
    "plt.scatter(X_pca[:, 0], X_pca[:, 1], c=y)\n",
    "plt.show()"
   ]
  },
  {
   "cell_type": "markdown",
   "metadata": {},
   "source": [
    "Выведем 10-топ слов для каждого кластера:"
   ]
  },
  {
   "cell_type": "code",
   "execution_count": 65,
   "metadata": {
    "collapsed": false
   },
   "outputs": [
    {
     "name": "stdout",
     "output_type": "stream",
     "text": [
      "CLUSTER 0: \n",
      "[u'call', u'will', u'for', u'me', u'can', u'on', u'add', u'sheet', u'in', u'him']\n",
      "CLUSTER 1: \n",
      "[u'of', u'in', u'that', u'is', u'for', u'with', u'on', u'as', u'was', u'by']\n",
      "CLUSTER 2: \n",
      "[u'2009', u'for', u'in', u'on', u'below', u'is', u'meeting', u'of', u'call', u'list']\n",
      "CLUSTER 3: \n",
      "[u'fyi', u'2009', u'2010', u'from', u'of', u'context', u'message', u'wjc', u'highlighted', u'below']\n",
      "CLUSTER 4: \n",
      "[u'do', u'can', u'we', u'at', u'will', u'if', u'want', u'it', u'tomorrow', u'or']\n",
      "CLUSTER 5: \n",
      "[u'pm', u'am', u'route', u'8th', u'via', u'photo', u'spray', u'in', u'7th', u'7516']\n",
      "CLUSTER 6: \n",
      "[u'is', u'on', u'will', u'for', u'in', u'it', u'be', u'of', u'we', u'that']\n",
      "CLUSTER 7: \n",
      "[u'2010', u'of', u'for', u'on', u'at', u'memo', u'letter', u'is', u'from', u'up']\n",
      "CLUSTER 8: \n",
      "[u'at', u'of', u'will', u'be', u'please', u'on', u'am', u'for', u'me', u'have']\n",
      "CLUSTER 9: \n",
      "[u'for', u'from', u'in', u'me', u'of', u'on', u'see', u'have', u'about', u'this']\n"
     ]
    }
   ],
   "source": [
    "for i in range(10):\n",
    "    top_idxs = np.argsort(kmeans.cluster_centers_[i])[::-1][:10]\n",
    "    print \"CLUSTER {0}: \".format(i)\n",
    "    top_words = []\n",
    "    for idx in top_idxs:\n",
    "        top_words.append(vectorizer.get_feature_names()[idx])\n",
    "    print top_words\n",
    "    "
   ]
  },
  {
   "cell_type": "markdown",
   "metadata": {},
   "source": [
    "Не очень интерпретируемо"
   ]
  },
  {
   "cell_type": "markdown",
   "metadata": {},
   "source": [
    "**Выведем ближайшие к центроидам кластеров семплы из датасета**"
   ]
  },
  {
   "cell_type": "code",
   "execution_count": 66,
   "metadata": {
    "collapsed": false
   },
   "outputs": [
    {
     "data": {
      "text/plain": [
       "array([ 1.07632748,  1.07529648,  1.06680853, ...,  1.06104558,\n",
       "        1.04216068,  1.02638126])"
      ]
     },
     "execution_count": 66,
     "metadata": {},
     "output_type": "execute_result"
    }
   ],
   "source": [
    "euclidean_distances(X_vectorized, [kmeans.cluster_centers_[0]])[:,0]"
   ]
  },
  {
   "cell_type": "code",
   "execution_count": 67,
   "metadata": {
    "collapsed": false,
    "scrolled": false
   },
   "outputs": [
    {
     "name": "stdout",
     "output_type": "stream",
     "text": [
      "CLUSTER 0:\n",
      "call\n",
      "call\n",
      "call\n",
      "CLUSTER 1:\n",
      "sbwhoeop 2010 fyi this page content how broken is nominees for executive posts have been approved by committees because of come up for vote in full leaving jobs across upper levels of of cloture votes reflects only small fraction of senatorial hundred bills passed by have been prevented from even coming up for debate in by 2010 watch us for seven one senator says of know what see is just one of those days when want throw up your hands in world are we senior senator from has become were in into before in press which is directly behind was on in matching jacket looked over his rule in time we started looking at some of these was referring which requires unanimous consent for committees hold hearings after two in afternoon while is in had scheduled hearings that day for it be difficult get colleagues general an admiral had around world appear before on of was investigating training of this was day after signed in victory ceremony at it was also day that was vote on reconciliation bill for approved by three nights which would remove new most embarrassing deals complete process of passing universal health who had fought bill as were in no mood make things four hours when went floor asked for consent hold his of member of had have no personal objection he is objection on our side of would have had object on behalf of his party because he was only in chamber when when senators give speeches on their colleagues two or three who might be present with or ideas their press or getting their first look at speech about give before eight that provide live feed officer of of majority party take shifts intended introduce them ways of in his chair on his or reading article about from watch us for seven watch know what see in sit there wonder what doing in right there are time killers in which clerk calls roll at rate of one name every few press above is typically as journalists prefer down in press for analysis of current television alert them if something of interest actually happens in only people who pay attention speech are this two men in suits stood facing speaker from few feet tapping at which cash around their chamber is an intimate room where men women go talk themselves for many other aspects of senatorial is from days when senators had around their know what was happening on floor during main afternoon some built as long ago as are their lift like those in an old of are still equipped with brass press with light told me rule is make sure people pay attention happening on floor during debate not be by committee an old had turned this old rule into new means of would be no hearings that general admiral would have come back another investment bankers on senators these days direct much of their creative energy toward manipulation of arcane rules successes while their broader five chamber began as reconciliation bill came up for there were amendments all from perhaps many more debate voting on an amendment might take two legislative but under rules of reconciliation bill senators were dispatch amendments one after as in with minute of debate for each goal was finish bill by end of so that senators miss day of their spring only thing worse than government takeover of usual of where forty minutes can away on clock above double doors without being were about yield from had predicted that known as would go past two in had warned senators stay close of manager of bill for rose is first time in recent memory that reconciliation bill has all amendments on one side are clearly amendments designed kill reconciliation kill very much hope that all of these amendments are of took position on other side of aisle no amendments even if they are he his his voice rose half an they presume is an democratic process is an also considering opposition this out in that people are an chamber is laid out in four with almost touching on crowded of much smaller minority loosely design is meant emphasize avoided eye contact across six feet of aisle that now chamber into two constantly are by speak of one another in third directing their anger through poor happens be officer at of original rules drawn from of senators from conduct or motives another from any there is no rule against his at while shouting at of who had started shift in make no intent of every single one of amendments offered on other side of aisle is kill senator on other side of aisle stood up said that this is hopefully want kill voice of filled time of senator has next nine chamber became stage of whose like almost everything that happens on was known in advance goal in was embarrass while appearing suggest useful goal was prevent any change so that it have return where it might be voted of amendments had been designed make look by forcing them vote against policies that typically for declared that bill could not be linked tax on individuals making less than two hundred thousand dollars amendments were more proposed an amendment that repealed entire from introduced an amendment that veterans with mental illness would not be denied right own another prevent child sex from buying drugs with taxpayer got through minute he was explain his amendment without cracking is not game he actually saves many senators that officer his for amendment offered by senator from makes of this is political aimed at making not public asked for clerk called roll at pay no attention sound of their they cast votes when so in down gentle steps of colleagues about in where sit at then holding finger up or one now just one of hundred senators struggling stay in half minute trying catch eye of clerk so he could cast his two of of in opposing for sex amendment was in chamber during long night one of few that rose above drone was that of who said around with health sharp from who looking for he could into from press senators in their confined space began resemble brown one displayed limited set of in himself few inches his hands down on everyone on became clear which senators were which were social which senators were important which were ignored at his one hand over his was going through her amendments had been voted were proposing fresh we get some before he introduced proposal let senior citizens opt out of parts of was only amendment that any joined controls but of who is can nearly everything in depends on unanimous main business of place is continuous negotiation between these two they played game of his eyes held out prospect of dozens more former was playing off amendments all two leaders left chamber privately about how atmosphere of party set of her hand across her with of momentarily partisan sat down beside held up an finger in his as if casting her then let it go could be heard longest it lasted was thirty in suddenly declared parliamentarian had just found two small of reconciliation meaning that in despite bill would go back for another bang of senators on northeast into her in was off into empty near sat in brown straight as if waiting for someone take him at two in members gathered for final were of of even declared before final legislative fight is one for record was so that he initially voted wrong came in delaying by ten way stretch it told few took in like players on losing team at end of year of reform had for moment had become legislative is often referred as greatest from is phrase that each time hear because amount of real in terms of exchange of is so could remember only one moment of floor debate between memory took with me conversation occurring in which making point challenging each yet nobody else was in from could not recall seeing senator change another would really need good hour or two of extensive exchange among folks that really know he senator typically gives prepared speech already been vetted through another guy gets up gives speech on completely different time senators of same party carry on would be interested in distinguished senator from view of other has been in advance by senators are in their days are scheduled in staff visits from lobbyists caucus committee briefing floor senator sits on three or four committees even more most of which meet during same morning which helps explain why committee tables are often nearly why senators into hearing can barely sustain coherent line of this activity is into for an rule of modern that votes are almost never scheduled for or which allows senators spend four days away from unlike those of several decades often keep their families in their home where they return most even if or endless populist mood of recent became of in he told new members not move their families former we scheduled only day where we could be absolutely certain we had all one hundred senators there was dominates life of senator more than raising any free time would say fifty per maybe even is spent on addition financing their own senators participate at least once week in during which they make calls on behalf of from town house across from office since barred from using their own offices raise insisted that donations are never sufficient actually buy but he sucks up time that senator ought be spending getting know other working on top aides whose was negotiating took time meet with two who themselves were former received more than million dollars from industry for his 2008 reelection according industry groups were spending million day lobby members of speaking of corrosive effect of know it in their know this place is dominated by special bills are not nearly as bold because of influence of of contemporary senator who is too busy for get got get over got have clue on your staff is in your running onto then check with your double just make triple little sheet of paper on leader recommends an or no got all these checks just make sure but even then up if ever did vote that just walk out my hope nobody because have at of senators as they shuttle between their offices have over past few they play crucial who has an office of fifty pointed out that staff who are younger often more ideological than their less dependent on institutional tend push senators toward aides are main actors behind proposed negotiating senator is repeating talking points on or day in his picked up some from his coffee table waved them at know about all these that cover he are five of which emphasize insider who like complain about effect of provide no end of fodder for news of day was what called between staffer for from staffer had that was voting too often with leading confront on floor over this supposed of carry so much influence that many senators have young press aide dedicated care of online for tiny kingdom of political dominates attention of senators while stories that might affect their constituents go because their papers can no longer afford have bureaus in who came in 1981 will leave next told used have newspaper reporters who covered me on daily have one had one in number of publications only see me through of described effect as instant of positions left said that had been further by rising number of nearly come from rather than from or other positions where bipartisan is still lot of senators understand history or tradition of moderate discussion is pushed with by from electronic racing from hearing room caucus lunch senators no longer have or perhaps get know one of members of other across party lines are more likely among few spouses who live in joined last he was invited dinner by because had become friends through social remains only time has set foot in house of in his recalls in bipartisan group of senators their wives hosted monthly those days actually enjoyed each asked how well he for at knew each other pretty repeated something that from had recently said no whose father was went really all there place really operates on think anyone would argue with that if remains senators still refer members of opposing party as described from as of my best friends in both off examples of legislation that they are currently working on with of have introduced bill ban coal noted that he had become friendly with when they went on congressional tour of opportunities bond are first floor of there is private dining room for where used have lunch separate but in same old such as held court also found out what was going difficult say things about someone that just had lunch inner is nearly always eat lunch in their respective caucus rooms with members of their or else which means asking donors for money over at or tradition of was by in when they lost their after losing theirs in followed work members on both sides into state of one recent referred as an least he had courtesy do it behind closed spend most of our time in team meetings deciding what going do each started series of bipartisan kind of off during has tried revive first few only one in showed about being protect her her presence was kept efforts at dead are as as doomed as of who try stay friends after lawyer former aide of put it this would they want have lunch together when they hate each upper chamber of was constitutional compromise between popular sovereignty state was as part of separation of check of popular some it also had an collect knowledge guard against spirit that might de visited in he was deeply impressed by quality of its represent only thoughts generous instincts not he also recognized that minority of nation dominating could completely will of majority represented in other that is contrary spirit of constitutional long as continued be of most talented it would restrain its own in of third of his life of argues that after was captured by wealthy ending more age when engaged in brilliant from of legislation at start of of remained controlled by an alliance of corporate was against which of social reform themselves in chief force in federal had become far more conservative than not just in his book called most growing at heart of this ostensibly national only place in country where did not lose it had become journalistic call 1962 film based on novel by is about of that it presents as equally as depicted by still in its though deals they get senators know their colleagues they one another in then drink play cards on are no no no no relations with one is its own longtime aide recalls learning that atmosphere is based on mutual acceptance of responsibility on tasks at hard at one another in debate over serious he accommodation in ordinary course of day was essential most powerful in bent his will forced it become more saw his colleagues as either who negotiated followers who went along with brokered in formidable new class of liberal entered legislative began produce author of of of worked as summer staff member between used talk each my most he talked of constitutional law on would come in hear same with on farm strongest impression was of it being drawing each other who ran for office in order work on foreign social or had win credibility with if wanted do something there was mechanism by which could do control was broken by coalition of moderate who started working there in described of those decades as bipartisan liberal of was written largely out of office of major open environmental campaign bipartisan rare event of motion end debate was often filed jointly by leaders of both government takeover of health care for in it won momentum nurtured superb chaired select committee on hunger that actually held bipartisan in poor calling witnesses in labor with indispensable greatly expanded intensity of senatorial purpose in those years must strike as profoundly came in took him aside have pick an issue that becomes how attract your colleagues follow how demonstrate your be career should become is modern decline began in with election of new wave of accelerated as became majority in generation came there were number of people just like same hair same were there get along with they look compared in were former who is writing book about of was huge loss of most accomplished senators being replaced by of in more than half had been there less than six of great has effects that keep showing gets worse over but it just never gets was phrase heard from younger want make wanted went on in atmosphere that encouraged both deals began yield transparency with recent book by reporter spectacular rise of lobbying same began as died out they were replaced by conservative coalitions on both of gave way free who controlled his own apparatus media whose electoral base was of of both regularly using rules tie up business for narrowly ideological number of shot up in continued rise in following as parties kept control of arms routinely blocking confirmation of executive judicial nominees then threatened ban filibuster in such called members were in went campaign against went on few years such an action would have been weakened institution could no longer withstand pressures from outside its as money rushed independent minds fell more more in line with between two parties meant that every election had potential make or break crushing cooperate across no longer of became of main action was between of during majority oversight role that could have placed vital check on executive congressional expert at said that has increasingly become by went we do get good people who come they very quickly get ground up by dynamic culture of once get look at what it takes stay spoke of end of his spent much of last year working closely with his friend on in went home faced with angry voters prospect of primary challenge from started warning about plug on added that similar pressures had led begin his behavior abandoning every including morning in visited former at offices of legal lobbying firm in downtown who is had on his desk for asked him in were of current ran his finger down list of did it trying looking for remote look at was see some good see some people who are going get coalitions together over put just having hall from office was that of former senator from he was hired last two weeks after his seat without completing his first has since moved on former senator of has an office works at his predecessor as was until appointed him be his feature of diminished senator is ease with which he moves from 1998 half senators who left office became leader in less than year into his fourth abruptly resigned formed lobbying firm with former just few weeks before new law took effect requiring waiting period between serving spend your days at easy forget about everything of seems miles away just down across is another actual foreign countries are place remains thirty between their offices chamber by electric cars that run along under signs are misleading or over says is filled with secret spare called out according where senators can wait for announcing an imminent most pervasive authority over institution is not or an by called which only late of was known have read in its procedures are so that parliamentarian must sit below officer tell him or her what half picture given by is still by its is place where consensus personal relationships are not is exactly body that depends on of its members congressional scholar at have chamber that rules by unanimous when got 2006 entered giving its current majority of two include like of of like of of policy like of like interest in has won admiration of senior they can think be worry is they not class of 2008 arrived with expecting usher in dynamic new their young careers have passed in daily of threatened senator bringing an appointment up for which requires unanimous took trouble read off names of nominees in of secret objected every one of getting bill floor for debate can require days of tactical between party were times when wondered if anyone had ever quit in first find ourselves at moment in our history when questions are huge not small where things have been put off for really long period of mentioned national energy financial have designed not advance change but slow were talking in his room in which had with black tuned on mouth was former of schools in was appointed seat in already has defend it this described with dry of an outsider who allowed himself grow too repeated story he had about new congressman giving his then some more veteran guy came over talking like this place is on not on months or so have gone by that been less on level it this became national news twice in one reported that an was secretly blocking confirmation of seventy appointees over dispute involving defense for tactics office maintains that he was responsible for fewer than fifty all but that spent several days late night on prevent benefits from being paid millions of unemployed tried reason with persuaded incidents brief but extent of routine remains largely of have been trying since 1997 end practice of secret without passed bill banning secret holds that last longer than six get around ban two or more senators can pass hold back called their party leader game by keeping their names of rules have been beyond recognition by modern pressures of for was courtesy extended senators in days of horse when they needed time get back read bill or question an appointee before casting their who authored book on calls procedure historical in got rid of rule that allowed be called there was no inherent limit on by senators had begun taking advantage of this by getting up talking until their or gave word comes from for with his wartime legislative agenda by forced pass which allowed majority bring floor debate an end with rule was rarely between there were only cloture fewer than one per annual average rose about with this increase led in lower threshold for cloture sixty early average went up or thirty as both parties their use of filibuster when they found themselves in lost their majority in became everyday there were hundred twelve cloture votes in 2007 this session are on target break their own filibuster of cloture votes reflects only small fraction of senatorial hundred bills passed by have been prevented from even coming up for debate in outraged of asked they do not do their business in way that of is not becoming six expressed their with upper chamber by staging of sorts on nominees for executive posts have been approved by committees because of come up for vote in full leaving jobs across upper levels of also practiced art of blocking nominees during often no objection individual being after an nominated run was confirmed an issue like when objection was for every way delay debate even sent memo on stalling tactics his demanded reading aloud of an entire amendment proposed by working in were three hours into when amendment in have consistently consumed as much of calendar as possible with legislative strategy is not extend of agenda but prevent who first proposed reform of filibuster in called his colleagues who want create chaos because it serves their things will tend toward simple chaos people listen did not respond requests for an but he has often argued that strategy reflects views of majority of he told extent that do things that we think are in political center would be helpful be extent they are trying turn us into we are not going be of of is how has been able keep his members in on vote after do with years of experience their own power base back of of of with more extreme members of their said that listens well all his have your back against wall are hanging in front of it tends with forty described how his caucus after disastrous 2008 said if we stick together on big we be decided filibuster bill in order delay looming vote on health care until as close as ranking member of promised that he join at last minute who has been in since 1979 brings disproportionate amounts of defense money told that his leadership allow him vote with end on matter of national were able impose vote on health care finally took place on have been early also of voted for stimulus along with promptly switched also voted for reform bill last only do in at pivotal she voted against version that went before full interested in expanding this program beyond grew by thousand included in negotiations with officials that took place in an elegant conference room across from suite of said that not accept any of my said it was all no was able exploit her friend of cited another reason for her actually said me once that she had never felt pressure that she felt on health never before had that pressure been quite as evident her or quite as real or were saying things like just let us all in this senior member of this just have hang tough with expect it going do use such tough he has achieved his in of his public by being senator who helped other always answered their got them what they wanted through has made him enormously popular within but it give him leverage of let alone of current it has become normal for handful of sometimes representing just ten or twenty per cent of hold everything status quo has become sufficiently frustrating that few new senators have considered radical who is is older than most has of who has spent time in was an congressman for his was legendary his cousin is senator from served five terms in before winning seat from in yet he has air of political is always capable of disappointment but not ran on idea that should not be for good he be on thing that strikes is how one senator can hold up whole his first year in decided do something he would try change rules continue session after provision in requires votes making it extremely is used embraced different of states that may determine of its at beginning of new in senator could take floor next propose its rules from including rules could be passed with simple even for moves rules by invoking constitutional option have been made three most recently in has spent much of past year trying build support for request of who is chairman of has held series of hearings on calling witnesses such as who was in when constitutional option was invoked in has organized working groups among members on other internal such as ending secret holds committee chairs by caucus vote rather than by suggested me that were competing for favor of in case loses his seat in fall they run against each other for such as push for rules reform is want parliamentary form of go over who is about even run for plan for next he would be get over said of enthusiasm for rules get over it if in minority next instantly see value of down consider whatever they have added that be getting done about as much as people want ambitious after has upset lot of across political of spoke agreed with contention that is claimed that he other were exercising thoughtful influence on legislation that founders wanted in created be he was created be one of filibuster in sitting across table from said for all times charge with obstructing could say number of times majority has tried cut off our right our right offer which is essence of like seem think that has grown so absurd extreme that some kind of reform is they need more time of change in rules is extremely would be opposed weakening so would some especially would oppose adding of are people who have never been in older who have put in their grown adept at working now chair powerful reform could be senior sole for rules reform is senator spoke of as being divided not between between older are too ways share of handful of older moderate are too weak challenge radicals who now dominate if can somehow reform filibuster next will remain unhappy deepest source of its problems is not rules its human who have created culture where have no few days after passing struggled its feet take on second large regulatory reform should have been piece of major legislation of win real bipartisan financial crisis had been catastrophic for millions of after 2008 bailout had become even more than of bankers from appeared before subcommittee on managed appear as as their had public demanded had genuine desire pass reform had been war of financial reform was promising affair began with serving their first both considered is former construction who became mayor of is dressed former telecommunications entrepreneur who became governor of assigned them work together on section of bill having do with of troubled sure that there would never be another taxpayer worked through in in over sometimes without as if they were members of from hosted series of afternoon inviting guests such as were sometimes said be only still talking each called them they had finished their discussions about entire bill between top on repeatedly breaking on called though he was one of junior agreed be negotiating informed they expressed was an odd place yet that night we began junior rare experience of rather than conservative staff tried undermine spreading rumors among their lobbyists that he was giving too much aide said that staff members were simply other of line on financial concluded that he had move bill called been great was ending their talks after only little got be told reporters close negotiations compared unable get over forever awaiting arrival of her all her later said that had ended talks under pressure from other said that had been unable bring any other with had reached an agreement with had at least five bill that brought before after year of discussions with bipartisan plan of prevent another bank setting up paid for by establishing risk council warning signs of another in had just met with executives in was now talking points from memo written by strategist it that guarantee perpetual taxpayer bailout of presented signed by all suggesting that they would filibuster remarks of work as well as of next pleaded with his in his come floor act like tone down or do what was created were supposed be people that took some of activities that sometimes come from other body sat down with heads resolved issues like can do matter of would if we cannot do that on financial an issue that really have any real it allow thought had already gone farther than almost any would have spoke later in day completed know my friends on other side of aisle are faced with difficult choice between supporting their party leadership participating in this difficult am not know that is hard place if we act like senators for sake of this issue then why are we even went work for an public that is sick tired of feeling like no one is looking out for their like political lobbyists hold all cards in these minority seems intent on proving them have been here long know this institution is better than know there are friends of mine on other side of aisle who care about this who want be part of who want be part of same joined partisan accusing of lying about he air with his hand as he have ask why did go through this process over last four or five agreeing much of what they were there is not single political vote show for have say younger members coming be having heard that was returned chamber asked went long told we 10th it understand were losing on your was not gaining had that is all asked for when never said could speak for anybody but did not leave urged keep talking differences could be out in few this was not financial reform became slightly more polite repeat of reform threatened threatened thousands of lobbyists their clients more than billion was sitting in with other side of there was noise of across are being set up in little happens around here without persuaded allow bill move floor for few weeks on yet another filibuster was defeated by yet another cloture financial reform finally came four had joined among had even voted for an offered by his colleague of that would have work of many months with idea of watching vote for said sitting in his under print of of strategy of had once again come close but he knew that of were previous had said would have loved have as my ranking member on could have had such great time on this who said that he believed in bipartisanship because people trust either political party enough give them blank was that so few voted for financial was zero substantive reason why this have been he asked him why had voted no on started talk about then want vote against can always find your seemed want vote against had spent months trying act like alienating himself from his own party then other on day of vote he held floor for better part of thirty as if he were still reluctant let effort am obviously he think have spent as much time as any on policy regarding our financial think any this good things in is no appreciate think there is lot of think not enough time was spent on some of core senators cast their noticed author of in press later asked him with passage of two big reform bills in three we were possible renewal of can engage public opinion in way politicians can public opinion can still blow away money interest he over past few decades has grown in all things better avoid than take on big is kind of thing that drives here arrived in do about destruction of final vote on financial flew leaders held press smiling before outside those who wanted protect it then he had join for telephone with was stunned that only four would join us in passing this historic does it take bring into conversation about future of with wanted demonstrate that of could conduct its business much as our founders did signed completed two lasting achievements of this financial regulation health required year half of legislative warfare that nearly destroyed on set of large majority of charismatic with an electoral national will not last long or be repeated anytime days after financial reform became announced that would not take up comprehensive legislation for rest of so climate change joined job food campaign transportation labor mine scores of executive judicial appointments on list of matters that greatest body is incapable of can feel slipping back into get more of signature mix of culture now live chat with about on at more fact\n",
      "for in for staff of of members of of have asked me speak current policies in with an emphasis on prospects for peace in have further suggested that touch on relationship of especially is both an honor challenge address this subject in this capital at this declaration of principles worked out in years ago was last direct negotiation between reach positive accords were real step toward not another in an if that one step forward in in 1993 was followed by several steps there is great deal be learned from how why that can be no doubt about importance of ongoing conflict in increasingly conscience as well as its issue began as struggle in context of tension between they by principal source of instability in then world as terrorism against at home their allies end of interaction between its captive population has emerged as of global is increasingly difficult this strife from war of religions or conflict of better or my own has played continues play key international part in this more than those of any other external have capacity or in spread or reverse their of wider policies actions in thus affect much more than that as will has been obsessed with process rather than has failed involve parties who are essential has acted on behalf rather than enlist international regional support for has defined issues in ways that rather than promote concept of has therefore become of rather than for are alternatives diplomatic peace on as has there is role for powers other than in peace in thirty years at pushed through door peace that had years first administration pressed negotiating table with setting stage for their meetings in capacity of rally other governments behind cause that it may have but power remains far greater than that of any other is this more evident than in more than four has been able rely on aid from dominate its region militarily sustain its economic has counted on its leverage in politics block application of international law protect itself from political of its policies support has put of ever more land ahead of achievement of with or other violent resistance from nor objections from abroad have brought successive governments let alone alter priority they assign land over too have developed relationship with has locked them into political framework over which decisive have been powerless end ethnic other by soldiers have they been able prevent their progressive confinement in on great prison of this appalling record of on management of search for peace in remains end of once contender for influence in region has into former powers of having earlier laid basis for conflict in have largely sat on their hands while content let take other powers have kept their political military region has cause without doing anything advance remained rare as in case of 1973 oil have backed their verbal opposition with have settled into an unpopular with that is now sustained only by has twice taken initiative offer diplomatic concessions if it were conclude arrangements for peaceful with governments have earned contempt of their own people for their lack of serious most leaders have demanded that solve problem for while protection against each in some cases their own increasingly frustrated angry subjects charges with duty defend faithful demands that they resentment of mostly at their governing failure meet these standards sympathy for terrorism directed not just at but at both governments associated with perpetrators of terrorist attack on saw it in part as for in other justified it as strike against protection of governments willing contributions response attack included its efforts make peace in as well as occupying three actions inadvertently strengthened terrorist case for further attacks on its armed struggle between radicals has already over other voices in now call for adding list of countries at war with are echoed by spokesmen in involvement of in combat in lands has passions of has caused growing majority of billion see as menace their their way of their their personal populists have meanwhile undercut liberal centrist arguments against that terrorism by terrorism its extremist advocates with its current outburst of demagoguery over construction of an cultural center mosque in is merely most recent of suggests that racism of contemporary politics is rules out global alliances against religious extremists that are essential encompass their political inability break this pattern must be an enormous personal disappointment came into office committed new relationship with first interview with international media was with satellite reached out publicly privately addressed parliament with traveled great center of learning in deliver remarkably eloquent message of made it clear that he understood centrality of in from promised responsible withdrawal from of strategy in doubt none of his initiatives has led policy change anyone can let alone believe in is not for me or explain wide gaps between rhetoric achievement in of so many aspects of my voters will their first formal verdict on this two months from on 2nd of situation in areas is only part of what they will consider as they do do think it worthwhile briefly examine some of changes in situation that ensure that many policies that once helped us get by in will no longer do me begin with of diplomatic that will put back on public display appearance of an earnest search for peace in was price of access influence in provided political cover for conservative governments set aside their anger at backing of so as stand with bloc against kept relations with from becoming mobilized domestic support for incumbent there been an in for at least of became an essential political convenience for all one could bear admit that had therefore lived on in when there was no possibility of one provided hope cover for an excuse for doing nothing those gaining from status last but far from least lifetime employment for career perpetual of peace without requirement produce it has been especially appreciated by has them like foreign attention on as they removed from their settled half million or more in newly areas of occupied of land they insist belongs only leaders with legitimacy problems have also had reason collaborate in search for not just that there has been no obviously better way end their international backing these leaders need retain their status in occupied ensures that they have media access visiting rights in for engagement in some sort of has been essential credibility in as well as with show that most are impatient for all evidence they are eager believe in willingness of government of trade land for have all these these diplomatic have served obscure actions that were more often peace than helpful in achieving all of bulldozers has never this it has taken year half of relentless effort by persuade parties even meet directly talk about talks as they first did here in years curtain goes up on diplomatic show in will players put on different are many reasons doubt that they is that administration has engaged same aging who staged all previously failed produce direct this one with no agreed last time these guys staged such an prepared at in it cost both heads of their political led not peace but parties are showing up this time minimize political embarrassment in advance of midterm elections in not address his agenda still less address each are indeed problems with this latest possibly final of are more charter rejects establishment of state west of can run their lives freely in framework of but not as an independent sovereign government is committed that charter as well as holy war for land in has no interest in trading land it for peace that might further territorial considers itself by agreements from past peace or premise of are desperate for dignity security that only end of occupation can authority of negotiators negotiate on their recognition by not on their standing in occupied or is ruling faction in part of authority govern was by voters in last administration retains power by grace of occupation authorities which prefer it government empowered by people at constitutional term of office has long since over parliament whose most influential members are locked up in is not clear for whom his or his administration can now talks that begin tomorrow promise be case of going through of negotiating with parties these talks seek an that has severely international government had modest for of others be able convene this will be held under auspices of an president who was publicly humiliated by prime minister on issue that is at center of dispute continuing of promises of state within year now through has always at even much more definitive promise of an independent within year was made at three years promises of have or resulted from previous meetings over beginning with accords of in this audience will recall deadline fixed at talks about talks that begin tomorrow can yield concrete results only if international community is prepared this time insist on deadline put forward for recognizing then there will be no peace unless issues are is pattern of stability acceptable those with capacity it by is almost impossible cannot become still less be if those who must accept it are excluded from reality directs our attention who is not at this gathering in what must be done remedy problems these party that won expressed mandate of people represent them is not there can be no peace without its have been invited as they have nothing add separate peace agreements each long ago made with these agreements were explicitly on accept state quickly from diaspora staff failure reconcile either or diaspora peace would any diaspora will be represented in only in not in including author of its peace will not be at talks reasons for this are both simple one level they reflect both conviction that this latest of is just another in long series of public for electorate also lack of confidence in of another they result from way has defined problems be solved indifference interests views this definition they reflect in political culture negotiating style between begin neither nor of this proposed new have officially acknowledged or responded peace initiative of offered of relations with should make peace with have seemed pocket ignore its precondition that come terms with gone on levy new this making recognition of central purpose of on many framing issue this appear be asking for something well beyond pragmatic accommodation of reality of state in now seem be insisting on endorsement of idea of state of means by which that state was manner in which it has really embrace before can cease expansion accept familiar with history can accept that justified establishment of homeland for asking them even agree that of was morally appropriate means this end is both seriously is asking them that resistance such was is see demand that they recognize state with no fixed borders as clever attempt extract their endorsement of expansion at lack of appeal in this approach has been by longstanding habit of concerns about as form of them of hearing out addressing peace have repeatedly focused on acts of toward argue that gestures of acceptance can help overcome their political take risks for time this notion of diplomacy as for has been it has been met with most in it contrast between sympathy for its view of see it as barely disguised appeal for policy of of others suspect an attempt construct in which begin supply with gifts of so that can continue avoid applying sticks effort encourage generosity as an offset political is has failed so many times that it should be obvious that it will not it was central element of mandate for it appears have as part of proposed meeting between parties in should be no why other could not be persuaded join this last thought before turning what must be let me make quick comment on relevant cultural has two quite different words that are both translated as making distinction that exist in either or refers bargaining process that takes place in between who may never see each other again who therefore feel no obligation not each describes formal discussions about matters of honor high principle that take place on basis of mutual respect equality between statesmen who seek continuing travel was grand act of initiate process of between leaders their was peace initiative of called for response in approvingly but did not responded with somewhat suggestions of willingness over an offer over terms on which grand gesture has been granted not seen as cite this not suggest that should adopt of but make point about diplomatic move negotiating partner in desired one must understand how that partner understands things help him see way forward that will bring him an end he has been persuaded of reasons we seem move things as we desire in is that we make much effort understand how others reason how they rank their case of we are long on expertise about very short on these for various essential of policies in adds our have become skilled at killing have forgotten how listen them or persuade am not myself an but am old enough remember when there were more than few such people in diplomatic were officers who had devoted themselves of understanding with leaders so as be able convince these leaders that it was in their own interest do things we saw as in our we still have such we are hiding them we are certainly not applying their skills in our brings me few thoughts about interests at stake in their implications for what must be foreign interests are measure of all assumption is that indeed in share common interests that require peace in my these interests include but of not limited gaining security acceptance for democratic state of eliminating gross daily that foster terrorism against its foreign allies as well as friendly global spread of religious strife very revival of in if current trends are not of these aspirations can be without an end occupation freedom for like also have compelling reasons want relief from occupation as well as for may not be concerned preserve as we but they share an urgent interest in ending of their own curbing spread of eliminating tensions with that conflict in are concerns that have driven them propose as they very clearly did eight years related has made dialogue promotion of religious tolerance main focus of his domestic international of two of three sacred places of has long its own notorious religious hold holy places in its charge open of all joined with insistence on of religious from political or were careful ensure freedom of access for worship of three faiths when they administered is an interest that in far greater between interests dispute than is generally can be basis for creative fact that this has not occurred reflects of political life in that diplomatic meeting may well demonstrate election of is still manage achievement of peace between it is in interest as well as everyone that others become as best they can in support of what they but not expecting overcome its there is lesson be drawn from experience in was happy organize public relations for accords but did not take ownership of did little protect them from nothing insist on their peace process that is protected from ability manipulate politics can brings me how might work together realize objectives both share with most establishing internationally recognized borders for securing freedom for ending stimulus terrorism in region beyond it that strife in have only four suggestions present expect that more ideas will emerge from discussion serious effort cooperate with of sort that is uniquely capable of could lead development of still more options for joint or parallel action on behalf of my presented in order of from least most get behind peace culture on is less than most at public factors official access media have published some mostly commentary on peace initiative but left most of its contents with its not buy space in media give chance read declaration consider opportunities it suspect as well as other members of would consider it constructive for an outside party do might facilitate other sorts of cooperation with them in which capabilities can also for other should be brought in as full participants in any such be bad for relations with given notorious ignorance about peace advertising campaign in might not be bad idea help create partner for can be no peace with unless there are officials who are empowered by people negotiate ratify has worked hard divide so as consolidate its conquest of their has several times sought create peace partner for by bringing other factions each with has acted organization of support for diplomacy aimed at restoring unity government could make big would be under strong domestic political pressure join in blocking joint effort accomplish some it might welcome being put this reaffirm international is charged with rule of law case of position at of international system has served ideal of international forty have prevented application occupying authorities of human rights relevant diplomacy on behalf of state has collective voice of international community as has broad of occupied administered collective punishment captive assassinated their political barred otherwise engaged in usually with only of legally ethnic settlement like are not just but international community should find way say even if most valuable legacy of its vision of rule of law will be one side dispute is routinely from all exempt law of international community needs collectively that both as as regional military is legally accountable internationally for its cannot for do what an member states should not from working in conference outside sides in murder in beyond need understand that they are not above this message is firmly delivered there will be better chance for set deadline linked an that will any attempt by address continuing between global conference outside system coordinate decision inform parties dispute that if they cannot reach agreement in one of two solutions will be conference for year second conference would consider whether recommend universal recognition of state in area beyond 1967 borders or recognition of achievement of de as well as de facto sovereignty throughout grant all governed by it citizenship equal rights at pain of international formula would force parties make serious effort strike deal or face consequences of their formula could be implemented directly by states members of international any serious deadline would provoke political crisis in lead diplomatic confrontation with as well as despite itself having proclaimed year deadline in order both would benefit immensely from peace with is running solution may already have been by land settlement cycle of violence is likely in it will not be local or but global in its actions are it even as they multiply numbers of those in region beyond who are determined destroy suffering is all humanity that alone cannot begin has become cancer on body is every of globe with rage against that is time try new is why question of whether there is basis for expanded diplomatic cooperation between is such timely it is why was pleased as well as honored have been asked set stage for discussion of this\n",
      "this with by 2010 ann view of history from paranoid politics of few months radio host began his show with one of his favorite between his got my he told his his speech slightly by going speak about kind of theme of day was looking in dark began lesson by at of history them full of produced by progressive he entire spectrum of they had separate us from our history be able separate us from our next explained some of history that being from depression of for or how conservative economics saved nation from of that progressives want know been taught one your whole he former radio recovering emerged as both figure an intellectual opinion released in by showed that he is most highly regarded individual among seen not merely as an like but as an in past few months has established his own institute of can take courses like which with secular about separation of church an attack on activist federal combined highly interpretation of division of twice encouraged viewers join his where they can hear from best historians scholars that we could faculty consists of three including one chair of department at other two are head of management consulting firm founder of which site calls national himself often acts as slightly on his by he offers of current politics history lessons about long march he began with era of early in particular with of when both graduated federal income tax came into told his radio audience in what claims have found an audience among spokesmen in last one activist told election between in was when it started going in an angry member of group from claimed on site that very things see happening in this country today started with rally this past veteran conservative organizer described as new force of middle calling socialist in tradition of is audacious enough seem like of new at new twist in long history of it marks revival of ideas that circulated on extremist right half century especially in among its version of history relies on lessons from his own acknowledged late writer also charges made by political of very different today from what it was during politics their view of more on totalitarian threats at home than on those posed by proved remarkably pressing historical question is how extremist ideas held at bay for decades inside have exploded this leaders have done virtually nothing challenge those great deal early were time in for right wing in racist violence against workers was in that would in time deliver once elected in support of what they called laws judicial ideas of which claimed that individual states could federal laws within their own on what they considered menace inside caused an enormous when he resigned from in after him for spreading propaganda among his troops accusing prominent officials of from spoke for many on far right when he declared that various liberal domestic programs clearly within category of was one of most controversial in by from society took its name from intelligence officer killed by forces in whom called first of group was founded at in many of followers felt of seemed speak for by his membership was estimated be as high as hundred fears of what had called an domestic declared that federal government had already fallen into titled he attacked as conscious agent of who had been serving plot of his adult in after disastrous of he accused of everywhere in world while do he saw forces economic foreign policy on behalf of within he had actually begun years before modern described government as inevitably an enemy of individual he which expanded federal role in curbing social economic was dire period in our than any other one man started this nation on its present road became convinced that even movement was but tool of total master he had in ancient fully life in in of by those he called conspiracy in international families of such as government agencies like nongovernmental organizations like on early they had done good deal of their evil work under of humanitarian broad avenue down which these forces advance was known as progressive declared in very same theories which had destroyed earlier civilizations were now forth in of new modern worst military action might be necessary for moment political revolution would he designed if not on model of revolutionary series of small cells that would work in secret elect candidates numbers we have worry courage on part of our followers stick their out play same as himself would advised by council of about two dozen local cells would be by is leadership that is most most of its really dedicated group became with earning from critics ranging from whose actual name was made run for in organizing in most outlandish of was not but who served as in his was considered so radical in early that even watched him one 1962 memo in his extensive file noted that past year or has affiliated himself with extreme who are promoting their own for obvious financial was himself employed by from until much of that time as special agent working in desk he claimed gave him access confidential domestic intelligence about also maintained that he had served as administrative informed that there was no such taught for years in speech religion departments at interrupted by from as police chief of time in office was after he friendly card game attended by he was promptly called master of half said that he ran police department supporters placed burning on losing his police founded group called which described in as an of he did not join worked with its in wrote rousing titled on which condemned critics for official was of he later defended policy of denying blacks with called on evolving thoughts ran in with lengthy published in he survey of worldwide leftist threat with outlandish writing that adviser had delivered large supply of that built first with plans from year before novel announced that were creating of men whose minds could be triggered into immediate action by signals from their later through on formed secret power conspiracy had when like wealthy banker close adviser helped put into place graduated income organized another which he later for an article published in of targets included fairness doctrine in editorial federal change of gold standard in all subsidies all federal aid all federal social foreign social of public school prayer familiar made him among most conservative including some on threw him because members felt that he had off deep review in journal accused of fantastic ideas making that go far beyond of honest advancing that came in after called puppet of on president of church issued national order banning announcements about his was he produced that claim that is rooted not in but in that believed in minimal central proposition would have often described as guiding spirit behind who rejected religions like proposed central government so strong that it could veto state is not it is quotes various patriots on of what in called schemes of which with of he does not mention endorsement of rich support general for wrote approvingly in of having federal taxes limited fall solely on which meant that farmer will see his government his children face of his country made by contributions of rich without his being called on spend cent from his also challenges separation of church asserting that were not in any gesture when they adopted motto motto that came out of was out of came much its use on was first permitted in only in at height of did mandate that it appear on all following charged was as national published an history text titled of prepared study guide for nationwide seminars based on its reports in his study of new book became an object of controversy in after sold it as part of its was an account of slavery drawn from work by historian which characterized children as suggested that worst victims of slavery were constitutional scholar of book seminars pronounced them joke that no scholar would think is worth warm of time in he was little remembered outside ranks of in began his which he called understanding why our built this way they put book in first spot on his wrote an enthusiastic new introduction for its it shot top of first half of it sold more than two hundred fifty thousand branches of other groups across country have since organized study groups around is time we learn follow principles of our video referring principles by is has become its with of as kind of level popularity of which now reach two million viewers each has brought ideas an audience beyond any that or might have times informs his audience that socialists he also sometimes calls or led by have seized that must take their country show for some time featured in which described while played in attacks all familiar he is private on of manipulate media in order know what should be historical of including old target old target sources on these quite apart from can be amid about cited passage from of by commissioned in 1948 by is of how conspiracy of bankers established in service of their plot dominate of is promise that he will reveal secret one segment last he produced drawing of he as symbol of then picture of an old with on reverse brought this happened in was he been on road for of adopt ancient symbol of authority as until of intended it military it with an branch illustrate desire for of politics are nearly as can be said about he was not was who term describe extreme of his his concept of which an activist government built vibrant partly by regulating big back not was in in he sent troops support his reforms sought break up in order restore competition among small is not have free she can have no freedom of any sort then host of on brought his show spokesman named who warned of government plot borders with eventually all throughout told was growing thought they were bunch of he guys are starting make more more sense guest we at are not are just exposing truth been out there for many site has run clips from pointing out with their own an essay on site described presentation by on in as ultimate in complete agreement between presentations of has also praised one of close of under president of of of gained for speech in in which he denounced intellectuals historian as socialists warned that will be endangered as it by single praised as most effective organization in our fight against creeping socialism aired clip from another warned about what was site subsequently praised for for bad word closer presenting history in way that has been doing it for over 50 is no more sole representative of than or was of far he recently told bit that he was involved with have politics of had such among conservative just through but through heroes like candidate gave warm address in by old for praising her audience as patriots who had columnist among has suggested that election of black of among threatened minority in are signs that this is out of as an during confirmation warnings on about terrible dangers posed by is not racial was not built out of fears of against big government generally play on very old themes that have nothing do with color of current has more do with inner dynamics of conservatism in past half far right was condemned by as might be in devoted part of speech in denouncing those voices of that with welfare welfare state with socialism with right also provoked deep anxiety among who feared being perceived as leading intellectual spokesman organizer of conservatives was editor of was by no means moderate in his was lifelong of foe of he drew line at claiming that course of government was set by socialist he feared that of extreme right would cost more practical conservatives their chance at national his was beginning worry that with growing so in country would take an even turn rather than leading toward kind of conservatism had next two with support completed conservative revolution that succeeded by keeping extremist elements far from centers of confidant adviser leading conservative had far more political influence than might be expected from editor of weekly in early he found fighting their extremely though some of colleagues at thought that went too they would not attack society for fear of alienating both conservatives who with their wrote an editorial in 1962 that accused of failing make crucial moral political between magazine immediately lost financial of was emerging as great political hope of conservative he consulted closely with meeting at in in urged though he conceded that some embarrassing among he insisted that there were also some that it would be attack group in support helped gain nomination in he at them in his acceptance speech with his famous in defense of liberty is no in pursuit of justice is no general suffered crushing loss partly because succeeded in making him look like captive of slogan shot fears had been he was in his efforts build respectable viable conservative he favored among field of liked but considered who had only recently been elected governor of too new national governor of was obviously say nothing of of was with strong conservative especially on he had established himself as in by pressing charge that former official at had for was seems me that we ought have real chance of winning this wrote around time of served campaign as an by aiding his friend who had taken charge of media candidate had reputation for that made him unpopular across political of editors of that had cut deal with in order secure nomination in sufficiently trust had nothing but contempt for figure whom had called one of politicians that ever showed up on in began open diplomatic relations with right wing placed him on its list of he visited in even was deeply when general election took place later that with over mainstream of what he called returned conservatives were left back candidacy of congressman member of won in next year he appointed delegate conservative had found way real despite embarrassment of in second their strategy proved effective over campaign against internal divisions over civil rights revealed that had indifference toward national independence hostility toward national having read out of conservative established itself as permanent growing force in in national supported primary challenge two terms as had into what considered nearly ideal conservative leader as well as man of nearly succeeded in nomination from demonstrating how formidable national figure he had right had in his political bastion of was adept at winning allegiance while he pursued realistic pragmatic side showed immediately after he finally secured nomination in when he chose relatively moderate his bitter foe during as his running decision it had two practical it instantly divisions between it helped charges from that was reckless was more pleased by selection than his fellow man who understood political logic as clearly as even delivered some words about he saved his political capital for his real fiscal of foreign policy by its proxies around appointed positions of as when he made close his first chief of rather than far more ideological his former chief of staff from top policy helped federal bench with but he was otherwise by pragmatic his as roll back legislation largely zealots in were as in responsibility replaced them with more centrist when he recognized in leader with whom he could genuine efforts reduce nuclear pushed ignoring complaints that he had in useful for may have about him on achieved dramatic conservative overhaul of federal tax profound of for in standpoint of mainstream only problem with his legacy was that no other could come close matching his public appeal political party of his departure was beginning of long it is absence of similarly during past twenty that has allowed current of with his moderate least in face of fiscal he broke his campaign pledge not raise inspired them an almost series of though there remained enough of an older conservative by check some of new majority after pushed by such as had little interest in maintaining forcing an even though polls showed that more than sixty per cent of people seemed at first have bit of conservative but right wing turned against him for failing win war in for his moderate position on for spending hundreds of millions of federal dollars combat financial collapse in during 2008 primary it seemed end of conservative former literary editor at that of such as have been replaced by media figures make their money by stirring fears shift toward demagoguery is now ruled by those he called have tried extend but little commentator former speechwriter for lost his job at after he complained about of reform called surge threat congressman of tough conservative who nonetheless backed financial lost vicious primary fight with insurgent named his was confronted on campaign trail by voters who were convinced that numbers on their cards indicated that secret bank had bought them at of he turned into something about all that even can afford open dissent with on night of recent he described candidate in as probably said that some of her statements were criticism came from other he was back on proclaiming himself huge endorsing that would give her its full an unlikely is only prominent leader so much as gesture at stepping as his allies strong conservatives like have been pushed as have such former as in in both beaten in primaries by is now running campaign as an for gains in midterm are struggle it took make politics safe for years far of fear is still struggling make sense of its absence of on both right job of standing up extremists appears have been left like may prove too eccentric or voters may simply become by politicians who campaign on their hatred of mainstream conservatives may well engage in what has forecast as almost historic battle for heart soul of some leading political including former chairman have been quietly establishment in effort raise funds for this according recent more than seventy per cent of support it seems almost certain that that has far right will enjoy strong perhaps victory in coming midterm early in put social political of day into noise hear is not first gun iv people iv century from or even year from may say same about it appears that extreme right wing is on verge of securing degree of power over that is unprecedented in modern defenders of national in our it is an state of more fact\n",
      "CLUSTER 2:\n",
      "2009\n",
      "2009\n",
      "2009\n",
      "CLUSTER 3:\n",
      "fyi\n",
      "fyi\n",
      "fyi\n",
      "CLUSTER 4:\n",
      "do\n",
      "do\n",
      "do\n",
      "CLUSTER 5:\n",
      "am route am am am am am am am am am am am am am am am pm in pm pm pm pm pm pm pm pm pm route pm pm via route pm pm route pm\n",
      "am am am am am am am am am am 7th am am am am am pm pm pm pm pm pm pm pm pm pm pm pm pm pm route pm pm via route pm pm route pm\n",
      "am am am am am am am am am 7516 am am am am am route am am 2009 pm pm route pm pm pm pm pm pm pm pm pm spray at pm pm photo in pm pm pm pm pm route pm\n",
      "CLUSTER 6:\n",
      "2009 on on attached is note on see if think it makes sense for do have vetted idea with note is that this would be on 24 after has chaired so it will be his also will have think if do what angle is but we think there is good case be made for it so we will want discuss with this in of\n",
      "usually but not sure this is as dire as it seems in moment from miles is fixated on imagery from no footage of which is tomorrow will coverage so we just need weather did an on record conf call not long ago we think they did very was especially also speaking people your statement was strong reporting will catch up with only been out 90 we are suffering from two significant tactical are here removed our press corps was out of position today in so people we worked on all week ones likely our way were replaced by reporters not connected two issues above will be tomorrow in your two interviews especially who is can use that make strong case on simple fact in be that passes that time difference will help us in moving whatever is said in these interviews we started week showing we can engage with ending it showing we are serious about our we stood up for human rights that can only be\n",
      "reach out for dinner which will be very hard for me in but if have be back for few days in early might work so she knows we are want see for wants see me in discuss of will be in in find out when he is coming heard from about date for in request for an request for mtg or call conf in which was told is conf about in happened like working lunch mtg about schedule see me has asked see like do when in or if there is award we could give him for his citizen diplomacy in run traps on that have do bilat\n",
      "CLUSTER 7:\n",
      "2010\n",
      "2010\n",
      "2010\n",
      "CLUSTER 8:\n",
      "at\n",
      "at\n",
      "at\n",
      "CLUSTER 9:\n",
      "for 2012 of for for from my\n",
      "for love follow up on also have another idea like talk copy of this email am asking from my office find time see\n",
      "has emailed dozens of memos about me this please print them organize them in order for me for my trip tomorrow or send so she can\n"
     ]
    }
   ],
   "source": [
    "for i in range(10):\n",
    "    center = kmeans.cluster_centers_[i]\n",
    "    print 'CLUSTER {}:'.format(i)\n",
    "    dists = euclidean_distances(X_vectorized, [center])[:,0]\n",
    "    dists[y != i] = np.inf\n",
    "    idxs = np.argsort(dists)[:3]\n",
    "    for idx in idxs:\n",
    "        print cleaned_data[idx]\n"
   ]
  },
  {
   "cell_type": "markdown",
   "metadata": {},
   "source": [
    "## Оценка качества через асессоров"
   ]
  },
  {
   "cell_type": "markdown",
   "metadata": {},
   "source": [
    "Два варианта:\n",
    "\n",
    "1) Хотим оценивать качество кластеризации по 10 ключевым словам, описывающим каждый кластер. Предлагаем ассесору 5 слов, описывающих кластер и просим его выбрать остальные 5 слов из 10, где 5 относятся к нашему кластеру, а 5 других относятся к другому. Так для каждого кластера сможем оценить насколько логичным и интерпретируемым для человека являются наши ключевые слова.\n",
    "\n",
    "2) Берём два случайных письма и предлагаем сравнить их на схожесть асессору, если он считает их похожими и они находятся в одном кластере - плюс очко, если он считает их непохожими и они в разных кластерах - тоже плюс очко. Полученную сумму делим на кол-во предложенных пар, в результате получаем некий аналог точности."
   ]
  }
 ],
 "metadata": {
  "anaconda-cloud": {},
  "kernelspec": {
   "display_name": "Python [conda root]",
   "language": "python",
   "name": "conda-root-py"
  },
  "language_info": {
   "codemirror_mode": {
    "name": "ipython",
    "version": 2
   },
   "file_extension": ".py",
   "mimetype": "text/x-python",
   "name": "python",
   "nbconvert_exporter": "python",
   "pygments_lexer": "ipython2",
   "version": "2.7.12"
  }
 },
 "nbformat": 4,
 "nbformat_minor": 0
}
