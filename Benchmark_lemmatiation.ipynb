{
 "cells": [
  {
   "cell_type": "markdown",
   "metadata": {},
   "source": [
    "Подготовил Семененко Денис, 21.11.15"
   ]
  },
  {
   "cell_type": "markdown",
   "metadata": {},
   "source": [
    "#DMIA 2015 Fall Task 2 - Lemmatization\n",
    "\n",
    "###Лемматизация и определение частей речи.\n",
    "###https://inclass.kaggle.com/c/2015lemmatization"
   ]
  },
  {
   "cell_type": "code",
   "execution_count": 1,
   "metadata": {
    "collapsed": true
   },
   "outputs": [],
   "source": [
    "import pandas as pd\n",
    "import numpy as np\n",
    "from sklearn.cross_validation import train_test_split\n",
    "from sklearn.feature_extraction.text import CountVectorizer\n",
    "from sklearn.linear_model import LogisticRegression\n",
    "from sklearn.metrics import accuracy_score\n",
    "from sklearn.ensemble import RandomForestClassifier\n",
    "from sklearn.preprocessing import LabelEncoder"
   ]
  },
  {
   "cell_type": "markdown",
   "metadata": {},
   "source": [
    "train имеет немного специфичный формат, поэтому специальная функция для считывания"
   ]
  },
  {
   "cell_type": "code",
   "execution_count": 2,
   "metadata": {
    "collapsed": true
   },
   "outputs": [],
   "source": [
    "def read_train(file_name):\n",
    "    f = open(file_name)\n",
    "    lines = f.readlines()\n",
    "    lines_splitted = []\n",
    "    for line in lines:\n",
    "        try:\n",
    "            splitted =  line.split(\",\")\n",
    "            lines_splitted.append([splitted[1], splitted[2].split('+')[0], splitted[2].split('+')[1][0]])\n",
    "        except: \n",
    "            \"wrong lines\"\n",
    "    return pd.DataFrame(lines_splitted, columns=['Word', 'Init', 'Prop']) "
   ]
  },
  {
   "cell_type": "code",
   "execution_count": 3,
   "metadata": {
    "collapsed": false
   },
   "outputs": [],
   "source": [
    "train = read_train('data/train')\n",
    "test = pd.read_csv('data/test')\n",
    "test['Word'] = test['X']\n",
    "test.drop('X', axis=1,inplace=True)\n",
    "sample_submission = pd.read_csv('data/sample_submission')"
   ]
  },
  {
   "cell_type": "code",
   "execution_count": 4,
   "metadata": {
    "collapsed": false,
    "scrolled": true
   },
   "outputs": [
    {
     "data": {
      "text/html": [
       "<div>\n",
       "<table border=\"1\" class=\"dataframe\">\n",
       "  <thead>\n",
       "    <tr style=\"text-align: right;\">\n",
       "      <th></th>\n",
       "      <th>Word</th>\n",
       "      <th>Init</th>\n",
       "      <th>Prop</th>\n",
       "    </tr>\n",
       "  </thead>\n",
       "  <tbody>\n",
       "    <tr>\n",
       "      <th>0</th>\n",
       "      <td>vergognerete</td>\n",
       "      <td>vergognare</td>\n",
       "      <td>V</td>\n",
       "    </tr>\n",
       "    <tr>\n",
       "      <th>1</th>\n",
       "      <td>amnistiavate</td>\n",
       "      <td>amnistiare</td>\n",
       "      <td>V</td>\n",
       "    </tr>\n",
       "    <tr>\n",
       "      <th>2</th>\n",
       "      <td>menomazione</td>\n",
       "      <td>menomazione</td>\n",
       "      <td>N</td>\n",
       "    </tr>\n",
       "    <tr>\n",
       "      <th>3</th>\n",
       "      <td>sfaldavamo</td>\n",
       "      <td>sfaldare</td>\n",
       "      <td>V</td>\n",
       "    </tr>\n",
       "    <tr>\n",
       "      <th>4</th>\n",
       "      <td>sfodererei</td>\n",
       "      <td>sfoderare</td>\n",
       "      <td>V</td>\n",
       "    </tr>\n",
       "  </tbody>\n",
       "</table>\n",
       "</div>"
      ],
      "text/plain": [
       "           Word         Init Prop\n",
       "0  vergognerete   vergognare    V\n",
       "1  amnistiavate   amnistiare    V\n",
       "2   menomazione  menomazione    N\n",
       "3    sfaldavamo     sfaldare    V\n",
       "4    sfodererei    sfoderare    V"
      ]
     },
     "execution_count": 4,
     "metadata": {},
     "output_type": "execute_result"
    }
   ],
   "source": [
    "train[:5]"
   ]
  },
  {
   "cell_type": "markdown",
   "metadata": {},
   "source": [
    "#Cross validation"
   ]
  },
  {
   "cell_type": "code",
   "execution_count": 5,
   "metadata": {
    "collapsed": true
   },
   "outputs": [],
   "source": [
    "xtrain, xcv = train_test_split(train, test_size = 0.2, random_state = 10)"
   ]
  },
  {
   "cell_type": "markdown",
   "metadata": {},
   "source": [
    "Попробуем раздельно предсказывать часть речи и начальную форму. В качестве признаков будем использовать n-грамы."
   ]
  },
  {
   "cell_type": "code",
   "execution_count": 6,
   "metadata": {
    "collapsed": false
   },
   "outputs": [
    {
     "data": {
      "text/plain": [
       "0.92780681051921776"
      ]
     },
     "execution_count": 6,
     "metadata": {},
     "output_type": "execute_result"
    }
   ],
   "source": [
    "cv = CountVectorizer(analyzer='char_wb', ngram_range=(2, 3), min_df=1)\n",
    "ngram_xtrain = cv.fit_transform(xtrain['Word'])\n",
    "ngram_xcv = cv.transform(xcv['Word'])\n",
    "lr = LogisticRegression()\n",
    "lr.fit(ngram_xtrain, xtrain['Prop'])\n",
    "pred = lr.predict(ngram_xcv)\n",
    "accuracy_score(xcv['Prop'], pred)"
   ]
  },
  {
   "cell_type": "markdown",
   "metadata": {},
   "source": [
    "Теперь надо придумать, каким образом предсказывать начальную форму. \n",
    "\n",
    "\n",
    "Я буду решать эту задачу, как задачу классификации, где класс это пара: количество отсеченных букв и добавленное окончане.\n",
    "\n",
    "Для этого мне придется посчитать две эти величины, буду использовать для этого следующие функции:"
   ]
  },
  {
   "cell_type": "code",
   "execution_count": 7,
   "metadata": {
    "collapsed": false
   },
   "outputs": [],
   "source": [
    "#считает длину общего префикса двух слов\n",
    "def lenCommonPrefix(s1, s2):\n",
    "    i = 0\n",
    "    while i < len(s1) and i < len(s2) and s1[i] == s2[i]:\n",
    "        i += 1\n",
    "    return i\n",
    "#считает отсечение\n",
    "def calcCut(s):\n",
    "    return len(s['Word']) - lenCommonPrefix(s['Word'], s['Init'])\n",
    "#получает окончание\n",
    "def getEnd(s):\n",
    "    init = s['Init']\n",
    "    lenCommon = len(s['Word']) - s['Cut']\n",
    "    lenEnd = len(init) - lenCommon\n",
    "    if lenEnd != 0:\n",
    "        return init[-lenEnd:]\n",
    "    return '_'\n",
    "#объединяет две величины в один столбец, который и будет классом\n",
    "def codeCutEnd(s):\n",
    "    return str(s['Cut']) + \"+\" + s['End']"
   ]
  },
  {
   "cell_type": "markdown",
   "metadata": {},
   "source": [
    "Сделаем все наши пребразования:"
   ]
  },
  {
   "cell_type": "code",
   "execution_count": 8,
   "metadata": {
    "collapsed": false
   },
   "outputs": [
    {
     "name": "stderr",
     "output_type": "stream",
     "text": [
      "/home/denny_sem/anaconda/lib/python2.7/site-packages/IPython/kernel/__main__.py:1: SettingWithCopyWarning: \n",
      "A value is trying to be set on a copy of a slice from a DataFrame.\n",
      "Try using .loc[row_indexer,col_indexer] = value instead\n",
      "\n",
      "See the caveats in the documentation: http://pandas.pydata.org/pandas-docs/stable/indexing.html#indexing-view-versus-copy\n",
      "  if __name__ == '__main__':\n",
      "/home/denny_sem/anaconda/lib/python2.7/site-packages/IPython/kernel/__main__.py:2: SettingWithCopyWarning: \n",
      "A value is trying to be set on a copy of a slice from a DataFrame.\n",
      "Try using .loc[row_indexer,col_indexer] = value instead\n",
      "\n",
      "See the caveats in the documentation: http://pandas.pydata.org/pandas-docs/stable/indexing.html#indexing-view-versus-copy\n",
      "  from IPython.kernel.zmq import kernelapp as app\n",
      "/home/denny_sem/anaconda/lib/python2.7/site-packages/IPython/kernel/__main__.py:3: SettingWithCopyWarning: \n",
      "A value is trying to be set on a copy of a slice from a DataFrame.\n",
      "Try using .loc[row_indexer,col_indexer] = value instead\n",
      "\n",
      "See the caveats in the documentation: http://pandas.pydata.org/pandas-docs/stable/indexing.html#indexing-view-versus-copy\n",
      "  app.launch_new_instance()\n"
     ]
    },
    {
     "data": {
      "text/html": [
       "<div>\n",
       "<table border=\"1\" class=\"dataframe\">\n",
       "  <thead>\n",
       "    <tr style=\"text-align: right;\">\n",
       "      <th></th>\n",
       "      <th>Word</th>\n",
       "      <th>Init</th>\n",
       "      <th>Prop</th>\n",
       "      <th>Cut</th>\n",
       "      <th>End</th>\n",
       "      <th>Label</th>\n",
       "    </tr>\n",
       "  </thead>\n",
       "  <tbody>\n",
       "    <tr>\n",
       "      <th>37473</th>\n",
       "      <td>affacceremmo</td>\n",
       "      <td>affacciare</td>\n",
       "      <td>V</td>\n",
       "      <td>6</td>\n",
       "      <td>iare</td>\n",
       "      <td>6+iare</td>\n",
       "    </tr>\n",
       "    <tr>\n",
       "      <th>96838</th>\n",
       "      <td>manifatturo</td>\n",
       "      <td>manifatturare</td>\n",
       "      <td>V</td>\n",
       "      <td>1</td>\n",
       "      <td>are</td>\n",
       "      <td>1+are</td>\n",
       "    </tr>\n",
       "    <tr>\n",
       "      <th>64157</th>\n",
       "      <td>raccapricciate</td>\n",
       "      <td>raccapricciare</td>\n",
       "      <td>V</td>\n",
       "      <td>2</td>\n",
       "      <td>re</td>\n",
       "      <td>2+re</td>\n",
       "    </tr>\n",
       "    <tr>\n",
       "      <th>99999</th>\n",
       "      <td>inveleni</td>\n",
       "      <td>invelenire</td>\n",
       "      <td>V</td>\n",
       "      <td>0</td>\n",
       "      <td>re</td>\n",
       "      <td>0+re</td>\n",
       "    </tr>\n",
       "    <tr>\n",
       "      <th>7048</th>\n",
       "      <td>serpei</td>\n",
       "      <td>serpere</td>\n",
       "      <td>V</td>\n",
       "      <td>1</td>\n",
       "      <td>re</td>\n",
       "      <td>1+re</td>\n",
       "    </tr>\n",
       "  </tbody>\n",
       "</table>\n",
       "</div>"
      ],
      "text/plain": [
       "                 Word            Init Prop  Cut   End   Label\n",
       "37473    affacceremmo      affacciare    V    6  iare  6+iare\n",
       "96838     manifatturo   manifatturare    V    1   are   1+are\n",
       "64157  raccapricciate  raccapricciare    V    2    re    2+re\n",
       "99999        inveleni      invelenire    V    0    re    0+re\n",
       "7048           serpei         serpere    V    1    re    1+re"
      ]
     },
     "execution_count": 8,
     "metadata": {},
     "output_type": "execute_result"
    }
   ],
   "source": [
    "xtrain['Cut'] = xtrain.apply(calcCut, axis=1)\n",
    "xtrain['End'] = xtrain.apply(getEnd, axis=1)\n",
    "xtrain['Label'] = xtrain.apply(codeCutEnd, axis=1)\n",
    "xtrain[:5]"
   ]
  },
  {
   "cell_type": "markdown",
   "metadata": {},
   "source": [
    "И над валидационной выборкой:"
   ]
  },
  {
   "cell_type": "code",
   "execution_count": 9,
   "metadata": {
    "collapsed": false
   },
   "outputs": [
    {
     "name": "stderr",
     "output_type": "stream",
     "text": [
      "/home/denny_sem/anaconda/lib/python2.7/site-packages/IPython/kernel/__main__.py:1: SettingWithCopyWarning: \n",
      "A value is trying to be set on a copy of a slice from a DataFrame.\n",
      "Try using .loc[row_indexer,col_indexer] = value instead\n",
      "\n",
      "See the caveats in the documentation: http://pandas.pydata.org/pandas-docs/stable/indexing.html#indexing-view-versus-copy\n",
      "  if __name__ == '__main__':\n",
      "/home/denny_sem/anaconda/lib/python2.7/site-packages/IPython/kernel/__main__.py:2: SettingWithCopyWarning: \n",
      "A value is trying to be set on a copy of a slice from a DataFrame.\n",
      "Try using .loc[row_indexer,col_indexer] = value instead\n",
      "\n",
      "See the caveats in the documentation: http://pandas.pydata.org/pandas-docs/stable/indexing.html#indexing-view-versus-copy\n",
      "  from IPython.kernel.zmq import kernelapp as app\n",
      "/home/denny_sem/anaconda/lib/python2.7/site-packages/IPython/kernel/__main__.py:3: SettingWithCopyWarning: \n",
      "A value is trying to be set on a copy of a slice from a DataFrame.\n",
      "Try using .loc[row_indexer,col_indexer] = value instead\n",
      "\n",
      "See the caveats in the documentation: http://pandas.pydata.org/pandas-docs/stable/indexing.html#indexing-view-versus-copy\n",
      "  app.launch_new_instance()\n"
     ]
    },
    {
     "data": {
      "text/html": [
       "<div>\n",
       "<table border=\"1\" class=\"dataframe\">\n",
       "  <thead>\n",
       "    <tr style=\"text-align: right;\">\n",
       "      <th></th>\n",
       "      <th>Word</th>\n",
       "      <th>Init</th>\n",
       "      <th>Prop</th>\n",
       "      <th>Cut</th>\n",
       "      <th>End</th>\n",
       "      <th>Label</th>\n",
       "    </tr>\n",
       "  </thead>\n",
       "  <tbody>\n",
       "    <tr>\n",
       "      <th>47004</th>\n",
       "      <td>aggiuntato</td>\n",
       "      <td>aggiuntare</td>\n",
       "      <td>V</td>\n",
       "      <td>2</td>\n",
       "      <td>re</td>\n",
       "      <td>2+re</td>\n",
       "    </tr>\n",
       "    <tr>\n",
       "      <th>58581</th>\n",
       "      <td>primeggi</td>\n",
       "      <td>primeggiare</td>\n",
       "      <td>V</td>\n",
       "      <td>0</td>\n",
       "      <td>are</td>\n",
       "      <td>0+are</td>\n",
       "    </tr>\n",
       "    <tr>\n",
       "      <th>79287</th>\n",
       "      <td>serbatoio</td>\n",
       "      <td>serbatoio</td>\n",
       "      <td>N</td>\n",
       "      <td>0</td>\n",
       "      <td>_</td>\n",
       "      <td>0+_</td>\n",
       "    </tr>\n",
       "    <tr>\n",
       "      <th>97863</th>\n",
       "      <td>conservatorio</td>\n",
       "      <td>conservatorio</td>\n",
       "      <td>N</td>\n",
       "      <td>0</td>\n",
       "      <td>_</td>\n",
       "      <td>0+_</td>\n",
       "    </tr>\n",
       "    <tr>\n",
       "      <th>67460</th>\n",
       "      <td>desecretan</td>\n",
       "      <td>desecretare</td>\n",
       "      <td>V</td>\n",
       "      <td>1</td>\n",
       "      <td>re</td>\n",
       "      <td>1+re</td>\n",
       "    </tr>\n",
       "  </tbody>\n",
       "</table>\n",
       "</div>"
      ],
      "text/plain": [
       "                Word           Init Prop  Cut  End  Label\n",
       "47004     aggiuntato     aggiuntare    V    2   re   2+re\n",
       "58581       primeggi    primeggiare    V    0  are  0+are\n",
       "79287      serbatoio      serbatoio    N    0    _    0+_\n",
       "97863  conservatorio  conservatorio    N    0    _    0+_\n",
       "67460     desecretan    desecretare    V    1   re   1+re"
      ]
     },
     "execution_count": 9,
     "metadata": {},
     "output_type": "execute_result"
    }
   ],
   "source": [
    "xcv['Cut'] = xcv.apply(calcCut, axis=1)\n",
    "xcv['End'] = xcv.apply(getEnd, axis=1)\n",
    "xcv['Label'] = xcv.apply(codeCutEnd, axis=1)\n",
    "xcv[:5]"
   ]
  },
  {
   "cell_type": "markdown",
   "metadata": {},
   "source": [
    "Посмотрим, какое количество классов у нас получилось:"
   ]
  },
  {
   "cell_type": "code",
   "execution_count": 10,
   "metadata": {
    "collapsed": false
   },
   "outputs": [
    {
     "data": {
      "text/plain": [
       "224"
      ]
     },
     "execution_count": 10,
     "metadata": {},
     "output_type": "execute_result"
    }
   ],
   "source": [
    "len(set(xtrain['Label']))"
   ]
  },
  {
   "cell_type": "markdown",
   "metadata": {},
   "source": [
    "Используя в качестве признаков n-грамы, делаем предсказание"
   ]
  },
  {
   "cell_type": "code",
   "execution_count": 11,
   "metadata": {
    "collapsed": false
   },
   "outputs": [
    {
     "data": {
      "text/plain": [
       "0.88170094403236687"
      ]
     },
     "execution_count": 11,
     "metadata": {},
     "output_type": "execute_result"
    }
   ],
   "source": [
    "lr = LogisticRegression()\n",
    "lr.fit(ngram_xtrain, xtrain['Label'])\n",
    "pred = lr.predict(ngram_xcv)\n",
    "accuracy_score(xcv['Label'], pred)"
   ]
  },
  {
   "cell_type": "markdown",
   "metadata": {},
   "source": [
    "###Делаем сабмит\n",
    "\n",
    "Считаем наши величины на всей тренировочной выборке."
   ]
  },
  {
   "cell_type": "code",
   "execution_count": 12,
   "metadata": {
    "collapsed": false
   },
   "outputs": [],
   "source": [
    "train['Cut'] = train.apply(calcCut, axis=1)\n",
    "train['End'] = train.apply(getEnd, axis=1)\n",
    "train['Label'] = train.apply(codeCutEnd, axis=1)"
   ]
  },
  {
   "cell_type": "code",
   "execution_count": 13,
   "metadata": {
    "collapsed": false
   },
   "outputs": [],
   "source": [
    "cv = CountVectorizer(analyzer='char_wb', ngram_range=(2,3), min_df=1)\n",
    "ngram_train = cv.fit_transform(train['Word'])\n",
    "ngram_test = cv.transform(test['Word'])"
   ]
  },
  {
   "cell_type": "markdown",
   "metadata": {},
   "source": [
    "Предсказываем часть речи"
   ]
  },
  {
   "cell_type": "code",
   "execution_count": 14,
   "metadata": {
    "collapsed": true
   },
   "outputs": [],
   "source": [
    "lr = LogisticRegression()\n",
    "lr.fit(ngram_train, train['Prop'])\n",
    "test['Prop'] = lr.predict(ngram_test) "
   ]
  },
  {
   "cell_type": "markdown",
   "metadata": {},
   "source": [
    "Предсказываем начальную форму"
   ]
  },
  {
   "cell_type": "code",
   "execution_count": 15,
   "metadata": {
    "collapsed": false
   },
   "outputs": [],
   "source": [
    "lr = LogisticRegression()\n",
    "lr.fit(ngram_train, train['Label'])\n",
    "test['Label'] = lr.predict(ngram_test)"
   ]
  },
  {
   "cell_type": "code",
   "execution_count": 16,
   "metadata": {
    "collapsed": false
   },
   "outputs": [],
   "source": [
    "def transform(s):\n",
    "    cut = int(s['Label'].split('+')[0])\n",
    "    end = s['Label'].split('+')[1]\n",
    "    word = s['Word']\n",
    "    prop = s['Prop']\n",
    "    init = word[:-cut] + end\n",
    "    init.replace('-','')#case of empty endian\n",
    "    return init + '+' + prop\n",
    "\n",
    "test['Category'] = test.apply(transform, axis=1)"
   ]
  },
  {
   "cell_type": "code",
   "execution_count": 17,
   "metadata": {
    "collapsed": false
   },
   "outputs": [
    {
     "data": {
      "text/html": [
       "<div>\n",
       "<table border=\"1\" class=\"dataframe\">\n",
       "  <thead>\n",
       "    <tr style=\"text-align: right;\">\n",
       "      <th></th>\n",
       "      <th>Id</th>\n",
       "      <th>Category</th>\n",
       "    </tr>\n",
       "  </thead>\n",
       "  <tbody>\n",
       "    <tr>\n",
       "      <th>0</th>\n",
       "      <td>1</td>\n",
       "      <td>gettonare+V</td>\n",
       "    </tr>\n",
       "    <tr>\n",
       "      <th>1</th>\n",
       "      <td>2</td>\n",
       "      <td>incidentale+A</td>\n",
       "    </tr>\n",
       "    <tr>\n",
       "      <th>2</th>\n",
       "      <td>3</td>\n",
       "      <td>involtare+V</td>\n",
       "    </tr>\n",
       "    <tr>\n",
       "      <th>3</th>\n",
       "      <td>4</td>\n",
       "      <td>liere+V</td>\n",
       "    </tr>\n",
       "    <tr>\n",
       "      <th>4</th>\n",
       "      <td>5</td>\n",
       "      <td>comunistizzare+V</td>\n",
       "    </tr>\n",
       "  </tbody>\n",
       "</table>\n",
       "</div>"
      ],
      "text/plain": [
       "   Id          Category\n",
       "0   1       gettonare+V\n",
       "1   2     incidentale+A\n",
       "2   3       involtare+V\n",
       "3   4           liere+V\n",
       "4   5  comunistizzare+V"
      ]
     },
     "execution_count": 17,
     "metadata": {},
     "output_type": "execute_result"
    }
   ],
   "source": [
    "submit = test[['Id', 'Category']]\n",
    "submit[:5]"
   ]
  },
  {
   "cell_type": "code",
   "execution_count": 18,
   "metadata": {
    "collapsed": true
   },
   "outputs": [],
   "source": [
    "submit.to_csv('benchmark.csv', index=False)"
   ]
  },
  {
   "cell_type": "code",
   "execution_count": null,
   "metadata": {
    "collapsed": true
   },
   "outputs": [],
   "source": []
  }
 ],
 "metadata": {
  "kernelspec": {
   "display_name": "Python 2",
   "language": "python",
   "name": "python2"
  },
  "language_info": {
   "codemirror_mode": {
    "name": "ipython",
    "version": 2
   },
   "file_extension": ".py",
   "mimetype": "text/x-python",
   "name": "python",
   "nbconvert_exporter": "python",
   "pygments_lexer": "ipython2",
   "version": "2.7.10"
  }
 },
 "nbformat": 4,
 "nbformat_minor": 0
}
