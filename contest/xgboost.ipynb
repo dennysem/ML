{
 "cells": [
  {
   "cell_type": "code",
   "execution_count": 123,
   "metadata": {
    "collapsed": true
   },
   "outputs": [],
   "source": [
    "import pandas as pd\n",
    "import numpy as np\n",
    "from sklearn import cross_validation\n",
    "import xgboost as xgb\n",
    "import sklearn"
   ]
  },
  {
   "cell_type": "code",
   "execution_count": 124,
   "metadata": {
    "collapsed": true
   },
   "outputs": [],
   "source": [
    "from datetime import datetime, timedelta\n",
    "\n",
    "# На вход подается массив размера (test.shape[0], 2)\n",
    "def submit(preds):\n",
    "    n = datetime.now() + timedelta(hours=3)\n",
    "    submission = pd.read_csv('sample_submission.csv')\n",
    "    #print submission.shape\n",
    "    submission['TARGET'] = preds\n",
    "    submission.to_csv('submission ({0}).csv'.format(n.strftime(\"%d-%m-%Y %H:%M\")), index=0)"
   ]
  },
  {
   "cell_type": "code",
   "execution_count": 146,
   "metadata": {
    "collapsed": true
   },
   "outputs": [],
   "source": [
    "train = pd.read_csv('train.csv')\n",
    "test = pd.read_csv('test.csv')\n",
    "\n",
    "labels = train['TARGET']\n",
    "train.drop(['ID'],axis=1, inplace=1)\n",
    "#train.drop(['TARGET', 'ID'], axis=1, inplace=1)\n",
    "test.drop(['ID'], axis=1, inplace=1)"
   ]
  },
  {
   "cell_type": "code",
   "execution_count": 147,
   "metadata": {
    "collapsed": true
   },
   "outputs": [],
   "source": [
    "unique_values = np.array([train[col].nunique() for col in train])\n",
    "test.drop(train.columns[unique_values == 1], axis=1, inplace=1)\n",
    "train.drop(train.columns[unique_values == 1], axis=1, inplace=1)"
   ]
  },
  {
   "cell_type": "code",
   "execution_count": 148,
   "metadata": {
    "collapsed": false
   },
   "outputs": [
    {
     "name": "stdout",
     "output_type": "stream",
     "text": [
      "Дублирующихся признаков: 29\n"
     ]
    }
   ],
   "source": [
    "from itertools import combinations\n",
    "\n",
    "features_duplicates = set()\n",
    "visited_cols = set()\n",
    "\n",
    "for col1 in train:\n",
    "    visited_cols.add(col1)\n",
    "    for col2 in train:\n",
    "        if col2 in visited_cols or col2 in features_duplicates:\n",
    "            continue\n",
    "        if np.array_equal(train[col1], train[col2]):\n",
    "            features_duplicates.add(col2)\n",
    "            \n",
    "print 'Дублирующихся признаков: {0}'.format(len(features_duplicates))"
   ]
  },
  {
   "cell_type": "code",
   "execution_count": 149,
   "metadata": {
    "collapsed": true
   },
   "outputs": [],
   "source": [
    "train.drop(features_duplicates, axis=1, inplace=1)\n",
    "test.drop(features_duplicates, axis=1, inplace=1)"
   ]
  },
  {
   "cell_type": "code",
   "execution_count": 150,
   "metadata": {
    "collapsed": true
   },
   "outputs": [],
   "source": [
    "train['var38mc'] = np.isclose(train.var38, 117310.979016)\n",
    "train['logvar38'] = train.loc[~train['var38mc'], 'var38'].map(np.log)\n",
    "train.loc[train['var38mc'], 'logvar38'] = 0"
   ]
  },
  {
   "cell_type": "code",
   "execution_count": 151,
   "metadata": {
    "collapsed": true
   },
   "outputs": [],
   "source": [
    "test['var38mc'] = np.isclose(test.var38, 117310.979016)\n",
    "test['logvar38'] = test.loc[~test['var38mc'], 'var38'].map(np.log)\n",
    "test.loc[test['var38mc'], 'logvar38'] = 0"
   ]
  },
  {
   "cell_type": "code",
   "execution_count": 152,
   "metadata": {
    "collapsed": true
   },
   "outputs": [],
   "source": [
    "train.rename(columns={'var15': 'age'}, inplace=True)\n",
    "test.rename(columns={'var15': 'age'}, inplace=True)"
   ]
  },
  {
   "cell_type": "code",
   "execution_count": 153,
   "metadata": {
    "collapsed": false
   },
   "outputs": [
    {
     "data": {
      "text/plain": [
       "(0, 309)"
      ]
     },
     "execution_count": 153,
     "metadata": {},
     "output_type": "execute_result"
    }
   ],
   "source": [
    "train = train.replace(-999999,2)\n",
    "train.loc[train.var3==-999999].shape"
   ]
  },
  {
   "cell_type": "code",
   "execution_count": 154,
   "metadata": {
    "collapsed": false
   },
   "outputs": [
    {
     "data": {
      "text/plain": [
       "(0, 308)"
      ]
     },
     "execution_count": 154,
     "metadata": {},
     "output_type": "execute_result"
    }
   ],
   "source": [
    "test = test.replace(-999999,2)\n",
    "test.loc[test.var3==-999999].shape"
   ]
  },
  {
   "cell_type": "code",
   "execution_count": 155,
   "metadata": {
    "collapsed": true
   },
   "outputs": [],
   "source": [
    "train['n0'] = (train==0).sum(axis=1)\n",
    "test['n0'] = (test==0).sum(axis=1)"
   ]
  },
  {
   "cell_type": "code",
   "execution_count": 156,
   "metadata": {
    "collapsed": false
   },
   "outputs": [],
   "source": [
    "def xgb_predict(train,test):\n",
    "    params = {}\n",
    "    params['max_depth'] = 5\n",
    "    #params['n_estimators']=1000\n",
    "    params['learning_rate']=0.1 \n",
    "    params['nthread']=4\n",
    "    params['subsample']=1.0\n",
    "    params['colsample_bytree']=0.5\n",
    "    params['objective'] = \"binary:logistic\"\n",
    "    params['min_child_weight'] = 3\n",
    "    params['reg_alpha']=0.03\n",
    "    params['seed']=1301\n",
    "    params['eval_metric']= 'auc'\n",
    "    params['gamma'] = 15\n",
    "    params['scale_pos_weight'] = 6\n",
    "    num_rounds = 100\n",
    "    plst= list(params.items())\n",
    "    \n",
    "    \n",
    "    label = train['TARGET']\n",
    "    \n",
    "    xgtrain = xgb.DMatrix(np.asarray(train.drop(['TARGET'],axis=1)),label)\n",
    "    xgtest = xgb.DMatrix(np.asarray(test))\n",
    "    \n",
    "    model = xgb.train(plst,xgtrain,num_rounds)\n",
    "    preds = model.predict(xgtest)\n",
    "    \n",
    "    return preds"
   ]
  },
  {
   "cell_type": "code",
   "execution_count": 157,
   "metadata": {
    "collapsed": false
   },
   "outputs": [],
   "source": [
    "params = {}\n",
    "params['max_depth'] = 5\n",
    "params['n_estimators']=100\n",
    "params['learning_rate']=0.1 \n",
    "params['nthread']=4\n",
    "params['subsample']=1.0\n",
    "params['colsample_bytree']=0.5\n",
    "params['objective'] = \"binary:logistic\"\n",
    "params['min_child_weight'] = 3\n",
    "params['reg_alpha']=0.03\n",
    "params['seed']=1301\n",
    "params['eval_metric']= \"auc\"\n",
    "params['gamma'] = 15\n",
    "params['scale_pos_weight'] = 6\n",
    "num_rounds = 100\n",
    "#plst= list(params.items()) "
   ]
  },
  {
   "cell_type": "code",
   "execution_count": 49,
   "metadata": {
    "collapsed": true
   },
   "outputs": [],
   "source": [
    "X_train, X_test, y_train, y_test = \\\n",
    "  cross_validation.train_test_split(train, labels, random_state=1301, stratify=labels, test_size=0.4)"
   ]
  },
  {
   "cell_type": "code",
   "execution_count": 50,
   "metadata": {
    "collapsed": false
   },
   "outputs": [
    {
     "name": "stdout",
     "output_type": "stream",
     "text": [
      "0.835596892036\n"
     ]
    }
   ],
   "source": [
    "from sklearn.metrics import roc_auc_score\n",
    "preds = xgb_predict(X_train, X_test, y_train)\n",
    "print roc_auc_score(y_test, preds)"
   ]
  },
  {
   "cell_type": "code",
   "execution_count": 158,
   "metadata": {
    "collapsed": true
   },
   "outputs": [],
   "source": [
    "#xgall = xgb.DMatrix(train.drop(['TARGET'],axis=1), labels)"
   ]
  },
  {
   "cell_type": "code",
   "execution_count": 159,
   "metadata": {
    "collapsed": false
   },
   "outputs": [],
   "source": [
    "pr = xgb.cv(params,xgall,num_boost_round = 100, nfold = 5)"
   ]
  },
  {
   "cell_type": "code",
   "execution_count": 160,
   "metadata": {
    "collapsed": false
   },
   "outputs": [
    {
     "data": {
      "text/plain": [
       "0.942597372"
      ]
     },
     "execution_count": 160,
     "metadata": {},
     "output_type": "execute_result"
    }
   ],
   "source": [
    "pr['test-auc-mean'].mean()"
   ]
  },
  {
   "cell_type": "code",
   "execution_count": 162,
   "metadata": {
    "collapsed": false
   },
   "outputs": [],
   "source": [
    "y_pred = xgb_predict(train,test)"
   ]
  },
  {
   "cell_type": "code",
   "execution_count": null,
   "metadata": {
    "collapsed": true
   },
   "outputs": [],
   "source": []
  },
  {
   "cell_type": "code",
   "execution_count": 163,
   "metadata": {
    "collapsed": false
   },
   "outputs": [],
   "source": [
    "submit(y_pred)"
   ]
  },
  {
   "cell_type": "code",
   "execution_count": null,
   "metadata": {
    "collapsed": true
   },
   "outputs": [],
   "source": []
  }
 ],
 "metadata": {
  "kernelspec": {
   "display_name": "Python 2",
   "language": "python",
   "name": "python2"
  },
  "language_info": {
   "codemirror_mode": {
    "name": "ipython",
    "version": 2
   },
   "file_extension": ".py",
   "mimetype": "text/x-python",
   "name": "python",
   "nbconvert_exporter": "python",
   "pygments_lexer": "ipython2",
   "version": "2.7.11"
  }
 },
 "nbformat": 4,
 "nbformat_minor": 0
}
