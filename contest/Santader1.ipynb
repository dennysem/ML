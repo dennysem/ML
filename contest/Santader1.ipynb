{
 "cells": [
  {
   "cell_type": "code",
   "execution_count": 2,
   "metadata": {
    "collapsed": false
   },
   "outputs": [],
   "source": [
    "import pandas as pd\n",
    "import numpy as np\n",
    "from sklearn import cross_validation\n",
    "import xgboost as xgb\n",
    "import sklearn"
   ]
  },
  {
   "cell_type": "code",
   "execution_count": 4,
   "metadata": {
    "collapsed": false
   },
   "outputs": [],
   "source": [
    "import matplotlib.pyplot as plt\n",
    "#import seaborn as sns\n",
    "%matplotlib inline"
   ]
  },
  {
   "cell_type": "markdown",
   "metadata": {},
   "source": [
    "## Функция для формирования посылки"
   ]
  },
  {
   "cell_type": "code",
   "execution_count": 5,
   "metadata": {
    "collapsed": true
   },
   "outputs": [],
   "source": [
    "from datetime import datetime, timedelta\n",
    "\n",
    "# На вход подается массив размера (test.shape[0], 2)\n",
    "def submit(preds):\n",
    "    n = datetime.now() + timedelta(hours=3)\n",
    "    submission = pd.read_csv('data/sample_submission.csv')\n",
    "    submission['TARGET'] = preds[:, 1]\n",
    "    submission.to_csv('submission ({0}).csv'.format(n.strftime(\"%d-%m-%Y %H:%M\")), index=0)"
   ]
  },
  {
   "cell_type": "markdown",
   "metadata": {},
   "source": [
    "## Загрузка данных"
   ]
  },
  {
   "cell_type": "code",
   "execution_count": 7,
   "metadata": {
    "collapsed": false
   },
   "outputs": [
    {
     "name": "stdout",
     "output_type": "stream",
     "text": [
      "(76020, 369)\n",
      "(75818, 369)\n"
     ]
    }
   ],
   "source": [
    "train = pd.read_csv('train.csv')\n",
    "test = pd.read_csv('test.csv')\n",
    "\n",
    "labels = train['TARGET']\n",
    "train.drop(['TARGET', 'ID'], axis=1, inplace=1)\n",
    "test.drop(['ID'], axis=1, inplace=1)\n",
    "\n",
    "print train.shape\n",
    "print test.shape"
   ]
  },
  {
   "cell_type": "code",
   "execution_count": 8,
   "metadata": {
    "collapsed": false
   },
   "outputs": [
    {
     "data": {
      "text/html": [
       "<div>\n",
       "<table border=\"1\" class=\"dataframe\">\n",
       "  <thead>\n",
       "    <tr style=\"text-align: right;\">\n",
       "      <th></th>\n",
       "      <th>var3</th>\n",
       "      <th>var15</th>\n",
       "      <th>imp_ent_var16_ult1</th>\n",
       "      <th>imp_op_var39_comer_ult1</th>\n",
       "      <th>imp_op_var39_comer_ult3</th>\n",
       "      <th>imp_op_var40_comer_ult1</th>\n",
       "      <th>imp_op_var40_comer_ult3</th>\n",
       "      <th>imp_op_var40_efect_ult1</th>\n",
       "      <th>imp_op_var40_efect_ult3</th>\n",
       "      <th>imp_op_var40_ult1</th>\n",
       "      <th>...</th>\n",
       "      <th>saldo_medio_var29_ult3</th>\n",
       "      <th>saldo_medio_var33_hace2</th>\n",
       "      <th>saldo_medio_var33_hace3</th>\n",
       "      <th>saldo_medio_var33_ult1</th>\n",
       "      <th>saldo_medio_var33_ult3</th>\n",
       "      <th>saldo_medio_var44_hace2</th>\n",
       "      <th>saldo_medio_var44_hace3</th>\n",
       "      <th>saldo_medio_var44_ult1</th>\n",
       "      <th>saldo_medio_var44_ult3</th>\n",
       "      <th>var38</th>\n",
       "    </tr>\n",
       "  </thead>\n",
       "  <tbody>\n",
       "    <tr>\n",
       "      <th>0</th>\n",
       "      <td>2</td>\n",
       "      <td>23</td>\n",
       "      <td>0.0</td>\n",
       "      <td>0.0</td>\n",
       "      <td>0.0</td>\n",
       "      <td>0.0</td>\n",
       "      <td>0.0</td>\n",
       "      <td>0.0</td>\n",
       "      <td>0.0</td>\n",
       "      <td>0.0</td>\n",
       "      <td>...</td>\n",
       "      <td>0.0</td>\n",
       "      <td>0.0</td>\n",
       "      <td>0.0</td>\n",
       "      <td>0.0</td>\n",
       "      <td>0.0</td>\n",
       "      <td>0.0</td>\n",
       "      <td>0.0</td>\n",
       "      <td>0.0</td>\n",
       "      <td>0.0</td>\n",
       "      <td>39205.170000</td>\n",
       "    </tr>\n",
       "    <tr>\n",
       "      <th>1</th>\n",
       "      <td>2</td>\n",
       "      <td>34</td>\n",
       "      <td>0.0</td>\n",
       "      <td>0.0</td>\n",
       "      <td>0.0</td>\n",
       "      <td>0.0</td>\n",
       "      <td>0.0</td>\n",
       "      <td>0.0</td>\n",
       "      <td>0.0</td>\n",
       "      <td>0.0</td>\n",
       "      <td>...</td>\n",
       "      <td>0.0</td>\n",
       "      <td>0.0</td>\n",
       "      <td>0.0</td>\n",
       "      <td>0.0</td>\n",
       "      <td>0.0</td>\n",
       "      <td>0.0</td>\n",
       "      <td>0.0</td>\n",
       "      <td>0.0</td>\n",
       "      <td>0.0</td>\n",
       "      <td>49278.030000</td>\n",
       "    </tr>\n",
       "    <tr>\n",
       "      <th>2</th>\n",
       "      <td>2</td>\n",
       "      <td>23</td>\n",
       "      <td>0.0</td>\n",
       "      <td>0.0</td>\n",
       "      <td>0.0</td>\n",
       "      <td>0.0</td>\n",
       "      <td>0.0</td>\n",
       "      <td>0.0</td>\n",
       "      <td>0.0</td>\n",
       "      <td>0.0</td>\n",
       "      <td>...</td>\n",
       "      <td>0.0</td>\n",
       "      <td>0.0</td>\n",
       "      <td>0.0</td>\n",
       "      <td>0.0</td>\n",
       "      <td>0.0</td>\n",
       "      <td>0.0</td>\n",
       "      <td>0.0</td>\n",
       "      <td>0.0</td>\n",
       "      <td>0.0</td>\n",
       "      <td>67333.770000</td>\n",
       "    </tr>\n",
       "    <tr>\n",
       "      <th>3</th>\n",
       "      <td>2</td>\n",
       "      <td>37</td>\n",
       "      <td>0.0</td>\n",
       "      <td>195.0</td>\n",
       "      <td>195.0</td>\n",
       "      <td>0.0</td>\n",
       "      <td>0.0</td>\n",
       "      <td>0.0</td>\n",
       "      <td>0.0</td>\n",
       "      <td>0.0</td>\n",
       "      <td>...</td>\n",
       "      <td>0.0</td>\n",
       "      <td>0.0</td>\n",
       "      <td>0.0</td>\n",
       "      <td>0.0</td>\n",
       "      <td>0.0</td>\n",
       "      <td>0.0</td>\n",
       "      <td>0.0</td>\n",
       "      <td>0.0</td>\n",
       "      <td>0.0</td>\n",
       "      <td>64007.970000</td>\n",
       "    </tr>\n",
       "    <tr>\n",
       "      <th>4</th>\n",
       "      <td>2</td>\n",
       "      <td>39</td>\n",
       "      <td>0.0</td>\n",
       "      <td>0.0</td>\n",
       "      <td>0.0</td>\n",
       "      <td>0.0</td>\n",
       "      <td>0.0</td>\n",
       "      <td>0.0</td>\n",
       "      <td>0.0</td>\n",
       "      <td>0.0</td>\n",
       "      <td>...</td>\n",
       "      <td>0.0</td>\n",
       "      <td>0.0</td>\n",
       "      <td>0.0</td>\n",
       "      <td>0.0</td>\n",
       "      <td>0.0</td>\n",
       "      <td>0.0</td>\n",
       "      <td>0.0</td>\n",
       "      <td>0.0</td>\n",
       "      <td>0.0</td>\n",
       "      <td>117310.979016</td>\n",
       "    </tr>\n",
       "    <tr>\n",
       "      <th>5</th>\n",
       "      <td>2</td>\n",
       "      <td>23</td>\n",
       "      <td>0.0</td>\n",
       "      <td>0.0</td>\n",
       "      <td>0.0</td>\n",
       "      <td>0.0</td>\n",
       "      <td>0.0</td>\n",
       "      <td>0.0</td>\n",
       "      <td>0.0</td>\n",
       "      <td>0.0</td>\n",
       "      <td>...</td>\n",
       "      <td>0.0</td>\n",
       "      <td>0.0</td>\n",
       "      <td>0.0</td>\n",
       "      <td>0.0</td>\n",
       "      <td>0.0</td>\n",
       "      <td>0.0</td>\n",
       "      <td>0.0</td>\n",
       "      <td>0.0</td>\n",
       "      <td>0.0</td>\n",
       "      <td>87975.750000</td>\n",
       "    </tr>\n",
       "    <tr>\n",
       "      <th>6</th>\n",
       "      <td>2</td>\n",
       "      <td>27</td>\n",
       "      <td>0.0</td>\n",
       "      <td>0.0</td>\n",
       "      <td>0.0</td>\n",
       "      <td>0.0</td>\n",
       "      <td>0.0</td>\n",
       "      <td>0.0</td>\n",
       "      <td>0.0</td>\n",
       "      <td>0.0</td>\n",
       "      <td>...</td>\n",
       "      <td>0.0</td>\n",
       "      <td>0.0</td>\n",
       "      <td>0.0</td>\n",
       "      <td>0.0</td>\n",
       "      <td>0.0</td>\n",
       "      <td>0.0</td>\n",
       "      <td>0.0</td>\n",
       "      <td>0.0</td>\n",
       "      <td>0.0</td>\n",
       "      <td>94956.660000</td>\n",
       "    </tr>\n",
       "    <tr>\n",
       "      <th>7</th>\n",
       "      <td>2</td>\n",
       "      <td>26</td>\n",
       "      <td>0.0</td>\n",
       "      <td>0.0</td>\n",
       "      <td>0.0</td>\n",
       "      <td>0.0</td>\n",
       "      <td>0.0</td>\n",
       "      <td>0.0</td>\n",
       "      <td>0.0</td>\n",
       "      <td>0.0</td>\n",
       "      <td>...</td>\n",
       "      <td>0.0</td>\n",
       "      <td>0.0</td>\n",
       "      <td>0.0</td>\n",
       "      <td>0.0</td>\n",
       "      <td>0.0</td>\n",
       "      <td>0.0</td>\n",
       "      <td>0.0</td>\n",
       "      <td>0.0</td>\n",
       "      <td>0.0</td>\n",
       "      <td>251638.950000</td>\n",
       "    </tr>\n",
       "    <tr>\n",
       "      <th>8</th>\n",
       "      <td>2</td>\n",
       "      <td>45</td>\n",
       "      <td>0.0</td>\n",
       "      <td>0.0</td>\n",
       "      <td>0.0</td>\n",
       "      <td>0.0</td>\n",
       "      <td>0.0</td>\n",
       "      <td>0.0</td>\n",
       "      <td>0.0</td>\n",
       "      <td>0.0</td>\n",
       "      <td>...</td>\n",
       "      <td>0.0</td>\n",
       "      <td>0.0</td>\n",
       "      <td>0.0</td>\n",
       "      <td>0.0</td>\n",
       "      <td>0.0</td>\n",
       "      <td>0.0</td>\n",
       "      <td>0.0</td>\n",
       "      <td>0.0</td>\n",
       "      <td>0.0</td>\n",
       "      <td>101962.020000</td>\n",
       "    </tr>\n",
       "    <tr>\n",
       "      <th>9</th>\n",
       "      <td>2</td>\n",
       "      <td>25</td>\n",
       "      <td>0.0</td>\n",
       "      <td>0.0</td>\n",
       "      <td>0.0</td>\n",
       "      <td>0.0</td>\n",
       "      <td>0.0</td>\n",
       "      <td>0.0</td>\n",
       "      <td>0.0</td>\n",
       "      <td>0.0</td>\n",
       "      <td>...</td>\n",
       "      <td>0.0</td>\n",
       "      <td>0.0</td>\n",
       "      <td>0.0</td>\n",
       "      <td>0.0</td>\n",
       "      <td>0.0</td>\n",
       "      <td>0.0</td>\n",
       "      <td>0.0</td>\n",
       "      <td>0.0</td>\n",
       "      <td>0.0</td>\n",
       "      <td>356463.060000</td>\n",
       "    </tr>\n",
       "  </tbody>\n",
       "</table>\n",
       "<p>10 rows × 369 columns</p>\n",
       "</div>"
      ],
      "text/plain": [
       "   var3  var15  imp_ent_var16_ult1  imp_op_var39_comer_ult1  \\\n",
       "0     2     23                 0.0                      0.0   \n",
       "1     2     34                 0.0                      0.0   \n",
       "2     2     23                 0.0                      0.0   \n",
       "3     2     37                 0.0                    195.0   \n",
       "4     2     39                 0.0                      0.0   \n",
       "5     2     23                 0.0                      0.0   \n",
       "6     2     27                 0.0                      0.0   \n",
       "7     2     26                 0.0                      0.0   \n",
       "8     2     45                 0.0                      0.0   \n",
       "9     2     25                 0.0                      0.0   \n",
       "\n",
       "   imp_op_var39_comer_ult3  imp_op_var40_comer_ult1  imp_op_var40_comer_ult3  \\\n",
       "0                      0.0                      0.0                      0.0   \n",
       "1                      0.0                      0.0                      0.0   \n",
       "2                      0.0                      0.0                      0.0   \n",
       "3                    195.0                      0.0                      0.0   \n",
       "4                      0.0                      0.0                      0.0   \n",
       "5                      0.0                      0.0                      0.0   \n",
       "6                      0.0                      0.0                      0.0   \n",
       "7                      0.0                      0.0                      0.0   \n",
       "8                      0.0                      0.0                      0.0   \n",
       "9                      0.0                      0.0                      0.0   \n",
       "\n",
       "   imp_op_var40_efect_ult1  imp_op_var40_efect_ult3  imp_op_var40_ult1  \\\n",
       "0                      0.0                      0.0                0.0   \n",
       "1                      0.0                      0.0                0.0   \n",
       "2                      0.0                      0.0                0.0   \n",
       "3                      0.0                      0.0                0.0   \n",
       "4                      0.0                      0.0                0.0   \n",
       "5                      0.0                      0.0                0.0   \n",
       "6                      0.0                      0.0                0.0   \n",
       "7                      0.0                      0.0                0.0   \n",
       "8                      0.0                      0.0                0.0   \n",
       "9                      0.0                      0.0                0.0   \n",
       "\n",
       "       ...        saldo_medio_var29_ult3  saldo_medio_var33_hace2  \\\n",
       "0      ...                           0.0                      0.0   \n",
       "1      ...                           0.0                      0.0   \n",
       "2      ...                           0.0                      0.0   \n",
       "3      ...                           0.0                      0.0   \n",
       "4      ...                           0.0                      0.0   \n",
       "5      ...                           0.0                      0.0   \n",
       "6      ...                           0.0                      0.0   \n",
       "7      ...                           0.0                      0.0   \n",
       "8      ...                           0.0                      0.0   \n",
       "9      ...                           0.0                      0.0   \n",
       "\n",
       "   saldo_medio_var33_hace3  saldo_medio_var33_ult1  saldo_medio_var33_ult3  \\\n",
       "0                      0.0                     0.0                     0.0   \n",
       "1                      0.0                     0.0                     0.0   \n",
       "2                      0.0                     0.0                     0.0   \n",
       "3                      0.0                     0.0                     0.0   \n",
       "4                      0.0                     0.0                     0.0   \n",
       "5                      0.0                     0.0                     0.0   \n",
       "6                      0.0                     0.0                     0.0   \n",
       "7                      0.0                     0.0                     0.0   \n",
       "8                      0.0                     0.0                     0.0   \n",
       "9                      0.0                     0.0                     0.0   \n",
       "\n",
       "   saldo_medio_var44_hace2  saldo_medio_var44_hace3  saldo_medio_var44_ult1  \\\n",
       "0                      0.0                      0.0                     0.0   \n",
       "1                      0.0                      0.0                     0.0   \n",
       "2                      0.0                      0.0                     0.0   \n",
       "3                      0.0                      0.0                     0.0   \n",
       "4                      0.0                      0.0                     0.0   \n",
       "5                      0.0                      0.0                     0.0   \n",
       "6                      0.0                      0.0                     0.0   \n",
       "7                      0.0                      0.0                     0.0   \n",
       "8                      0.0                      0.0                     0.0   \n",
       "9                      0.0                      0.0                     0.0   \n",
       "\n",
       "   saldo_medio_var44_ult3          var38  \n",
       "0                     0.0   39205.170000  \n",
       "1                     0.0   49278.030000  \n",
       "2                     0.0   67333.770000  \n",
       "3                     0.0   64007.970000  \n",
       "4                     0.0  117310.979016  \n",
       "5                     0.0   87975.750000  \n",
       "6                     0.0   94956.660000  \n",
       "7                     0.0  251638.950000  \n",
       "8                     0.0  101962.020000  \n",
       "9                     0.0  356463.060000  \n",
       "\n",
       "[10 rows x 369 columns]"
      ]
     },
     "execution_count": 8,
     "metadata": {},
     "output_type": "execute_result"
    }
   ],
   "source": [
    "train.head(10)"
   ]
  },
  {
   "cell_type": "code",
   "execution_count": 6,
   "metadata": {
    "collapsed": false
   },
   "outputs": [
    {
     "data": {
      "text/plain": [
       "int64      258\n",
       "float64    111\n",
       "dtype: int64"
      ]
     },
     "execution_count": 6,
     "metadata": {},
     "output_type": "execute_result"
    }
   ],
   "source": [
    "train.dtypes.value_counts()"
   ]
  },
  {
   "cell_type": "code",
   "execution_count": 7,
   "metadata": {
    "collapsed": false
   },
   "outputs": [
    {
     "data": {
      "text/plain": [
       "0    73012\n",
       "1     3008\n",
       "Name: TARGET, dtype: int64"
      ]
     },
     "execution_count": 7,
     "metadata": {},
     "output_type": "execute_result"
    }
   ],
   "source": [
    "labels.value_counts()"
   ]
  },
  {
   "cell_type": "markdown",
   "metadata": {},
   "source": [
    "Классы несбалансированы"
   ]
  },
  {
   "cell_type": "code",
   "execution_count": 8,
   "metadata": {
    "collapsed": false
   },
   "outputs": [
    {
     "data": {
      "text/plain": [
       "<matplotlib.text.Text at 0x7f608377db10>"
      ]
     },
     "execution_count": 8,
     "metadata": {},
     "output_type": "execute_result"
    },
    {
     "data": {
      "image/png": "[encoded data removed]",
      "text/plain": [
       "<matplotlib.figure.Figure at 0x7f608299b550>"
      ]
     },
     "metadata": {},
     "output_type": "display_data"
    }
   ],
   "source": [
    "plt.figure(figsize=(10, 5))\n",
    "sns.countplot(sorted([train[col].nunique() for col in train])[:250])\n",
    "plt.title('Unique values in columns')"
   ]
  },
  {
   "cell_type": "markdown",
   "metadata": {},
   "source": [
    "Примерно ~35 колонок содержат одно уникальное значение, поэтому их можно удалить"
   ]
  },
  {
   "cell_type": "code",
   "execution_count": 8,
   "metadata": {
    "collapsed": false
   },
   "outputs": [
    {
     "data": {
      "text/plain": [
       "(76020, 369)"
      ]
     },
     "execution_count": 8,
     "metadata": {},
     "output_type": "execute_result"
    }
   ],
   "source": [
    "train.shape"
   ]
  },
  {
   "cell_type": "code",
   "execution_count": 9,
   "metadata": {
    "collapsed": false
   },
   "outputs": [
    {
     "data": {
      "text/plain": [
       "(75818, 369)"
      ]
     },
     "execution_count": 9,
     "metadata": {},
     "output_type": "execute_result"
    }
   ],
   "source": [
    "test.shape"
   ]
  },
  {
   "cell_type": "markdown",
   "metadata": {},
   "source": [
    "Можно заметить, что в данных очень много нулей. Посмотрим насколько много:"
   ]
  },
  {
   "cell_type": "code",
   "execution_count": 13,
   "metadata": {
    "collapsed": false
   },
   "outputs": [
    {
     "name": "stdout",
     "output_type": "stream",
     "text": [
      "Нулей: 89.98%\n"
     ]
    }
   ],
   "source": [
    "zeros_share = (train == 0).sum().sum() * 1. / np.prod(train.shape)\n",
    "print 'Нулей: {0:0.2f}%'.format(100 * zeros_share)"
   ]
  },
  {
   "cell_type": "code",
   "execution_count": 14,
   "metadata": {
    "collapsed": false
   },
   "outputs": [
    {
     "data": {
      "image/png": "[encoded data removed]",
      "text/plain": [
       "<matplotlib.figure.Figure at 0x7f608b338210>"
      ]
     },
     "metadata": {},
     "output_type": "display_data"
    }
   ],
   "source": [
    "zero_counts = (train == 0).sum().sort_values() * 1. / train.shape[0]\n",
    "plt.figure(figsize=(10, 5))\n",
    "plt.plot(range(train.shape[1]), zero_counts.values)\n",
    "_ = plt.ylim(0, 1.1)"
   ]
  },
  {
   "cell_type": "markdown",
   "metadata": {},
   "source": [
    "Примерно в 2/3 колонок нулей больше 95%!"
   ]
  },
  {
   "cell_type": "code",
   "execution_count": 15,
   "metadata": {
    "collapsed": false
   },
   "outputs": [
    {
     "data": {
      "image/png": "[encoded data removed]",
      "text/plain": [
       "<matplotlib.figure.Figure at 0x7fd6d7361090>"
      ]
     },
     "metadata": {},
     "output_type": "display_data"
    }
   ],
   "source": [
    "zeros_by_objects = (train == 0).sum(axis=1).sort_values() * 1. / train.shape[1]\n",
    "plt.figure(figsize=(10, 5))\n",
    "plt.plot(range(train.shape[0]), zeros_by_objects)\n",
    "_ = plt.title('Zeros share by objects')"
   ]
  },
  {
   "cell_type": "markdown",
   "metadata": {},
   "source": [
    "Почти во всех объектах нулей больше 75%, в половине - больше 90%. Так как у нас много признаков и они очень разреженные, то можно сделать вывод, что нули - это отсутствие информации о данном объекте. Например, человек никогда не брал вкладов и тогда признаки, отвечающие за вклады будут у него отсутствовать. Из этого можно извлечь информацию"
   ]
  },
  {
   "cell_type": "code",
   "execution_count": 7,
   "metadata": {
    "collapsed": true
   },
   "outputs": [],
   "source": [
    "unique_values = np.array([train[col].nunique() for col in train])\n",
    "test.drop(train.columns[unique_values == 1], axis=1, inplace=1)\n",
    "train.drop(train.columns[unique_values == 1], axis=1, inplace=1)"
   ]
  },
  {
   "cell_type": "code",
   "execution_count": 8,
   "metadata": {
    "collapsed": false
   },
   "outputs": [
    {
     "name": "stdout",
     "output_type": "stream",
     "text": [
      "Дублирующихся признаков: 29\n"
     ]
    }
   ],
   "source": [
    "from itertools import combinations\n",
    "\n",
    "features_duplicates = set()\n",
    "visited_cols = set()\n",
    "\n",
    "for col1 in train:\n",
    "    visited_cols.add(col1)\n",
    "    for col2 in train:\n",
    "        if col2 in visited_cols or col2 in features_duplicates:\n",
    "            continue\n",
    "        if np.array_equal(train[col1], train[col2]):\n",
    "            features_duplicates.add(col2)\n",
    "            \n",
    "print 'Дублирующихся признаков: {0}'.format(len(features_duplicates))"
   ]
  },
  {
   "cell_type": "markdown",
   "metadata": {},
   "source": [
    "Оказывается среди коррелирующих признаков есть много дубликатов. Их можно удалить!"
   ]
  },
  {
   "cell_type": "code",
   "execution_count": 9,
   "metadata": {
    "collapsed": false
   },
   "outputs": [],
   "source": [
    "train.drop(features_duplicates, axis=1, inplace=1)\n",
    "test.drop(features_duplicates, axis=1, inplace=1)"
   ]
  },
  {
   "cell_type": "code",
   "execution_count": 10,
   "metadata": {
    "collapsed": false
   },
   "outputs": [
    {
     "data": {
      "text/plain": [
       "(76020, 306)"
      ]
     },
     "execution_count": 10,
     "metadata": {},
     "output_type": "execute_result"
    }
   ],
   "source": [
    "train.shape"
   ]
  },
  {
   "cell_type": "markdown",
   "metadata": {},
   "source": [
    "## На признаки"
   ]
  },
  {
   "cell_type": "code",
   "execution_count": 21,
   "metadata": {
    "collapsed": false
   },
   "outputs": [
    {
     "data": {
      "image/png": "[encoded data removed]",
      "text/plain": [
       "<matplotlib.figure.Figure at 0x7fd2c761dbd0>"
      ]
     },
     "metadata": {},
     "output_type": "display_data"
    }
   ],
   "source": [
    "from sklearn.ensemble import RandomForestClassifier\n",
    "\n",
    "rf = RandomForestClassifier(n_estimators=100, n_jobs=-1)\n",
    "rf.fit(train, labels)\n",
    "importances = pd.DataFrame({'column':train.columns, 'importance':rf.feature_importances_}).sort_values(by='importance', ascending=0)\n",
    "plt.figure(figsize=(15, 6))\n",
    "sns.barplot(x='column', y='importance', data=importances.iloc[:20])\n",
    "_ = plt.xticks(rotation=90)\n"
   ]
  },
  {
   "cell_type": "markdown",
   "metadata": {},
   "source": [
    "посмотрим на 2 самых важных признака"
   ]
  },
  {
   "cell_type": "code",
   "execution_count": 22,
   "metadata": {
    "collapsed": false
   },
   "outputs": [
    {
     "data": {
      "text/plain": [
       "<matplotlib.axes._subplots.AxesSubplot at 0x7fd2c758b6d0>"
      ]
     },
     "execution_count": 22,
     "metadata": {},
     "output_type": "execute_result"
    },
    {
     "data": {
      "image/png": "[encoded data removed]",
      "text/plain": [
       "<matplotlib.figure.Figure at 0x7fd2c758b050>"
      ]
     },
     "metadata": {},
     "output_type": "display_data"
    }
   ],
   "source": [
    "plt.figure(figsize=(10, 6))\n",
    "sns.distplot(np.log1p(train['var38']))"
   ]
  },
  {
   "cell_type": "markdown",
   "metadata": {},
   "source": [
    "## var38"
   ]
  },
  {
   "cell_type": "code",
   "execution_count": 10,
   "metadata": {
    "collapsed": false
   },
   "outputs": [
    {
     "data": {
      "text/plain": [
       "117310.979016    14868\n",
       "451931.220000       16\n",
       "463625.160000       12\n",
       "288997.440000       11\n",
       "104563.800000       11\n",
       "236690.340000        8\n",
       "104644.410000        7\n",
       "125722.440000        7\n",
       "329603.970000        7\n",
       "128318.520000        7\n",
       "Name: var38, dtype: int64"
      ]
     },
     "execution_count": 10,
     "metadata": {},
     "output_type": "execute_result"
    }
   ],
   "source": [
    "train['var38'].value_counts().iloc[:10]"
   ]
  },
  {
   "cell_type": "markdown",
   "metadata": {},
   "source": [
    "Первое значение встречается подозрительно часто. Может быть это NaN, которые заменили на среднее? Проверим гипотезу"
   ]
  },
  {
   "cell_type": "code",
   "execution_count": 11,
   "metadata": {
    "collapsed": false
   },
   "outputs": [
    {
     "data": {
      "text/plain": [
       "117310.979024098"
      ]
     },
     "execution_count": 11,
     "metadata": {},
     "output_type": "execute_result"
    }
   ],
   "source": [
    "all = pd.concat([train, test])\n",
    "mask = np.isclose(all['var38'], 117310.979, atol=1e-2)\n",
    "all.loc[~mask, 'var38'].mean()"
   ]
  },
  {
   "cell_type": "markdown",
   "metadata": {},
   "source": [
    "Да, все сходится - организаторы конкурса заменили NaN в этой колонке на среднее. Из этого можно извлечь информацию - можно добавить фичу - is_var38_NaN"
   ]
  },
  {
   "cell_type": "code",
   "execution_count": 11,
   "metadata": {
    "collapsed": false
   },
   "outputs": [],
   "source": [
    "# var38mc == 1 when var38 has the most common value and 0 otherwise\n",
    "# logvar38 is log transformed feature when var38mc is 0, zero otherwisetrain['var38mc'] = np.isclose(train.var38, 117310.979016)\n",
    "train['var38mc'] = np.isclose(train.var38, 117310.979016)\n",
    "train['logvar38'] = train.loc[~train['var38mc'], 'var38'].map(np.log)\n",
    "train.loc[train['var38mc'], 'logvar38'] = 0"
   ]
  },
  {
   "cell_type": "code",
   "execution_count": 13,
   "metadata": {
    "collapsed": false
   },
   "outputs": [
    {
     "data": {
      "text/plain": [
       "117310.979016    14805\n",
       "451931.220000       16\n",
       "128318.520000       12\n",
       "288997.440000       10\n",
       "97639.560000         8\n",
       "104040.180000        8\n",
       "56021.610000         7\n",
       "63203.340000         7\n",
       "148736.190000        7\n",
       "168733.620000        7\n",
       "Name: var38, dtype: int64"
      ]
     },
     "execution_count": 13,
     "metadata": {},
     "output_type": "execute_result"
    }
   ],
   "source": [
    "test['var38'].value_counts().iloc[:10]"
   ]
  },
  {
   "cell_type": "code",
   "execution_count": 12,
   "metadata": {
    "collapsed": false
   },
   "outputs": [],
   "source": [
    "test['var38mc'] = np.isclose(test.var38, 117310.979016)\n",
    "test['logvar38'] = test.loc[~test['var38mc'], 'var38'].map(np.log)\n",
    "test.loc[test['var38mc'], 'logvar38'] = 0"
   ]
  },
  {
   "cell_type": "markdown",
   "metadata": {},
   "source": [
    "## var15"
   ]
  },
  {
   "cell_type": "code",
   "execution_count": 15,
   "metadata": {
    "collapsed": false
   },
   "outputs": [
    {
     "data": {
      "text/plain": [
       "<matplotlib.axes._subplots.AxesSubplot at 0x7f70c5ac6790>"
      ]
     },
     "execution_count": 15,
     "metadata": {},
     "output_type": "execute_result"
    },
    {
     "data": {
      "image/png": "[encoded data removed]",
      "text/plain": [
       "<matplotlib.figure.Figure at 0x7f70c5ac6f50>"
      ]
     },
     "metadata": {},
     "output_type": "display_data"
    }
   ],
   "source": [
    "\n",
    "plt.figure(figsize=(10, 6))\n",
    "sns.distplot(train['var15'])"
   ]
  },
  {
   "cell_type": "code",
   "execution_count": null,
   "metadata": {
    "collapsed": true
   },
   "outputs": [],
   "source": []
  },
  {
   "cell_type": "markdown",
   "metadata": {},
   "source": [
    "Распределение очень напоминает возраст. Из этого тоже можно извлечь информацию - разделить по возрастным группам и т.д."
   ]
  },
  {
   "cell_type": "code",
   "execution_count": 13,
   "metadata": {
    "collapsed": true
   },
   "outputs": [],
   "source": [
    "\n",
    "train.rename(columns={'var15': 'age'}, inplace=True)\n",
    "test.rename(columns={'var15': 'age'}, inplace=True)\n"
   ]
  },
  {
   "cell_type": "markdown",
   "metadata": {},
   "source": [
    "### var3 nationality of the customer"
   ]
  },
  {
   "cell_type": "code",
   "execution_count": 16,
   "metadata": {
    "collapsed": false
   },
   "outputs": [
    {
     "data": {
      "text/plain": [
       " 2         74165\n",
       " 8           138\n",
       "-999999      116\n",
       " 9           110\n",
       " 3           108\n",
       " 1           105\n",
       " 13           98\n",
       " 7            97\n",
       " 4            86\n",
       " 12           85\n",
       "Name: var3, dtype: int64"
      ]
     },
     "execution_count": 16,
     "metadata": {},
     "output_type": "execute_result"
    }
   ],
   "source": [
    "train.var3.value_counts() [:10]"
   ]
  },
  {
   "cell_type": "code",
   "execution_count": 14,
   "metadata": {
    "collapsed": false
   },
   "outputs": [
    {
     "data": {
      "text/plain": [
       "(0, 308)"
      ]
     },
     "execution_count": 14,
     "metadata": {},
     "output_type": "execute_result"
    }
   ],
   "source": [
    "# Replace -999999 in var3 column with most common value 2 (because -99999 is NaN)\n",
    "train = train.replace(-999999,2)\n",
    "train.loc[train.var3==-999999].shape"
   ]
  },
  {
   "cell_type": "code",
   "execution_count": 18,
   "metadata": {
    "collapsed": false
   },
   "outputs": [
    {
     "data": {
      "text/plain": [
       "2     74281\n",
       "8       138\n",
       "9       110\n",
       "3       108\n",
       "1       105\n",
       "13       98\n",
       "7        97\n",
       "4        86\n",
       "12       85\n",
       "6        82\n",
       "Name: var3, dtype: int64"
      ]
     },
     "execution_count": 18,
     "metadata": {},
     "output_type": "execute_result"
    }
   ],
   "source": [
    "train.var3.value_counts()[:10]"
   ]
  },
  {
   "cell_type": "code",
   "execution_count": 19,
   "metadata": {
    "collapsed": false
   },
   "outputs": [
    {
     "data": {
      "text/plain": [
       " 2         73962\n",
       "-999999      120\n",
       " 8           116\n",
       " 9           108\n",
       " 3           107\n",
       " 13          107\n",
       " 1            99\n",
       " 10           85\n",
       " 11           85\n",
       " 12           83\n",
       "Name: var3, dtype: int64"
      ]
     },
     "execution_count": 19,
     "metadata": {},
     "output_type": "execute_result"
    }
   ],
   "source": [
    "test.var3.value_counts()[:10]"
   ]
  },
  {
   "cell_type": "code",
   "execution_count": 15,
   "metadata": {
    "collapsed": false
   },
   "outputs": [
    {
     "data": {
      "text/plain": [
       "(0, 308)"
      ]
     },
     "execution_count": 15,
     "metadata": {},
     "output_type": "execute_result"
    }
   ],
   "source": [
    "test = test.replace(-999999,2)\n",
    "test.loc[test.var3==-999999].shape"
   ]
  },
  {
   "cell_type": "markdown",
   "metadata": {},
   "source": [
    "### number of zeros in the row"
   ]
  },
  {
   "cell_type": "code",
   "execution_count": 16,
   "metadata": {
    "collapsed": true
   },
   "outputs": [],
   "source": [
    "train['n0'] = (train==0).sum(axis=1)"
   ]
  },
  {
   "cell_type": "code",
   "execution_count": 17,
   "metadata": {
    "collapsed": false
   },
   "outputs": [
    {
     "data": {
      "text/html": [
       "<div>\n",
       "<table border=\"1\" class=\"dataframe\">\n",
       "  <thead>\n",
       "    <tr style=\"text-align: right;\">\n",
       "      <th></th>\n",
       "      <th>var3</th>\n",
       "      <th>age</th>\n",
       "      <th>imp_ent_var16_ult1</th>\n",
       "      <th>imp_op_var39_comer_ult1</th>\n",
       "      <th>imp_op_var39_comer_ult3</th>\n",
       "      <th>imp_op_var40_comer_ult1</th>\n",
       "      <th>imp_op_var40_comer_ult3</th>\n",
       "      <th>imp_op_var40_efect_ult1</th>\n",
       "      <th>imp_op_var40_efect_ult3</th>\n",
       "      <th>imp_op_var40_ult1</th>\n",
       "      <th>...</th>\n",
       "      <th>saldo_medio_var33_ult1</th>\n",
       "      <th>saldo_medio_var33_ult3</th>\n",
       "      <th>saldo_medio_var44_hace2</th>\n",
       "      <th>saldo_medio_var44_hace3</th>\n",
       "      <th>saldo_medio_var44_ult1</th>\n",
       "      <th>saldo_medio_var44_ult3</th>\n",
       "      <th>var38</th>\n",
       "      <th>var38mc</th>\n",
       "      <th>logvar38</th>\n",
       "      <th>n0</th>\n",
       "    </tr>\n",
       "  </thead>\n",
       "  <tbody>\n",
       "    <tr>\n",
       "      <th>0</th>\n",
       "      <td>2</td>\n",
       "      <td>23</td>\n",
       "      <td>0</td>\n",
       "      <td>0</td>\n",
       "      <td>0</td>\n",
       "      <td>0</td>\n",
       "      <td>0</td>\n",
       "      <td>0</td>\n",
       "      <td>0</td>\n",
       "      <td>0</td>\n",
       "      <td>...</td>\n",
       "      <td>0</td>\n",
       "      <td>0</td>\n",
       "      <td>0</td>\n",
       "      <td>0</td>\n",
       "      <td>0</td>\n",
       "      <td>0</td>\n",
       "      <td>39205.17</td>\n",
       "      <td>False</td>\n",
       "      <td>10.576564</td>\n",
       "      <td>293</td>\n",
       "    </tr>\n",
       "    <tr>\n",
       "      <th>1</th>\n",
       "      <td>2</td>\n",
       "      <td>34</td>\n",
       "      <td>0</td>\n",
       "      <td>0</td>\n",
       "      <td>0</td>\n",
       "      <td>0</td>\n",
       "      <td>0</td>\n",
       "      <td>0</td>\n",
       "      <td>0</td>\n",
       "      <td>0</td>\n",
       "      <td>...</td>\n",
       "      <td>0</td>\n",
       "      <td>0</td>\n",
       "      <td>0</td>\n",
       "      <td>0</td>\n",
       "      <td>0</td>\n",
       "      <td>0</td>\n",
       "      <td>49278.03</td>\n",
       "      <td>False</td>\n",
       "      <td>10.805234</td>\n",
       "      <td>267</td>\n",
       "    </tr>\n",
       "    <tr>\n",
       "      <th>2</th>\n",
       "      <td>2</td>\n",
       "      <td>23</td>\n",
       "      <td>0</td>\n",
       "      <td>0</td>\n",
       "      <td>0</td>\n",
       "      <td>0</td>\n",
       "      <td>0</td>\n",
       "      <td>0</td>\n",
       "      <td>0</td>\n",
       "      <td>0</td>\n",
       "      <td>...</td>\n",
       "      <td>0</td>\n",
       "      <td>0</td>\n",
       "      <td>0</td>\n",
       "      <td>0</td>\n",
       "      <td>0</td>\n",
       "      <td>0</td>\n",
       "      <td>67333.77</td>\n",
       "      <td>False</td>\n",
       "      <td>11.117417</td>\n",
       "      <td>278</td>\n",
       "    </tr>\n",
       "  </tbody>\n",
       "</table>\n",
       "<p>3 rows × 309 columns</p>\n",
       "</div>"
      ],
      "text/plain": [
       "   var3  age  imp_ent_var16_ult1  imp_op_var39_comer_ult1  \\\n",
       "0     2   23                   0                        0   \n",
       "1     2   34                   0                        0   \n",
       "2     2   23                   0                        0   \n",
       "\n",
       "   imp_op_var39_comer_ult3  imp_op_var40_comer_ult1  imp_op_var40_comer_ult3  \\\n",
       "0                        0                        0                        0   \n",
       "1                        0                        0                        0   \n",
       "2                        0                        0                        0   \n",
       "\n",
       "   imp_op_var40_efect_ult1  imp_op_var40_efect_ult3  imp_op_var40_ult1 ...   \\\n",
       "0                        0                        0                  0 ...    \n",
       "1                        0                        0                  0 ...    \n",
       "2                        0                        0                  0 ...    \n",
       "\n",
       "   saldo_medio_var33_ult1  saldo_medio_var33_ult3  saldo_medio_var44_hace2  \\\n",
       "0                       0                       0                        0   \n",
       "1                       0                       0                        0   \n",
       "2                       0                       0                        0   \n",
       "\n",
       "   saldo_medio_var44_hace3  saldo_medio_var44_ult1  saldo_medio_var44_ult3  \\\n",
       "0                        0                       0                       0   \n",
       "1                        0                       0                       0   \n",
       "2                        0                       0                       0   \n",
       "\n",
       "      var38  var38mc   logvar38   n0  \n",
       "0  39205.17    False  10.576564  293  \n",
       "1  49278.03    False  10.805234  267  \n",
       "2  67333.77    False  11.117417  278  \n",
       "\n",
       "[3 rows x 309 columns]"
      ]
     },
     "execution_count": 17,
     "metadata": {},
     "output_type": "execute_result"
    }
   ],
   "source": [
    "train[:3]"
   ]
  },
  {
   "cell_type": "code",
   "execution_count": 18,
   "metadata": {
    "collapsed": true
   },
   "outputs": [],
   "source": [
    "test['n0'] = (test==0).sum(axis=1)"
   ]
  },
  {
   "cell_type": "markdown",
   "metadata": {},
   "source": [
    "### saldo_var30"
   ]
  },
  {
   "cell_type": "code",
   "execution_count": 19,
   "metadata": {
    "collapsed": true
   },
   "outputs": [],
   "source": [
    "train['saldo_0'] = train['saldo_var30'].apply(lambda x:  x == 0 )\n",
    "test['saldo_0'] = test['saldo_var30'].apply(lambda x:  x == 0 )"
   ]
  },
  {
   "cell_type": "code",
   "execution_count": 33,
   "metadata": {
    "collapsed": false
   },
   "outputs": [
    {
     "data": {
      "text/html": [
       "<div>\n",
       "<table border=\"1\" class=\"dataframe\">\n",
       "  <thead>\n",
       "    <tr style=\"text-align: right;\">\n",
       "      <th></th>\n",
       "      <th>var3</th>\n",
       "      <th>age</th>\n",
       "      <th>imp_ent_var16_ult1</th>\n",
       "      <th>imp_op_var39_comer_ult1</th>\n",
       "      <th>imp_op_var39_comer_ult3</th>\n",
       "      <th>imp_op_var40_comer_ult1</th>\n",
       "      <th>imp_op_var40_comer_ult3</th>\n",
       "      <th>imp_op_var40_efect_ult1</th>\n",
       "      <th>imp_op_var40_efect_ult3</th>\n",
       "      <th>imp_op_var40_ult1</th>\n",
       "      <th>...</th>\n",
       "      <th>saldo_medio_var33_ult3</th>\n",
       "      <th>saldo_medio_var44_hace2</th>\n",
       "      <th>saldo_medio_var44_hace3</th>\n",
       "      <th>saldo_medio_var44_ult1</th>\n",
       "      <th>saldo_medio_var44_ult3</th>\n",
       "      <th>var38</th>\n",
       "      <th>var38mc</th>\n",
       "      <th>logvar38</th>\n",
       "      <th>n0</th>\n",
       "      <th>log_saldo_var30</th>\n",
       "    </tr>\n",
       "  </thead>\n",
       "  <tbody>\n",
       "    <tr>\n",
       "      <th>0</th>\n",
       "      <td>2</td>\n",
       "      <td>23</td>\n",
       "      <td>0</td>\n",
       "      <td>0</td>\n",
       "      <td>0</td>\n",
       "      <td>0</td>\n",
       "      <td>0</td>\n",
       "      <td>0</td>\n",
       "      <td>0</td>\n",
       "      <td>0</td>\n",
       "      <td>...</td>\n",
       "      <td>0</td>\n",
       "      <td>0</td>\n",
       "      <td>0</td>\n",
       "      <td>0</td>\n",
       "      <td>0</td>\n",
       "      <td>39205.17</td>\n",
       "      <td>False</td>\n",
       "      <td>10.576564</td>\n",
       "      <td>293</td>\n",
       "      <td>0.000000</td>\n",
       "    </tr>\n",
       "    <tr>\n",
       "      <th>1</th>\n",
       "      <td>2</td>\n",
       "      <td>34</td>\n",
       "      <td>0</td>\n",
       "      <td>0</td>\n",
       "      <td>0</td>\n",
       "      <td>0</td>\n",
       "      <td>0</td>\n",
       "      <td>0</td>\n",
       "      <td>0</td>\n",
       "      <td>0</td>\n",
       "      <td>...</td>\n",
       "      <td>0</td>\n",
       "      <td>0</td>\n",
       "      <td>0</td>\n",
       "      <td>0</td>\n",
       "      <td>0</td>\n",
       "      <td>49278.03</td>\n",
       "      <td>False</td>\n",
       "      <td>10.805234</td>\n",
       "      <td>267</td>\n",
       "      <td>5.703782</td>\n",
       "    </tr>\n",
       "  </tbody>\n",
       "</table>\n",
       "<p>2 rows × 310 columns</p>\n",
       "</div>"
      ],
      "text/plain": [
       "   var3  age  imp_ent_var16_ult1  imp_op_var39_comer_ult1  \\\n",
       "0     2   23                   0                        0   \n",
       "1     2   34                   0                        0   \n",
       "\n",
       "   imp_op_var39_comer_ult3  imp_op_var40_comer_ult1  imp_op_var40_comer_ult3  \\\n",
       "0                        0                        0                        0   \n",
       "1                        0                        0                        0   \n",
       "\n",
       "   imp_op_var40_efect_ult1  imp_op_var40_efect_ult3  imp_op_var40_ult1  \\\n",
       "0                        0                        0                  0   \n",
       "1                        0                        0                  0   \n",
       "\n",
       "        ...         saldo_medio_var33_ult3  saldo_medio_var44_hace2  \\\n",
       "0       ...                              0                        0   \n",
       "1       ...                              0                        0   \n",
       "\n",
       "   saldo_medio_var44_hace3  saldo_medio_var44_ult1  saldo_medio_var44_ult3  \\\n",
       "0                        0                       0                       0   \n",
       "1                        0                       0                       0   \n",
       "\n",
       "      var38  var38mc   logvar38   n0  log_saldo_var30  \n",
       "0  39205.17    False  10.576564  293         0.000000  \n",
       "1  49278.03    False  10.805234  267         5.703782  \n",
       "\n",
       "[2 rows x 310 columns]"
      ]
     },
     "execution_count": 33,
     "metadata": {},
     "output_type": "execute_result"
    }
   ],
   "source": [
    "train[:2]"
   ]
  },
  {
   "cell_type": "code",
   "execution_count": 78,
   "metadata": {
    "collapsed": false
   },
   "outputs": [
    {
     "data": {
      "text/html": [
       "<div>\n",
       "<table border=\"1\" class=\"dataframe\">\n",
       "  <thead>\n",
       "    <tr style=\"text-align: right;\">\n",
       "      <th></th>\n",
       "      <th>var3</th>\n",
       "      <th>age</th>\n",
       "      <th>imp_ent_var16_ult1</th>\n",
       "      <th>imp_op_var39_comer_ult1</th>\n",
       "      <th>imp_op_var39_comer_ult3</th>\n",
       "      <th>imp_op_var40_comer_ult1</th>\n",
       "      <th>imp_op_var40_comer_ult3</th>\n",
       "      <th>imp_op_var40_efect_ult1</th>\n",
       "      <th>imp_op_var40_efect_ult3</th>\n",
       "      <th>imp_op_var40_ult1</th>\n",
       "      <th>...</th>\n",
       "      <th>saldo_medio_var44_hace2</th>\n",
       "      <th>saldo_medio_var44_hace3</th>\n",
       "      <th>saldo_medio_var44_ult1</th>\n",
       "      <th>saldo_medio_var44_ult3</th>\n",
       "      <th>var38</th>\n",
       "      <th>var38mc</th>\n",
       "      <th>logvar38</th>\n",
       "      <th>n0</th>\n",
       "      <th>log_saldo_var30</th>\n",
       "      <th>is_var36_99</th>\n",
       "    </tr>\n",
       "  </thead>\n",
       "  <tbody>\n",
       "    <tr>\n",
       "      <th>0</th>\n",
       "      <td>2</td>\n",
       "      <td>32</td>\n",
       "      <td>0</td>\n",
       "      <td>0</td>\n",
       "      <td>0</td>\n",
       "      <td>0</td>\n",
       "      <td>0</td>\n",
       "      <td>0</td>\n",
       "      <td>0</td>\n",
       "      <td>0</td>\n",
       "      <td>...</td>\n",
       "      <td>0</td>\n",
       "      <td>0</td>\n",
       "      <td>0</td>\n",
       "      <td>0</td>\n",
       "      <td>40532.1</td>\n",
       "      <td>False</td>\n",
       "      <td>10.60985</td>\n",
       "      <td>276</td>\n",
       "      <td>1.791759</td>\n",
       "      <td>0</td>\n",
       "    </tr>\n",
       "  </tbody>\n",
       "</table>\n",
       "<p>1 rows × 311 columns</p>\n",
       "</div>"
      ],
      "text/plain": [
       "   var3  age  imp_ent_var16_ult1  imp_op_var39_comer_ult1  \\\n",
       "0     2   32                   0                        0   \n",
       "\n",
       "   imp_op_var39_comer_ult3  imp_op_var40_comer_ult1  imp_op_var40_comer_ult3  \\\n",
       "0                        0                        0                        0   \n",
       "\n",
       "   imp_op_var40_efect_ult1  imp_op_var40_efect_ult3  imp_op_var40_ult1  \\\n",
       "0                        0                        0                  0   \n",
       "\n",
       "      ...       saldo_medio_var44_hace2  saldo_medio_var44_hace3  \\\n",
       "0     ...                             0                        0   \n",
       "\n",
       "   saldo_medio_var44_ult1  saldo_medio_var44_ult3    var38  var38mc  logvar38  \\\n",
       "0                       0                       0  40532.1    False  10.60985   \n",
       "\n",
       "    n0  log_saldo_var30  is_var36_99  \n",
       "0  276         1.791759            0  \n",
       "\n",
       "[1 rows x 311 columns]"
      ]
     },
     "execution_count": 78,
     "metadata": {},
     "output_type": "execute_result"
    }
   ],
   "source": [
    "test[:1]"
   ]
  },
  {
   "cell_type": "code",
   "execution_count": 21,
   "metadata": {
    "collapsed": true
   },
   "outputs": [],
   "source": [
    "train['log_saldo_var30'] = train.loc[~train['saldo_0'], 'saldo_var30'].map(np.log)\n",
    "train.loc[train['saldo_0'], 'log_saldo_var30'] = 0"
   ]
  },
  {
   "cell_type": "code",
   "execution_count": 22,
   "metadata": {
    "collapsed": false
   },
   "outputs": [],
   "source": [
    "test['log_saldo_var30'] = test.loc[~test['saldo_0'], 'saldo_var30'].map(np.log)\n",
    "test.loc[test['saldo_0'], 'log_saldo_var30'] = 0"
   ]
  },
  {
   "cell_type": "code",
   "execution_count": 23,
   "metadata": {
    "collapsed": false
   },
   "outputs": [],
   "source": [
    "train.drop('saldo_0',axis=1, inplace=True)\n",
    "test.drop('saldo_0',axis=1, inplace=True)\n"
   ]
  },
  {
   "cell_type": "code",
   "execution_count": 33,
   "metadata": {
    "collapsed": false
   },
   "outputs": [
    {
     "data": {
      "text/plain": [
       "(76020, 310)"
      ]
     },
     "execution_count": 33,
     "metadata": {},
     "output_type": "execute_result"
    }
   ],
   "source": [
    "train.shape\n"
   ]
  },
  {
   "cell_type": "code",
   "execution_count": 25,
   "metadata": {
    "collapsed": false
   },
   "outputs": [
    {
     "data": {
      "text/plain": [
       " 0.000000     20310\n",
       " 1.098612     18290\n",
       " 4.499810      5236\n",
       " 3.401197      1603\n",
       " 2.708050      1477\n",
       " 1.791759       926\n",
       " 5.010635       823\n",
       " 4.094345       686\n",
       " 5.703782       400\n",
       " 4.787492       305\n",
       " 4.532599       196\n",
       " 2.197225       153\n",
       " 6.396930       149\n",
       " 6.802395       137\n",
       " 6.109248       115\n",
       " 5.030438       104\n",
       " 3.806662        97\n",
       " 5.192957        96\n",
       " 7.313220        92\n",
       " 8.006368        91\n",
       " 2.484907        84\n",
       " 0.405465        73\n",
       " 11.407565       71\n",
       "-1.203973        68\n",
       " 11.918391       65\n",
       " 12.611538       65\n",
       " 5.713733        65\n",
       " 11.002100       61\n",
       " 10.308953       59\n",
       " 6.620073        58\n",
       "              ...  \n",
       " 12.110138        1\n",
       " 9.959842         1\n",
       " 9.755567         1\n",
       " 6.565490         1\n",
       " 7.030088         1\n",
       " 11.695876        1\n",
       " 6.113040         1\n",
       " 7.450004         1\n",
       " 7.073236         1\n",
       " 4.072610         1\n",
       " 11.837549        1\n",
       " 11.887510        1\n",
       " 7.328523         1\n",
       " 8.694944         1\n",
       " 7.124188         1\n",
       " 5.115716         1\n",
       " 7.896754         1\n",
       " 4.570889         1\n",
       " 6.742114         1\n",
       " 4.866534         1\n",
       " 6.037966         1\n",
       " 11.697694        1\n",
       " 13.336392        1\n",
       " 5.661084         1\n",
       " 11.918405        1\n",
       " 6.025938         1\n",
       " 7.127613         1\n",
       " 5.892914         1\n",
       " 12.513166        1\n",
       " 5.407530         1\n",
       "Name: log_saldo_var30, dtype: int64"
      ]
     },
     "execution_count": 25,
     "metadata": {},
     "output_type": "execute_result"
    }
   ],
   "source": [
    "train['log_saldo_var30'].value_counts()"
   ]
  },
  {
   "cell_type": "code",
   "execution_count": 32,
   "metadata": {
    "collapsed": false
   },
   "outputs": [
    {
     "data": {
      "text/plain": [
       "(75818, 310)"
      ]
     },
     "execution_count": 32,
     "metadata": {},
     "output_type": "execute_result"
    }
   ],
   "source": [
    "test.shape"
   ]
  },
  {
   "cell_type": "markdown",
   "metadata": {},
   "source": [
    "## var36"
   ]
  },
  {
   "cell_type": "code",
   "execution_count": 30,
   "metadata": {
    "collapsed": false
   },
   "outputs": [
    {
     "data": {
      "text/plain": [
       "99    30064\n",
       "3     22177\n",
       "1     14664\n",
       "2      8704\n",
       "0       411\n",
       "Name: var36, dtype: int64"
      ]
     },
     "execution_count": 30,
     "metadata": {},
     "output_type": "execute_result"
    }
   ],
   "source": [
    "train['var36'].value_counts()"
   ]
  },
  {
   "cell_type": "code",
   "execution_count": 31,
   "metadata": {
    "collapsed": false
   },
   "outputs": [
    {
     "data": {
      "text/plain": [
       "99    30095\n",
       "3     22216\n",
       "1     14368\n",
       "2      8768\n",
       "0       371\n",
       "Name: var36, dtype: int64"
      ]
     },
     "execution_count": 31,
     "metadata": {},
     "output_type": "execute_result"
    }
   ],
   "source": [
    "test['var36'].value_counts()\n"
   ]
  },
  {
   "cell_type": "code",
   "execution_count": 34,
   "metadata": {
    "collapsed": false
   },
   "outputs": [
    {
     "data": {
      "text/plain": [
       "{0, 1, 2, 3, 99}"
      ]
     },
     "execution_count": 34,
     "metadata": {},
     "output_type": "execute_result"
    }
   ],
   "source": [
    "#'If var36 is 0,1,2 or 3 => less unhappy customers'\n",
    "set(train['var36'])"
   ]
  },
  {
   "cell_type": "markdown",
   "metadata": {
    "collapsed": true
   },
   "source": [
    "### num_var5"
   ]
  },
  {
   "cell_type": "code",
   "execution_count": 44,
   "metadata": {
    "collapsed": false
   },
   "outputs": [
    {
     "data": {
      "text/plain": [
       "3     50265\n",
       "0     25561\n",
       "6       190\n",
       "9         3\n",
       "15        1\n",
       "Name: num_var5, dtype: int64"
      ]
     },
     "execution_count": 44,
     "metadata": {},
     "output_type": "execute_result"
    }
   ],
   "source": [
    "train['num_var5'].value_counts()"
   ]
  },
  {
   "cell_type": "code",
   "execution_count": null,
   "metadata": {
    "collapsed": true
   },
   "outputs": [],
   "source": [
    "test['is_var36_99'] = test['var36'].apply(lambda x: int( x == 99 ))"
   ]
  },
  {
   "cell_type": "code",
   "execution_count": null,
   "metadata": {
    "collapsed": true
   },
   "outputs": [],
   "source": []
  },
  {
   "cell_type": "code",
   "execution_count": null,
   "metadata": {
    "collapsed": true
   },
   "outputs": [],
   "source": []
  },
  {
   "cell_type": "code",
   "execution_count": null,
   "metadata": {
    "collapsed": true
   },
   "outputs": [],
   "source": []
  },
  {
   "cell_type": "code",
   "execution_count": 32,
   "metadata": {
    "collapsed": false
   },
   "outputs": [
    {
     "data": {
      "text/plain": [
       "120"
      ]
     },
     "execution_count": 32,
     "metadata": {},
     "output_type": "execute_result"
    }
   ],
   "source": [
    "train['log_saldo_var30'].isnull().sum()"
   ]
  },
  {
   "cell_type": "code",
   "execution_count": 96,
   "metadata": {
    "collapsed": true
   },
   "outputs": [],
   "source": [
    "train.drop('log_saldo_var30', axis=1,inplace=True)\n",
    "test.drop('log_saldo_var30', axis=1,inplace=True)\n"
   ]
  },
  {
   "cell_type": "markdown",
   "metadata": {},
   "source": [
    "## ROC_AUC"
   ]
  },
  {
   "cell_type": "code",
   "execution_count": 57,
   "metadata": {
    "collapsed": false
   },
   "outputs": [
    {
     "data": {
      "image/png": "[encoded data removed]",
      "text/plain": [
       "<matplotlib.figure.Figure at 0x7f17dd21bfd0>"
      ]
     },
     "metadata": {},
     "output_type": "display_data"
    }
   ],
   "source": [
    "from sklearn.metrics import roc_auc_score\n",
    "\n",
    "scores = []\n",
    "\n",
    "for column in train:\n",
    "    roc_score = roc_auc_score(labels, train[column])\n",
    "    if abs(roc_score - 0.5) > 0.1:\n",
    "        scores.append((column, roc_score))\n",
    "scores = sorted(scores, key=lambda x: x[1], reverse=1)\n",
    "\n",
    "plt.figure(figsize=(10, 6))\n",
    "sns.barplot(*zip(*scores))\n",
    "_ = plt.xticks(rotation=90)"
   ]
  },
  {
   "cell_type": "code",
   "execution_count": 101,
   "metadata": {
    "collapsed": false
   },
   "outputs": [
    {
     "name": "stdout",
     "output_type": "stream",
     "text": [
      "0.755026049807\n"
     ]
    }
   ],
   "source": [
    "from sklearn.ensemble import RandomForestClassifier\n",
    "from sklearn.cross_validation import cross_val_score, StratifiedKFold\n",
    "\n",
    "rf = RandomForestClassifier(n_estimators=100, n_jobs=-1)\n",
    "cv = StratifiedKFold(labels, n_folds=3)\n",
    "print cross_val_score(rf, train, labels, scoring='roc_auc', cv=cv).mean()"
   ]
  },
  {
   "cell_type": "code",
   "execution_count": 98,
   "metadata": {
    "collapsed": false
   },
   "outputs": [],
   "source": [
    "rf.fit(train, labels)\n",
    "preds = rf.predict_proba(test)\n",
    "submit(preds)"
   ]
  },
  {
   "cell_type": "code",
   "execution_count": 103,
   "metadata": {
    "collapsed": false
   },
   "outputs": [],
   "source": [
    "X_train, X_test, y_train, y_test = \\\n",
    "  cross_validation.train_test_split(train, labels, random_state=1301, stratify=labels, test_size=0.4)"
   ]
  },
  {
   "cell_type": "code",
   "execution_count": 27,
   "metadata": {
    "collapsed": true
   },
   "outputs": [],
   "source": [
    "ratio = float(np.sum(labels == 1)) / np.sum(labels==0)"
   ]
  },
  {
   "cell_type": "code",
   "execution_count": 30,
   "metadata": {
    "collapsed": false
   },
   "outputs": [
    {
     "ename": "XGBoostError",
     "evalue": "There are NAN in the matrix, however, you did not set missing=NAN",
     "output_type": "error",
     "traceback": [
      "\u001b[1;31m---------------------------------------------------------------------------\u001b[0m",
      "\u001b[1;31mXGBoostError\u001b[0m                              Traceback (most recent call last)",
      "\u001b[1;32m<ipython-input-30-21a00513804d>\u001b[0m in \u001b[0;36m<module>\u001b[1;34m()\u001b[0m\n\u001b[0;32m      2\u001b[0m \u001b[1;33m\u001b[0m\u001b[0m\n\u001b[0;32m      3\u001b[0m \u001b[0mcv\u001b[0m \u001b[1;33m=\u001b[0m \u001b[0mStratifiedKFold\u001b[0m\u001b[1;33m(\u001b[0m\u001b[0mlabels\u001b[0m\u001b[1;33m,\u001b[0m \u001b[0mn_folds\u001b[0m\u001b[1;33m=\u001b[0m\u001b[1;36m3\u001b[0m\u001b[1;33m)\u001b[0m\u001b[1;33m\u001b[0m\u001b[0m\n\u001b[1;32m----> 4\u001b[1;33m \u001b[1;32mprint\u001b[0m \u001b[0mcross_val_score\u001b[0m\u001b[1;33m(\u001b[0m\u001b[0mclf\u001b[0m\u001b[1;33m,\u001b[0m \u001b[0mtrain\u001b[0m\u001b[1;33m,\u001b[0m \u001b[0mlabels\u001b[0m\u001b[1;33m,\u001b[0m \u001b[0mscoring\u001b[0m\u001b[1;33m=\u001b[0m\u001b[1;34m'roc_auc'\u001b[0m\u001b[1;33m,\u001b[0m \u001b[0mcv\u001b[0m\u001b[1;33m=\u001b[0m\u001b[0mcv\u001b[0m\u001b[1;33m)\u001b[0m\u001b[1;33m.\u001b[0m\u001b[0mmean\u001b[0m\u001b[1;33m(\u001b[0m\u001b[1;33m)\u001b[0m\u001b[1;33m\u001b[0m\u001b[0m\n\u001b[0m",
      "\u001b[1;32m/home/denny_sem/anaconda2/lib/python2.7/site-packages/sklearn/cross_validation.pyc\u001b[0m in \u001b[0;36mcross_val_score\u001b[1;34m(estimator, X, y, scoring, cv, n_jobs, verbose, fit_params, pre_dispatch)\u001b[0m\n\u001b[0;32m   1431\u001b[0m                                               \u001b[0mtrain\u001b[0m\u001b[1;33m,\u001b[0m \u001b[0mtest\u001b[0m\u001b[1;33m,\u001b[0m \u001b[0mverbose\u001b[0m\u001b[1;33m,\u001b[0m \u001b[0mNone\u001b[0m\u001b[1;33m,\u001b[0m\u001b[1;33m\u001b[0m\u001b[0m\n\u001b[0;32m   1432\u001b[0m                                               fit_params)\n\u001b[1;32m-> 1433\u001b[1;33m                       for train, test in cv)\n\u001b[0m\u001b[0;32m   1434\u001b[0m     \u001b[1;32mreturn\u001b[0m \u001b[0mnp\u001b[0m\u001b[1;33m.\u001b[0m\u001b[0marray\u001b[0m\u001b[1;33m(\u001b[0m\u001b[0mscores\u001b[0m\u001b[1;33m)\u001b[0m\u001b[1;33m[\u001b[0m\u001b[1;33m:\u001b[0m\u001b[1;33m,\u001b[0m \u001b[1;36m0\u001b[0m\u001b[1;33m]\u001b[0m\u001b[1;33m\u001b[0m\u001b[0m\n\u001b[0;32m   1435\u001b[0m \u001b[1;33m\u001b[0m\u001b[0m\n",
      "\u001b[1;32m/home/denny_sem/anaconda2/lib/python2.7/site-packages/sklearn/externals/joblib/parallel.pyc\u001b[0m in \u001b[0;36m__call__\u001b[1;34m(self, iterable)\u001b[0m\n\u001b[0;32m    802\u001b[0m             \u001b[0mself\u001b[0m\u001b[1;33m.\u001b[0m\u001b[0m_iterating\u001b[0m \u001b[1;33m=\u001b[0m \u001b[0mTrue\u001b[0m\u001b[1;33m\u001b[0m\u001b[0m\n\u001b[0;32m    803\u001b[0m \u001b[1;33m\u001b[0m\u001b[0m\n\u001b[1;32m--> 804\u001b[1;33m             \u001b[1;32mwhile\u001b[0m \u001b[0mself\u001b[0m\u001b[1;33m.\u001b[0m\u001b[0mdispatch_one_batch\u001b[0m\u001b[1;33m(\u001b[0m\u001b[0miterator\u001b[0m\u001b[1;33m)\u001b[0m\u001b[1;33m:\u001b[0m\u001b[1;33m\u001b[0m\u001b[0m\n\u001b[0m\u001b[0;32m    805\u001b[0m                 \u001b[1;32mpass\u001b[0m\u001b[1;33m\u001b[0m\u001b[0m\n\u001b[0;32m    806\u001b[0m \u001b[1;33m\u001b[0m\u001b[0m\n",
      "\u001b[1;32m/home/denny_sem/anaconda2/lib/python2.7/site-packages/sklearn/externals/joblib/parallel.pyc\u001b[0m in \u001b[0;36mdispatch_one_batch\u001b[1;34m(self, iterator)\u001b[0m\n\u001b[0;32m    660\u001b[0m                 \u001b[1;32mreturn\u001b[0m \u001b[0mFalse\u001b[0m\u001b[1;33m\u001b[0m\u001b[0m\n\u001b[0;32m    661\u001b[0m             \u001b[1;32melse\u001b[0m\u001b[1;33m:\u001b[0m\u001b[1;33m\u001b[0m\u001b[0m\n\u001b[1;32m--> 662\u001b[1;33m                 \u001b[0mself\u001b[0m\u001b[1;33m.\u001b[0m\u001b[0m_dispatch\u001b[0m\u001b[1;33m(\u001b[0m\u001b[0mtasks\u001b[0m\u001b[1;33m)\u001b[0m\u001b[1;33m\u001b[0m\u001b[0m\n\u001b[0m\u001b[0;32m    663\u001b[0m                 \u001b[1;32mreturn\u001b[0m \u001b[0mTrue\u001b[0m\u001b[1;33m\u001b[0m\u001b[0m\n\u001b[0;32m    664\u001b[0m \u001b[1;33m\u001b[0m\u001b[0m\n",
      "\u001b[1;32m/home/denny_sem/anaconda2/lib/python2.7/site-packages/sklearn/externals/joblib/parallel.pyc\u001b[0m in \u001b[0;36m_dispatch\u001b[1;34m(self, batch)\u001b[0m\n\u001b[0;32m    568\u001b[0m \u001b[1;33m\u001b[0m\u001b[0m\n\u001b[0;32m    569\u001b[0m         \u001b[1;32mif\u001b[0m \u001b[0mself\u001b[0m\u001b[1;33m.\u001b[0m\u001b[0m_pool\u001b[0m \u001b[1;32mis\u001b[0m \u001b[0mNone\u001b[0m\u001b[1;33m:\u001b[0m\u001b[1;33m\u001b[0m\u001b[0m\n\u001b[1;32m--> 570\u001b[1;33m             \u001b[0mjob\u001b[0m \u001b[1;33m=\u001b[0m \u001b[0mImmediateComputeBatch\u001b[0m\u001b[1;33m(\u001b[0m\u001b[0mbatch\u001b[0m\u001b[1;33m)\u001b[0m\u001b[1;33m\u001b[0m\u001b[0m\n\u001b[0m\u001b[0;32m    571\u001b[0m             \u001b[0mself\u001b[0m\u001b[1;33m.\u001b[0m\u001b[0m_jobs\u001b[0m\u001b[1;33m.\u001b[0m\u001b[0mappend\u001b[0m\u001b[1;33m(\u001b[0m\u001b[0mjob\u001b[0m\u001b[1;33m)\u001b[0m\u001b[1;33m\u001b[0m\u001b[0m\n\u001b[0;32m    572\u001b[0m             \u001b[0mself\u001b[0m\u001b[1;33m.\u001b[0m\u001b[0mn_dispatched_batches\u001b[0m \u001b[1;33m+=\u001b[0m \u001b[1;36m1\u001b[0m\u001b[1;33m\u001b[0m\u001b[0m\n",
      "\u001b[1;32m/home/denny_sem/anaconda2/lib/python2.7/site-packages/sklearn/externals/joblib/parallel.pyc\u001b[0m in \u001b[0;36m__init__\u001b[1;34m(self, batch)\u001b[0m\n\u001b[0;32m    181\u001b[0m         \u001b[1;31m# Don't delay the application, to avoid keeping the input\u001b[0m\u001b[1;33m\u001b[0m\u001b[1;33m\u001b[0m\u001b[0m\n\u001b[0;32m    182\u001b[0m         \u001b[1;31m# arguments in memory\u001b[0m\u001b[1;33m\u001b[0m\u001b[1;33m\u001b[0m\u001b[0m\n\u001b[1;32m--> 183\u001b[1;33m         \u001b[0mself\u001b[0m\u001b[1;33m.\u001b[0m\u001b[0mresults\u001b[0m \u001b[1;33m=\u001b[0m \u001b[0mbatch\u001b[0m\u001b[1;33m(\u001b[0m\u001b[1;33m)\u001b[0m\u001b[1;33m\u001b[0m\u001b[0m\n\u001b[0m\u001b[0;32m    184\u001b[0m \u001b[1;33m\u001b[0m\u001b[0m\n\u001b[0;32m    185\u001b[0m     \u001b[1;32mdef\u001b[0m \u001b[0mget\u001b[0m\u001b[1;33m(\u001b[0m\u001b[0mself\u001b[0m\u001b[1;33m)\u001b[0m\u001b[1;33m:\u001b[0m\u001b[1;33m\u001b[0m\u001b[0m\n",
      "\u001b[1;32m/home/denny_sem/anaconda2/lib/python2.7/site-packages/sklearn/externals/joblib/parallel.pyc\u001b[0m in \u001b[0;36m__call__\u001b[1;34m(self)\u001b[0m\n\u001b[0;32m     70\u001b[0m \u001b[1;33m\u001b[0m\u001b[0m\n\u001b[0;32m     71\u001b[0m     \u001b[1;32mdef\u001b[0m \u001b[0m__call__\u001b[0m\u001b[1;33m(\u001b[0m\u001b[0mself\u001b[0m\u001b[1;33m)\u001b[0m\u001b[1;33m:\u001b[0m\u001b[1;33m\u001b[0m\u001b[0m\n\u001b[1;32m---> 72\u001b[1;33m         \u001b[1;32mreturn\u001b[0m \u001b[1;33m[\u001b[0m\u001b[0mfunc\u001b[0m\u001b[1;33m(\u001b[0m\u001b[1;33m*\u001b[0m\u001b[0margs\u001b[0m\u001b[1;33m,\u001b[0m \u001b[1;33m**\u001b[0m\u001b[0mkwargs\u001b[0m\u001b[1;33m)\u001b[0m \u001b[1;32mfor\u001b[0m \u001b[0mfunc\u001b[0m\u001b[1;33m,\u001b[0m \u001b[0margs\u001b[0m\u001b[1;33m,\u001b[0m \u001b[0mkwargs\u001b[0m \u001b[1;32min\u001b[0m \u001b[0mself\u001b[0m\u001b[1;33m.\u001b[0m\u001b[0mitems\u001b[0m\u001b[1;33m]\u001b[0m\u001b[1;33m\u001b[0m\u001b[0m\n\u001b[0m\u001b[0;32m     73\u001b[0m \u001b[1;33m\u001b[0m\u001b[0m\n\u001b[0;32m     74\u001b[0m     \u001b[1;32mdef\u001b[0m \u001b[0m__len__\u001b[0m\u001b[1;33m(\u001b[0m\u001b[0mself\u001b[0m\u001b[1;33m)\u001b[0m\u001b[1;33m:\u001b[0m\u001b[1;33m\u001b[0m\u001b[0m\n",
      "\u001b[1;32m/home/denny_sem/anaconda2/lib/python2.7/site-packages/sklearn/cross_validation.pyc\u001b[0m in \u001b[0;36m_fit_and_score\u001b[1;34m(estimator, X, y, scorer, train, test, verbose, parameters, fit_params, return_train_score, return_parameters, error_score)\u001b[0m\n\u001b[0;32m   1529\u001b[0m             \u001b[0mestimator\u001b[0m\u001b[1;33m.\u001b[0m\u001b[0mfit\u001b[0m\u001b[1;33m(\u001b[0m\u001b[0mX_train\u001b[0m\u001b[1;33m,\u001b[0m \u001b[1;33m**\u001b[0m\u001b[0mfit_params\u001b[0m\u001b[1;33m)\u001b[0m\u001b[1;33m\u001b[0m\u001b[0m\n\u001b[0;32m   1530\u001b[0m         \u001b[1;32melse\u001b[0m\u001b[1;33m:\u001b[0m\u001b[1;33m\u001b[0m\u001b[0m\n\u001b[1;32m-> 1531\u001b[1;33m             \u001b[0mestimator\u001b[0m\u001b[1;33m.\u001b[0m\u001b[0mfit\u001b[0m\u001b[1;33m(\u001b[0m\u001b[0mX_train\u001b[0m\u001b[1;33m,\u001b[0m \u001b[0my_train\u001b[0m\u001b[1;33m,\u001b[0m \u001b[1;33m**\u001b[0m\u001b[0mfit_params\u001b[0m\u001b[1;33m)\u001b[0m\u001b[1;33m\u001b[0m\u001b[0m\n\u001b[0m\u001b[0;32m   1532\u001b[0m \u001b[1;33m\u001b[0m\u001b[0m\n\u001b[0;32m   1533\u001b[0m     \u001b[1;32mexcept\u001b[0m \u001b[0mException\u001b[0m \u001b[1;32mas\u001b[0m \u001b[0me\u001b[0m\u001b[1;33m:\u001b[0m\u001b[1;33m\u001b[0m\u001b[0m\n",
      "\u001b[1;32m/home/denny_sem/anaconda2/lib/python2.7/site-packages/xgboost/sklearn.pyc\u001b[0m in \u001b[0;36mfit\u001b[1;34m(self, X, y, sample_weight, eval_set, eval_metric, early_stopping_rounds, verbose)\u001b[0m\n\u001b[0;32m    335\u001b[0m         \u001b[1;32melse\u001b[0m\u001b[1;33m:\u001b[0m\u001b[1;33m\u001b[0m\u001b[0m\n\u001b[0;32m    336\u001b[0m             train_dmatrix = DMatrix(X, label=training_labels,\n\u001b[1;32m--> 337\u001b[1;33m                                     missing=self.missing)\n\u001b[0m\u001b[0;32m    338\u001b[0m \u001b[1;33m\u001b[0m\u001b[0m\n\u001b[0;32m    339\u001b[0m         self._Booster = train(xgb_options, train_dmatrix, self.n_estimators,\n",
      "\u001b[1;32m/home/denny_sem/anaconda2/lib/python2.7/site-packages/xgboost/core.pyc\u001b[0m in \u001b[0;36m__init__\u001b[1;34m(self, data, label, missing, weight, silent, feature_names, feature_types)\u001b[0m\n\u001b[0;32m    230\u001b[0m             \u001b[0mself\u001b[0m\u001b[1;33m.\u001b[0m\u001b[0m_init_from_csc\u001b[0m\u001b[1;33m(\u001b[0m\u001b[0mdata\u001b[0m\u001b[1;33m)\u001b[0m\u001b[1;33m\u001b[0m\u001b[0m\n\u001b[0;32m    231\u001b[0m         \u001b[1;32melif\u001b[0m \u001b[0misinstance\u001b[0m\u001b[1;33m(\u001b[0m\u001b[0mdata\u001b[0m\u001b[1;33m,\u001b[0m \u001b[0mnp\u001b[0m\u001b[1;33m.\u001b[0m\u001b[0mndarray\u001b[0m\u001b[1;33m)\u001b[0m\u001b[1;33m:\u001b[0m\u001b[1;33m\u001b[0m\u001b[0m\n\u001b[1;32m--> 232\u001b[1;33m             \u001b[0mself\u001b[0m\u001b[1;33m.\u001b[0m\u001b[0m_init_from_npy2d\u001b[0m\u001b[1;33m(\u001b[0m\u001b[0mdata\u001b[0m\u001b[1;33m,\u001b[0m \u001b[0mmissing\u001b[0m\u001b[1;33m)\u001b[0m\u001b[1;33m\u001b[0m\u001b[0m\n\u001b[0m\u001b[0;32m    233\u001b[0m         \u001b[1;32melse\u001b[0m\u001b[1;33m:\u001b[0m\u001b[1;33m\u001b[0m\u001b[0m\n\u001b[0;32m    234\u001b[0m             \u001b[1;32mtry\u001b[0m\u001b[1;33m:\u001b[0m\u001b[1;33m\u001b[0m\u001b[0m\n",
      "\u001b[1;32m/home/denny_sem/anaconda2/lib/python2.7/site-packages/xgboost/core.pyc\u001b[0m in \u001b[0;36m_init_from_npy2d\u001b[1;34m(self, mat, missing)\u001b[0m\n\u001b[0;32m    282\u001b[0m                                                 \u001b[0mmat\u001b[0m\u001b[1;33m.\u001b[0m\u001b[0mshape\u001b[0m\u001b[1;33m[\u001b[0m\u001b[1;36m0\u001b[0m\u001b[1;33m]\u001b[0m\u001b[1;33m,\u001b[0m \u001b[0mmat\u001b[0m\u001b[1;33m.\u001b[0m\u001b[0mshape\u001b[0m\u001b[1;33m[\u001b[0m\u001b[1;36m1\u001b[0m\u001b[1;33m]\u001b[0m\u001b[1;33m,\u001b[0m\u001b[1;33m\u001b[0m\u001b[0m\n\u001b[0;32m    283\u001b[0m                                                 \u001b[0mctypes\u001b[0m\u001b[1;33m.\u001b[0m\u001b[0mc_float\u001b[0m\u001b[1;33m(\u001b[0m\u001b[0mmissing\u001b[0m\u001b[1;33m)\u001b[0m\u001b[1;33m,\u001b[0m\u001b[1;33m\u001b[0m\u001b[0m\n\u001b[1;32m--> 284\u001b[1;33m                                                 ctypes.byref(self.handle)))\n\u001b[0m\u001b[0;32m    285\u001b[0m \u001b[1;33m\u001b[0m\u001b[0m\n\u001b[0;32m    286\u001b[0m     \u001b[1;32mdef\u001b[0m \u001b[0m__del__\u001b[0m\u001b[1;33m(\u001b[0m\u001b[0mself\u001b[0m\u001b[1;33m)\u001b[0m\u001b[1;33m:\u001b[0m\u001b[1;33m\u001b[0m\u001b[0m\n",
      "\u001b[1;32m/home/denny_sem/anaconda2/lib/python2.7/site-packages/xgboost/core.pyc\u001b[0m in \u001b[0;36m_check_call\u001b[1;34m(ret)\u001b[0m\n\u001b[0;32m     95\u001b[0m     \"\"\"\n\u001b[0;32m     96\u001b[0m     \u001b[1;32mif\u001b[0m \u001b[0mret\u001b[0m \u001b[1;33m!=\u001b[0m \u001b[1;36m0\u001b[0m\u001b[1;33m:\u001b[0m\u001b[1;33m\u001b[0m\u001b[0m\n\u001b[1;32m---> 97\u001b[1;33m         \u001b[1;32mraise\u001b[0m \u001b[0mXGBoostError\u001b[0m\u001b[1;33m(\u001b[0m\u001b[0m_LIB\u001b[0m\u001b[1;33m.\u001b[0m\u001b[0mXGBGetLastError\u001b[0m\u001b[1;33m(\u001b[0m\u001b[1;33m)\u001b[0m\u001b[1;33m)\u001b[0m\u001b[1;33m\u001b[0m\u001b[0m\n\u001b[0m\u001b[0;32m     98\u001b[0m \u001b[1;33m\u001b[0m\u001b[0m\n\u001b[0;32m     99\u001b[0m \u001b[1;33m\u001b[0m\u001b[0m\n",
      "\u001b[1;31mXGBoostError\u001b[0m: There are NAN in the matrix, however, you did not set missing=NAN"
     ]
    }
   ],
   "source": [
    "from sklearn.cross_validation import cross_val_score, StratifiedKFold\n",
    "\n",
    "cv = StratifiedKFold(labels, n_folds=3)\n",
    "print cross_val_score(clf, train, labels, scoring='roc_auc', cv=cv).mean()"
   ]
  },
  {
   "cell_type": "code",
   "execution_count": null,
   "metadata": {
    "collapsed": true
   },
   "outputs": [],
   "source": [
    "def xgb_predict(train,test,labels):\n",
    "    params = {}\n",
    "    params['max_depth'] = 5\n",
    "    params['n_estimators']=1000\n",
    "    params['learning_rate']=0.1 \n",
    "    params['nthread']=4\n",
    "    params['subsample']=1.0\n",
    "    params['colsample_bytree']=0.5\n",
    "    params['min_child_weight'] = 3\n",
    "    params['scale_pos_weight'] = ratio\n",
    "    params['reg_alpha']=0.03\n",
    "    params['seed']=1301\n",
    "    params['gamma'] = 15\n",
    "    params['scale_pos_weight']\n",
    "    \n",
    "    "
   ]
  },
  {
   "cell_type": "code",
   "execution_count": 29,
   "metadata": {
    "collapsed": true
   },
   "outputs": [],
   "source": [
    "from sklearn.metrics import roc_auc_score\n",
    "\n",
    "\n",
    "clf = xgb.XGBClassifier(missing=9999999999,\n",
    "                max_depth = 5,\n",
    "                n_estimators=1000,\n",
    "                learning_rate=0.1, \n",
    "                nthread=4,\n",
    "                subsample=1.0,\n",
    "                colsample_bytree=0.5,\n",
    "                min_child_weight = 3,\n",
    "                scale_pos_weight = ratio,\n",
    "                reg_alpha=0.03,\n",
    "                seed=1301)"
   ]
  },
  {
   "cell_type": "code",
   "execution_count": null,
   "metadata": {
    "collapsed": true
   },
   "outputs": [],
   "source": [
    "train['log_saldo']"
   ]
  },
  {
   "cell_type": "code",
   "execution_count": 114,
   "metadata": {
    "collapsed": false
   },
   "outputs": [
    {
     "name": "stderr",
     "output_type": "stream",
     "text": [
      "Will train until validation_1 error hasn't decreased in 50 rounds.\n",
      "[0]\tvalidation_0-auc:0.500000\tvalidation_1-auc:0.500000\n",
      "[1]\tvalidation_0-auc:0.500000\tvalidation_1-auc:0.500000\n",
      "[2]\tvalidation_0-auc:0.500000\tvalidation_1-auc:0.500000\n",
      "[3]\tvalidation_0-auc:0.500000\tvalidation_1-auc:0.500000\n",
      "[4]\tvalidation_0-auc:0.500000\tvalidation_1-auc:0.500000\n",
      "[5]\tvalidation_0-auc:0.500000\tvalidation_1-auc:0.500000\n",
      "[6]\tvalidation_0-auc:0.500000\tvalidation_1-auc:0.500000\n",
      "[7]\tvalidation_0-auc:0.500000\tvalidation_1-auc:0.500000\n",
      "[8]\tvalidation_0-auc:0.500000\tvalidation_1-auc:0.500000\n",
      "[9]\tvalidation_0-auc:0.500000\tvalidation_1-auc:0.500000\n",
      "[10]\tvalidation_0-auc:0.500000\tvalidation_1-auc:0.500000\n",
      "[11]\tvalidation_0-auc:0.500000\tvalidation_1-auc:0.500000\n",
      "[12]\tvalidation_0-auc:0.500000\tvalidation_1-auc:0.500000\n",
      "[13]\tvalidation_0-auc:0.500000\tvalidation_1-auc:0.500000\n",
      "[14]\tvalidation_0-auc:0.500000\tvalidation_1-auc:0.500000\n",
      "[15]\tvalidation_0-auc:0.500000\tvalidation_1-auc:0.500000\n",
      "[16]\tvalidation_0-auc:0.500000\tvalidation_1-auc:0.500000\n",
      "[17]\tvalidation_0-auc:0.500000\tvalidation_1-auc:0.500000\n",
      "[18]\tvalidation_0-auc:0.500000\tvalidation_1-auc:0.500000\n",
      "[19]\tvalidation_0-auc:0.712399\tvalidation_1-auc:0.716568\n",
      "[20]\tvalidation_0-auc:0.712217\tvalidation_1-auc:0.716508\n",
      "[21]\tvalidation_0-auc:0.712217\tvalidation_1-auc:0.716508\n",
      "[22]\tvalidation_0-auc:0.712899\tvalidation_1-auc:0.717483\n",
      "[23]\tvalidation_0-auc:0.712899\tvalidation_1-auc:0.717483\n",
      "[24]\tvalidation_0-auc:0.712899\tvalidation_1-auc:0.717483\n",
      "[25]\tvalidation_0-auc:0.712899\tvalidation_1-auc:0.717483\n",
      "[26]\tvalidation_0-auc:0.716005\tvalidation_1-auc:0.720457\n",
      "[27]\tvalidation_0-auc:0.716005\tvalidation_1-auc:0.720457\n",
      "[28]\tvalidation_0-auc:0.716021\tvalidation_1-auc:0.720447\n",
      "[29]\tvalidation_0-auc:0.713643\tvalidation_1-auc:0.718923\n",
      "[30]\tvalidation_0-auc:0.716433\tvalidation_1-auc:0.720932\n",
      "[31]\tvalidation_0-auc:0.715701\tvalidation_1-auc:0.720013\n",
      "[32]\tvalidation_0-auc:0.715679\tvalidation_1-auc:0.719990\n",
      "[33]\tvalidation_0-auc:0.725705\tvalidation_1-auc:0.726970\n",
      "[34]\tvalidation_0-auc:0.727621\tvalidation_1-auc:0.728090\n",
      "[35]\tvalidation_0-auc:0.733144\tvalidation_1-auc:0.734392\n",
      "[36]\tvalidation_0-auc:0.730012\tvalidation_1-auc:0.731235\n",
      "[37]\tvalidation_0-auc:0.732283\tvalidation_1-auc:0.732905\n",
      "[38]\tvalidation_0-auc:0.733031\tvalidation_1-auc:0.733112\n",
      "[39]\tvalidation_0-auc:0.773277\tvalidation_1-auc:0.778068\n",
      "[40]\tvalidation_0-auc:0.774353\tvalidation_1-auc:0.778922\n",
      "[41]\tvalidation_0-auc:0.774854\tvalidation_1-auc:0.778798\n",
      "[42]\tvalidation_0-auc:0.790384\tvalidation_1-auc:0.793744\n",
      "[43]\tvalidation_0-auc:0.800966\tvalidation_1-auc:0.801582\n",
      "[44]\tvalidation_0-auc:0.804964\tvalidation_1-auc:0.803240\n",
      "[45]\tvalidation_0-auc:0.808565\tvalidation_1-auc:0.805798\n",
      "[46]\tvalidation_0-auc:0.806261\tvalidation_1-auc:0.804197\n",
      "[47]\tvalidation_0-auc:0.809814\tvalidation_1-auc:0.806495\n",
      "[48]\tvalidation_0-auc:0.813709\tvalidation_1-auc:0.811634\n",
      "[49]\tvalidation_0-auc:0.814991\tvalidation_1-auc:0.812423\n",
      "[50]\tvalidation_0-auc:0.814031\tvalidation_1-auc:0.811608\n",
      "[51]\tvalidation_0-auc:0.818271\tvalidation_1-auc:0.815968\n",
      "[52]\tvalidation_0-auc:0.820127\tvalidation_1-auc:0.818745\n",
      "[53]\tvalidation_0-auc:0.821570\tvalidation_1-auc:0.820077\n",
      "[54]\tvalidation_0-auc:0.821844\tvalidation_1-auc:0.820523\n",
      "[55]\tvalidation_0-auc:0.822562\tvalidation_1-auc:0.821539\n",
      "[56]\tvalidation_0-auc:0.822110\tvalidation_1-auc:0.820647\n",
      "[57]\tvalidation_0-auc:0.826669\tvalidation_1-auc:0.825037\n",
      "[58]\tvalidation_0-auc:0.828114\tvalidation_1-auc:0.826501\n",
      "[59]\tvalidation_0-auc:0.828076\tvalidation_1-auc:0.826284\n",
      "[60]\tvalidation_0-auc:0.829423\tvalidation_1-auc:0.827804\n",
      "[61]\tvalidation_0-auc:0.830007\tvalidation_1-auc:0.828660\n",
      "[62]\tvalidation_0-auc:0.830409\tvalidation_1-auc:0.828779\n",
      "[63]\tvalidation_0-auc:0.830843\tvalidation_1-auc:0.829035\n",
      "[64]\tvalidation_0-auc:0.831703\tvalidation_1-auc:0.830277\n",
      "[65]\tvalidation_0-auc:0.832152\tvalidation_1-auc:0.829986\n",
      "[66]\tvalidation_0-auc:0.833208\tvalidation_1-auc:0.830433\n",
      "[67]\tvalidation_0-auc:0.833212\tvalidation_1-auc:0.830233\n",
      "[68]\tvalidation_0-auc:0.833341\tvalidation_1-auc:0.830320\n",
      "[69]\tvalidation_0-auc:0.834908\tvalidation_1-auc:0.831487\n",
      "[70]\tvalidation_0-auc:0.835868\tvalidation_1-auc:0.832547\n",
      "[71]\tvalidation_0-auc:0.836727\tvalidation_1-auc:0.833342\n",
      "[72]\tvalidation_0-auc:0.837188\tvalidation_1-auc:0.833899\n",
      "[73]\tvalidation_0-auc:0.837852\tvalidation_1-auc:0.834622\n",
      "[74]\tvalidation_0-auc:0.837885\tvalidation_1-auc:0.834364\n",
      "[75]\tvalidation_0-auc:0.838246\tvalidation_1-auc:0.834775\n",
      "[76]\tvalidation_0-auc:0.838884\tvalidation_1-auc:0.835396\n",
      "[77]\tvalidation_0-auc:0.838883\tvalidation_1-auc:0.835442\n",
      "[78]\tvalidation_0-auc:0.839157\tvalidation_1-auc:0.835643\n",
      "[79]\tvalidation_0-auc:0.839668\tvalidation_1-auc:0.835948\n",
      "[80]\tvalidation_0-auc:0.839946\tvalidation_1-auc:0.836253\n",
      "[81]\tvalidation_0-auc:0.840252\tvalidation_1-auc:0.836098\n",
      "[82]\tvalidation_0-auc:0.840720\tvalidation_1-auc:0.836157\n",
      "[83]\tvalidation_0-auc:0.841081\tvalidation_1-auc:0.836570\n",
      "[84]\tvalidation_0-auc:0.841429\tvalidation_1-auc:0.836831\n",
      "[85]\tvalidation_0-auc:0.841564\tvalidation_1-auc:0.836663\n",
      "[86]\tvalidation_0-auc:0.841989\tvalidation_1-auc:0.837068\n",
      "[87]\tvalidation_0-auc:0.842409\tvalidation_1-auc:0.837159\n",
      "[88]\tvalidation_0-auc:0.842548\tvalidation_1-auc:0.837364\n",
      "[89]\tvalidation_0-auc:0.843017\tvalidation_1-auc:0.837503\n",
      "[90]\tvalidation_0-auc:0.843358\tvalidation_1-auc:0.837555\n",
      "[91]\tvalidation_0-auc:0.843535\tvalidation_1-auc:0.837688\n",
      "[92]\tvalidation_0-auc:0.843797\tvalidation_1-auc:0.837999\n",
      "[93]\tvalidation_0-auc:0.843919\tvalidation_1-auc:0.838172\n",
      "[94]\tvalidation_0-auc:0.844066\tvalidation_1-auc:0.838244\n",
      "[95]\tvalidation_0-auc:0.844279\tvalidation_1-auc:0.838245\n",
      "[96]\tvalidation_0-auc:0.844509\tvalidation_1-auc:0.838325\n",
      "[97]\tvalidation_0-auc:0.844638\tvalidation_1-auc:0.838278\n",
      "[98]\tvalidation_0-auc:0.844808\tvalidation_1-auc:0.838371\n",
      "[99]\tvalidation_0-auc:0.845038\tvalidation_1-auc:0.838435\n",
      "[100]\tvalidation_0-auc:0.845281\tvalidation_1-auc:0.838551\n",
      "[101]\tvalidation_0-auc:0.845554\tvalidation_1-auc:0.838709\n",
      "[102]\tvalidation_0-auc:0.845759\tvalidation_1-auc:0.839107\n",
      "[103]\tvalidation_0-auc:0.845927\tvalidation_1-auc:0.839327\n",
      "[104]\tvalidation_0-auc:0.845930\tvalidation_1-auc:0.839294\n",
      "[105]\tvalidation_0-auc:0.846071\tvalidation_1-auc:0.839277\n",
      "[106]\tvalidation_0-auc:0.846518\tvalidation_1-auc:0.839309\n",
      "[107]\tvalidation_0-auc:0.846688\tvalidation_1-auc:0.839375\n",
      "[108]\tvalidation_0-auc:0.846749\tvalidation_1-auc:0.839657\n",
      "[109]\tvalidation_0-auc:0.846866\tvalidation_1-auc:0.839750\n",
      "[110]\tvalidation_0-auc:0.846956\tvalidation_1-auc:0.839837\n",
      "[111]\tvalidation_0-auc:0.847032\tvalidation_1-auc:0.839918\n",
      "[112]\tvalidation_0-auc:0.847135\tvalidation_1-auc:0.839895\n",
      "[113]\tvalidation_0-auc:0.847211\tvalidation_1-auc:0.839934\n",
      "[114]\tvalidation_0-auc:0.847321\tvalidation_1-auc:0.839913\n",
      "[115]\tvalidation_0-auc:0.847461\tvalidation_1-auc:0.839950\n",
      "[116]\tvalidation_0-auc:0.847598\tvalidation_1-auc:0.840005\n",
      "[117]\tvalidation_0-auc:0.847711\tvalidation_1-auc:0.840093\n",
      "[118]\tvalidation_0-auc:0.847737\tvalidation_1-auc:0.840174\n",
      "[119]\tvalidation_0-auc:0.847925\tvalidation_1-auc:0.840087\n",
      "[120]\tvalidation_0-auc:0.847994\tvalidation_1-auc:0.840058\n",
      "[121]\tvalidation_0-auc:0.848158\tvalidation_1-auc:0.840100\n",
      "[122]\tvalidation_0-auc:0.848320\tvalidation_1-auc:0.840263\n",
      "[123]\tvalidation_0-auc:0.848422\tvalidation_1-auc:0.840236\n",
      "[124]\tvalidation_0-auc:0.848728\tvalidation_1-auc:0.840300\n",
      "[125]\tvalidation_0-auc:0.848793\tvalidation_1-auc:0.840295\n",
      "[126]\tvalidation_0-auc:0.849049\tvalidation_1-auc:0.840465\n",
      "[127]\tvalidation_0-auc:0.849278\tvalidation_1-auc:0.840509\n",
      "[128]\tvalidation_0-auc:0.849305\tvalidation_1-auc:0.840571\n",
      "[129]\tvalidation_0-auc:0.849476\tvalidation_1-auc:0.840604\n",
      "[130]\tvalidation_0-auc:0.849545\tvalidation_1-auc:0.840620\n",
      "[131]\tvalidation_0-auc:0.849650\tvalidation_1-auc:0.840687\n",
      "[132]\tvalidation_0-auc:0.849750\tvalidation_1-auc:0.840808\n",
      "[133]\tvalidation_0-auc:0.849880\tvalidation_1-auc:0.840831\n",
      "[134]\tvalidation_0-auc:0.850031\tvalidation_1-auc:0.840977\n",
      "[135]\tvalidation_0-auc:0.850281\tvalidation_1-auc:0.841098\n",
      "[136]\tvalidation_0-auc:0.850314\tvalidation_1-auc:0.841094\n",
      "[137]\tvalidation_0-auc:0.850330\tvalidation_1-auc:0.841173\n",
      "[138]\tvalidation_0-auc:0.850363\tvalidation_1-auc:0.841253\n",
      "[139]\tvalidation_0-auc:0.850485\tvalidation_1-auc:0.841243\n",
      "[140]\tvalidation_0-auc:0.850713\tvalidation_1-auc:0.841275\n",
      "[141]\tvalidation_0-auc:0.850772\tvalidation_1-auc:0.841256\n",
      "[142]\tvalidation_0-auc:0.850820\tvalidation_1-auc:0.841236\n",
      "[143]\tvalidation_0-auc:0.850863\tvalidation_1-auc:0.841259\n",
      "[144]\tvalidation_0-auc:0.850937\tvalidation_1-auc:0.841376\n",
      "[145]\tvalidation_0-auc:0.850967\tvalidation_1-auc:0.841374\n",
      "[146]\tvalidation_0-auc:0.851064\tvalidation_1-auc:0.841435\n",
      "[147]\tvalidation_0-auc:0.851249\tvalidation_1-auc:0.841532\n",
      "[148]\tvalidation_0-auc:0.851332\tvalidation_1-auc:0.841529\n",
      "[149]\tvalidation_0-auc:0.851394\tvalidation_1-auc:0.841558\n",
      "[150]\tvalidation_0-auc:0.851556\tvalidation_1-auc:0.841541\n",
      "[151]\tvalidation_0-auc:0.851834\tvalidation_1-auc:0.841516\n",
      "[152]\tvalidation_0-auc:0.851881\tvalidation_1-auc:0.841432\n",
      "[153]\tvalidation_0-auc:0.851995\tvalidation_1-auc:0.841471\n",
      "[154]\tvalidation_0-auc:0.852053\tvalidation_1-auc:0.841476\n",
      "[155]\tvalidation_0-auc:0.852145\tvalidation_1-auc:0.841497\n",
      "[156]\tvalidation_0-auc:0.852254\tvalidation_1-auc:0.841457\n",
      "[157]\tvalidation_0-auc:0.852351\tvalidation_1-auc:0.841474\n",
      "[158]\tvalidation_0-auc:0.852413\tvalidation_1-auc:0.841526\n",
      "[159]\tvalidation_0-auc:0.852467\tvalidation_1-auc:0.841552\n",
      "[160]\tvalidation_0-auc:0.852590\tvalidation_1-auc:0.841577\n",
      "[161]\tvalidation_0-auc:0.852735\tvalidation_1-auc:0.841597\n",
      "[162]\tvalidation_0-auc:0.852859\tvalidation_1-auc:0.841636\n",
      "[163]\tvalidation_0-auc:0.852904\tvalidation_1-auc:0.841619\n",
      "[164]\tvalidation_0-auc:0.853075\tvalidation_1-auc:0.841626\n",
      "[165]\tvalidation_0-auc:0.853161\tvalidation_1-auc:0.841657\n",
      "[166]\tvalidation_0-auc:0.853242\tvalidation_1-auc:0.841624\n",
      "[167]\tvalidation_0-auc:0.853338\tvalidation_1-auc:0.841663\n",
      "[168]\tvalidation_0-auc:0.853467\tvalidation_1-auc:0.841686\n",
      "[169]\tvalidation_0-auc:0.853513\tvalidation_1-auc:0.841675\n",
      "[170]\tvalidation_0-auc:0.853590\tvalidation_1-auc:0.841650\n",
      "[171]\tvalidation_0-auc:0.853755\tvalidation_1-auc:0.841730\n",
      "[172]\tvalidation_0-auc:0.853844\tvalidation_1-auc:0.841743\n",
      "[173]\tvalidation_0-auc:0.853915\tvalidation_1-auc:0.841790\n",
      "[174]\tvalidation_0-auc:0.853974\tvalidation_1-auc:0.841802\n",
      "[175]\tvalidation_0-auc:0.854019\tvalidation_1-auc:0.841812\n",
      "[176]\tvalidation_0-auc:0.854116\tvalidation_1-auc:0.841861\n",
      "[177]\tvalidation_0-auc:0.854207\tvalidation_1-auc:0.841914\n",
      "[178]\tvalidation_0-auc:0.854271\tvalidation_1-auc:0.841912\n",
      "[179]\tvalidation_0-auc:0.854352\tvalidation_1-auc:0.841939\n",
      "[180]\tvalidation_0-auc:0.854475\tvalidation_1-auc:0.841919\n",
      "[181]\tvalidation_0-auc:0.854553\tvalidation_1-auc:0.841985\n",
      "[182]\tvalidation_0-auc:0.854565\tvalidation_1-auc:0.841949\n",
      "[183]\tvalidation_0-auc:0.854696\tvalidation_1-auc:0.841978\n",
      "[184]\tvalidation_0-auc:0.854739\tvalidation_1-auc:0.841967\n",
      "[185]\tvalidation_0-auc:0.854887\tvalidation_1-auc:0.841980\n",
      "[186]\tvalidation_0-auc:0.855004\tvalidation_1-auc:0.842021\n",
      "[187]\tvalidation_0-auc:0.855046\tvalidation_1-auc:0.842049\n",
      "[188]\tvalidation_0-auc:0.855091\tvalidation_1-auc:0.842049\n",
      "[189]\tvalidation_0-auc:0.855235\tvalidation_1-auc:0.842034\n",
      "[190]\tvalidation_0-auc:0.855479\tvalidation_1-auc:0.842060\n",
      "[191]\tvalidation_0-auc:0.855544\tvalidation_1-auc:0.842069\n",
      "[192]\tvalidation_0-auc:0.855629\tvalidation_1-auc:0.842078\n",
      "[193]\tvalidation_0-auc:0.855712\tvalidation_1-auc:0.842104\n",
      "[194]\tvalidation_0-auc:0.855879\tvalidation_1-auc:0.842161\n",
      "[195]\tvalidation_0-auc:0.855948\tvalidation_1-auc:0.842180\n",
      "[196]\tvalidation_0-auc:0.856053\tvalidation_1-auc:0.842192\n",
      "[197]\tvalidation_0-auc:0.856079\tvalidation_1-auc:0.842129\n",
      "[198]\tvalidation_0-auc:0.856292\tvalidation_1-auc:0.842120\n",
      "[199]\tvalidation_0-auc:0.856345\tvalidation_1-auc:0.842128\n",
      "[200]\tvalidation_0-auc:0.856422\tvalidation_1-auc:0.842169\n",
      "[201]\tvalidation_0-auc:0.856520\tvalidation_1-auc:0.842146\n",
      "[202]\tvalidation_0-auc:0.856554\tvalidation_1-auc:0.842118\n",
      "[203]\tvalidation_0-auc:0.856613\tvalidation_1-auc:0.842115\n",
      "[204]\tvalidation_0-auc:0.856671\tvalidation_1-auc:0.842087\n",
      "[205]\tvalidation_0-auc:0.856729\tvalidation_1-auc:0.842114\n",
      "[206]\tvalidation_0-auc:0.856741\tvalidation_1-auc:0.842109\n",
      "[207]\tvalidation_0-auc:0.856777\tvalidation_1-auc:0.842137\n",
      "[208]\tvalidation_0-auc:0.856812\tvalidation_1-auc:0.842088\n",
      "[209]\tvalidation_0-auc:0.856827\tvalidation_1-auc:0.842054\n",
      "[210]\tvalidation_0-auc:0.857006\tvalidation_1-auc:0.842123\n",
      "[211]\tvalidation_0-auc:0.857026\tvalidation_1-auc:0.842087\n",
      "[212]\tvalidation_0-auc:0.857076\tvalidation_1-auc:0.842061\n",
      "[213]\tvalidation_0-auc:0.857147\tvalidation_1-auc:0.842081\n",
      "[214]\tvalidation_0-auc:0.857218\tvalidation_1-auc:0.842103\n",
      "[215]\tvalidation_0-auc:0.857279\tvalidation_1-auc:0.842050\n",
      "[216]\tvalidation_0-auc:0.857318\tvalidation_1-auc:0.842051\n",
      "[217]\tvalidation_0-auc:0.857390\tvalidation_1-auc:0.842022\n",
      "[218]\tvalidation_0-auc:0.857489\tvalidation_1-auc:0.842094\n",
      "[219]\tvalidation_0-auc:0.857528\tvalidation_1-auc:0.842108\n",
      "[220]\tvalidation_0-auc:0.857566\tvalidation_1-auc:0.842113\n",
      "[221]\tvalidation_0-auc:0.857653\tvalidation_1-auc:0.842081\n",
      "[222]\tvalidation_0-auc:0.857798\tvalidation_1-auc:0.842212\n",
      "[223]\tvalidation_0-auc:0.857902\tvalidation_1-auc:0.842236\n",
      "[224]\tvalidation_0-auc:0.857940\tvalidation_1-auc:0.842220\n",
      "[225]\tvalidation_0-auc:0.857982\tvalidation_1-auc:0.842168\n",
      "[226]\tvalidation_0-auc:0.858027\tvalidation_1-auc:0.842161\n",
      "[227]\tvalidation_0-auc:0.858105\tvalidation_1-auc:0.842299\n",
      "[228]\tvalidation_0-auc:0.858127\tvalidation_1-auc:0.842307\n",
      "[229]\tvalidation_0-auc:0.858207\tvalidation_1-auc:0.842285\n",
      "[230]\tvalidation_0-auc:0.858251\tvalidation_1-auc:0.842267\n",
      "[231]\tvalidation_0-auc:0.858260\tvalidation_1-auc:0.842261\n",
      "[232]\tvalidation_0-auc:0.858295\tvalidation_1-auc:0.842206\n",
      "[233]\tvalidation_0-auc:0.858344\tvalidation_1-auc:0.842210\n",
      "[234]\tvalidation_0-auc:0.858374\tvalidation_1-auc:0.842215\n",
      "[235]\tvalidation_0-auc:0.858459\tvalidation_1-auc:0.842236\n",
      "[236]\tvalidation_0-auc:0.858489\tvalidation_1-auc:0.842246\n",
      "[237]\tvalidation_0-auc:0.858562\tvalidation_1-auc:0.842218\n",
      "[238]\tvalidation_0-auc:0.858618\tvalidation_1-auc:0.842184\n",
      "[239]\tvalidation_0-auc:0.858700\tvalidation_1-auc:0.842201\n",
      "[240]\tvalidation_0-auc:0.858800\tvalidation_1-auc:0.842159\n",
      "[241]\tvalidation_0-auc:0.858943\tvalidation_1-auc:0.842158\n",
      "[242]\tvalidation_0-auc:0.858998\tvalidation_1-auc:0.842095\n",
      "[243]\tvalidation_0-auc:0.859080\tvalidation_1-auc:0.842178\n",
      "[244]\tvalidation_0-auc:0.859173\tvalidation_1-auc:0.842244\n",
      "[245]\tvalidation_0-auc:0.859196\tvalidation_1-auc:0.842253\n",
      "[246]\tvalidation_0-auc:0.859247\tvalidation_1-auc:0.842234\n",
      "[247]\tvalidation_0-auc:0.859296\tvalidation_1-auc:0.842292\n",
      "[248]\tvalidation_0-auc:0.859367\tvalidation_1-auc:0.842299\n",
      "[249]\tvalidation_0-auc:0.859536\tvalidation_1-auc:0.842353\n",
      "[250]\tvalidation_0-auc:0.859651\tvalidation_1-auc:0.842404\n",
      "[251]\tvalidation_0-auc:0.859740\tvalidation_1-auc:0.842446\n",
      "[252]\tvalidation_0-auc:0.859812\tvalidation_1-auc:0.842490\n",
      "[253]\tvalidation_0-auc:0.859910\tvalidation_1-auc:0.842443\n",
      "[254]\tvalidation_0-auc:0.859927\tvalidation_1-auc:0.842453\n",
      "[255]\tvalidation_0-auc:0.860004\tvalidation_1-auc:0.842421\n",
      "[256]\tvalidation_0-auc:0.860162\tvalidation_1-auc:0.842358\n",
      "[257]\tvalidation_0-auc:0.860189\tvalidation_1-auc:0.842359\n",
      "[258]\tvalidation_0-auc:0.860266\tvalidation_1-auc:0.842373\n",
      "[259]\tvalidation_0-auc:0.860333\tvalidation_1-auc:0.842378\n",
      "[260]\tvalidation_0-auc:0.860395\tvalidation_1-auc:0.842417\n",
      "[261]\tvalidation_0-auc:0.860468\tvalidation_1-auc:0.842327\n",
      "[262]\tvalidation_0-auc:0.860466\tvalidation_1-auc:0.842344\n",
      "[263]\tvalidation_0-auc:0.860461\tvalidation_1-auc:0.842339\n",
      "[264]\tvalidation_0-auc:0.860550\tvalidation_1-auc:0.842344\n",
      "[265]\tvalidation_0-auc:0.860598\tvalidation_1-auc:0.842338\n",
      "[266]\tvalidation_0-auc:0.860636\tvalidation_1-auc:0.842317\n",
      "[267]\tvalidation_0-auc:0.860697\tvalidation_1-auc:0.842295\n",
      "[268]\tvalidation_0-auc:0.860732\tvalidation_1-auc:0.842326\n",
      "[269]\tvalidation_0-auc:0.860801\tvalidation_1-auc:0.842296\n",
      "[270]\tvalidation_0-auc:0.860814\tvalidation_1-auc:0.842293\n",
      "[271]\tvalidation_0-auc:0.860855\tvalidation_1-auc:0.842355\n",
      "[272]\tvalidation_0-auc:0.860886\tvalidation_1-auc:0.842345\n",
      "[273]\tvalidation_0-auc:0.860979\tvalidation_1-auc:0.842333\n",
      "[274]\tvalidation_0-auc:0.860987\tvalidation_1-auc:0.842319\n",
      "[275]\tvalidation_0-auc:0.861058\tvalidation_1-auc:0.842340\n",
      "[276]\tvalidation_0-auc:0.861091\tvalidation_1-auc:0.842345\n",
      "[277]\tvalidation_0-auc:0.861153\tvalidation_1-auc:0.842382\n",
      "[278]\tvalidation_0-auc:0.861164\tvalidation_1-auc:0.842394\n",
      "[279]\tvalidation_0-auc:0.861217\tvalidation_1-auc:0.842328\n",
      "[280]\tvalidation_0-auc:0.861304\tvalidation_1-auc:0.842313\n",
      "[281]\tvalidation_0-auc:0.861349\tvalidation_1-auc:0.842323\n",
      "[282]\tvalidation_0-auc:0.861398\tvalidation_1-auc:0.842345\n",
      "[283]\tvalidation_0-auc:0.861435\tvalidation_1-auc:0.842370\n",
      "[284]\tvalidation_0-auc:0.861496\tvalidation_1-auc:0.842414\n",
      "[285]\tvalidation_0-auc:0.861506\tvalidation_1-auc:0.842396\n",
      "[286]\tvalidation_0-auc:0.861560\tvalidation_1-auc:0.842377\n",
      "[287]\tvalidation_0-auc:0.861596\tvalidation_1-auc:0.842365\n",
      "[288]\tvalidation_0-auc:0.861643\tvalidation_1-auc:0.842331\n",
      "[289]\tvalidation_0-auc:0.861704\tvalidation_1-auc:0.842333\n",
      "[290]\tvalidation_0-auc:0.861721\tvalidation_1-auc:0.842325\n",
      "[291]\tvalidation_0-auc:0.861828\tvalidation_1-auc:0.842337\n",
      "[292]\tvalidation_0-auc:0.861896\tvalidation_1-auc:0.842335\n",
      "[293]\tvalidation_0-auc:0.861933\tvalidation_1-auc:0.842421\n",
      "[294]\tvalidation_0-auc:0.861994\tvalidation_1-auc:0.842407\n",
      "[295]\tvalidation_0-auc:0.862029\tvalidation_1-auc:0.842442\n",
      "[296]\tvalidation_0-auc:0.862072\tvalidation_1-auc:0.842464\n",
      "[297]\tvalidation_0-auc:0.862164\tvalidation_1-auc:0.842406\n",
      "[298]\tvalidation_0-auc:0.862211\tvalidation_1-auc:0.842399\n",
      "[299]\tvalidation_0-auc:0.862260\tvalidation_1-auc:0.842437\n",
      "[300]\tvalidation_0-auc:0.862316\tvalidation_1-auc:0.842432\n",
      "[301]\tvalidation_0-auc:0.862350\tvalidation_1-auc:0.842525\n",
      "[302]\tvalidation_0-auc:0.862422\tvalidation_1-auc:0.842530\n",
      "[303]\tvalidation_0-auc:0.862501\tvalidation_1-auc:0.842445\n",
      "[304]\tvalidation_0-auc:0.862499\tvalidation_1-auc:0.842432\n",
      "[305]\tvalidation_0-auc:0.862565\tvalidation_1-auc:0.842413\n",
      "[306]\tvalidation_0-auc:0.862625\tvalidation_1-auc:0.842414\n",
      "[307]\tvalidation_0-auc:0.862663\tvalidation_1-auc:0.842460\n",
      "[308]\tvalidation_0-auc:0.862689\tvalidation_1-auc:0.842502\n",
      "[309]\tvalidation_0-auc:0.862727\tvalidation_1-auc:0.842522\n",
      "[310]\tvalidation_0-auc:0.862829\tvalidation_1-auc:0.842522\n",
      "[311]\tvalidation_0-auc:0.862847\tvalidation_1-auc:0.842510\n",
      "[312]\tvalidation_0-auc:0.862876\tvalidation_1-auc:0.842578\n",
      "[313]\tvalidation_0-auc:0.862901\tvalidation_1-auc:0.842587\n",
      "[314]\tvalidation_0-auc:0.862934\tvalidation_1-auc:0.842638\n",
      "[315]\tvalidation_0-auc:0.862957\tvalidation_1-auc:0.842624\n",
      "[316]\tvalidation_0-auc:0.863006\tvalidation_1-auc:0.842645\n",
      "[317]\tvalidation_0-auc:0.863033\tvalidation_1-auc:0.842613\n",
      "[318]\tvalidation_0-auc:0.863054\tvalidation_1-auc:0.842584\n",
      "[319]\tvalidation_0-auc:0.863128\tvalidation_1-auc:0.842616\n",
      "[320]\tvalidation_0-auc:0.863272\tvalidation_1-auc:0.842537\n",
      "[321]\tvalidation_0-auc:0.863329\tvalidation_1-auc:0.842500\n",
      "[322]\tvalidation_0-auc:0.863479\tvalidation_1-auc:0.842445\n",
      "[323]\tvalidation_0-auc:0.863518\tvalidation_1-auc:0.842492\n",
      "[324]\tvalidation_0-auc:0.863553\tvalidation_1-auc:0.842501\n",
      "[325]\tvalidation_0-auc:0.863625\tvalidation_1-auc:0.842540\n",
      "[326]\tvalidation_0-auc:0.863753\tvalidation_1-auc:0.842547\n",
      "[327]\tvalidation_0-auc:0.863792\tvalidation_1-auc:0.842595\n",
      "[328]\tvalidation_0-auc:0.863813\tvalidation_1-auc:0.842585\n",
      "[329]\tvalidation_0-auc:0.863893\tvalidation_1-auc:0.842554\n",
      "[330]\tvalidation_0-auc:0.863913\tvalidation_1-auc:0.842540\n",
      "[331]\tvalidation_0-auc:0.864042\tvalidation_1-auc:0.842450\n",
      "[332]\tvalidation_0-auc:0.864057\tvalidation_1-auc:0.842416\n",
      "[333]\tvalidation_0-auc:0.864073\tvalidation_1-auc:0.842422\n",
      "[334]\tvalidation_0-auc:0.864127\tvalidation_1-auc:0.842417\n",
      "[335]\tvalidation_0-auc:0.864203\tvalidation_1-auc:0.842399\n",
      "[336]\tvalidation_0-auc:0.864230\tvalidation_1-auc:0.842392\n",
      "[337]\tvalidation_0-auc:0.864287\tvalidation_1-auc:0.842395\n",
      "[338]\tvalidation_0-auc:0.864358\tvalidation_1-auc:0.842415\n",
      "[339]\tvalidation_0-auc:0.864397\tvalidation_1-auc:0.842435\n",
      "[340]\tvalidation_0-auc:0.864513\tvalidation_1-auc:0.842388\n",
      "[341]\tvalidation_0-auc:0.864554\tvalidation_1-auc:0.842361\n",
      "[342]\tvalidation_0-auc:0.864609\tvalidation_1-auc:0.842399\n",
      "[343]\tvalidation_0-auc:0.864778\tvalidation_1-auc:0.842401\n",
      "[344]\tvalidation_0-auc:0.864821\tvalidation_1-auc:0.842431\n",
      "[345]\tvalidation_0-auc:0.864850\tvalidation_1-auc:0.842456\n",
      "[346]\tvalidation_0-auc:0.864886\tvalidation_1-auc:0.842408\n",
      "[347]\tvalidation_0-auc:0.864884\tvalidation_1-auc:0.842398\n",
      "[348]\tvalidation_0-auc:0.865012\tvalidation_1-auc:0.842395\n",
      "[349]\tvalidation_0-auc:0.865028\tvalidation_1-auc:0.842344\n",
      "[350]\tvalidation_0-auc:0.865086\tvalidation_1-auc:0.842413\n",
      "[351]\tvalidation_0-auc:0.865144\tvalidation_1-auc:0.842389\n",
      "[352]\tvalidation_0-auc:0.865189\tvalidation_1-auc:0.842424\n",
      "[353]\tvalidation_0-auc:0.865252\tvalidation_1-auc:0.842364\n",
      "[354]\tvalidation_0-auc:0.865293\tvalidation_1-auc:0.842339\n",
      "[355]\tvalidation_0-auc:0.865310\tvalidation_1-auc:0.842336\n",
      "[356]\tvalidation_0-auc:0.865360\tvalidation_1-auc:0.842318\n",
      "[357]\tvalidation_0-auc:0.865382\tvalidation_1-auc:0.842320\n",
      "[358]\tvalidation_0-auc:0.865445\tvalidation_1-auc:0.842324\n",
      "[359]\tvalidation_0-auc:0.865463\tvalidation_1-auc:0.842308\n",
      "[360]\tvalidation_0-auc:0.865505\tvalidation_1-auc:0.842262\n",
      "[361]\tvalidation_0-auc:0.865541\tvalidation_1-auc:0.842281\n",
      "[362]\tvalidation_0-auc:0.865610\tvalidation_1-auc:0.842319\n",
      "[363]\tvalidation_0-auc:0.865639\tvalidation_1-auc:0.842317\n",
      "[364]\tvalidation_0-auc:0.865662\tvalidation_1-auc:0.842306\n",
      "[365]\tvalidation_0-auc:0.865744\tvalidation_1-auc:0.842265\n",
      "[366]\tvalidation_0-auc:0.865764\tvalidation_1-auc:0.842291\n"
     ]
    },
    {
     "name": "stdout",
     "output_type": "stream",
     "text": [
      "('Overall AUC:', 0.85484214522882274)\n"
     ]
    },
    {
     "name": "stderr",
     "output_type": "stream",
     "text": [
      "Stopping. Best iteration:\n",
      "[316]\tvalidation_0-auc:0.863006\tvalidation_1-auc:0.842645\n",
      "\n"
     ]
    }
   ],
   "source": [
    "from sklearn.metrics import roc_auc_score\n",
    "clf = xgb.XGBClassifier(missing=9999999999,\n",
    "                max_depth = 5,\n",
    "                n_estimators=1000,\n",
    "                learning_rate=0.1, \n",
    "                nthread=4,\n",
    "                subsample=1.0,\n",
    "                colsample_bytree=0.5,\n",
    "                min_child_weight = 3,\n",
    "                scale_pos_weight = ratio,\n",
    "                reg_alpha=0.03,\n",
    "                seed=1301)\n",
    "                \n",
    "clf.fit(X_train, y_train, early_stopping_rounds=50, eval_metric=\"auc\",\n",
    "        eval_set=[(X_train, y_train), (X_test, y_test)])\n",
    "        \n",
    "print('Overall AUC:', roc_auc_score(labels, clf.predict_proba(train, ntree_limit=clf.best_iteration)[:,1]))"
   ]
  },
  {
   "cell_type": "code",
   "execution_count": 116,
   "metadata": {
    "collapsed": true
   },
   "outputs": [],
   "source": [
    "y_pred = clf.predict_proba(test, ntree_limit=clf.best_iteration)"
   ]
  },
  {
   "cell_type": "code",
   "execution_count": 111,
   "metadata": {
    "collapsed": true
   },
   "outputs": [],
   "source": [
    "submit(y_pred)"
   ]
  },
  {
   "cell_type": "code",
   "execution_count": null,
   "metadata": {
    "collapsed": true
   },
   "outputs": [],
   "source": []
  }
 ],
 "metadata": {
  "kernelspec": {
   "display_name": "Python 2",
   "language": "python",
   "name": "python2"
  },
  "language_info": {
   "codemirror_mode": {
    "name": "ipython",
    "version": 2
   },
   "file_extension": ".py",
   "mimetype": "text/x-python",
   "name": "python",
   "nbconvert_exporter": "python",
   "pygments_lexer": "ipython2",
   "version": "2.7.11"
  }
 },
 "nbformat": 4,
 "nbformat_minor": 0
}
